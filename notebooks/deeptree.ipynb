{
 "cells": [
  {
   "cell_type": "code",
   "execution_count": 30,
   "id": "256edf03",
   "metadata": {},
   "outputs": [],
   "source": [
    "import scanpy as sc, numpy as np, pandas as pd\n",
    "sc.settings.verbosity = 3"
   ]
  },
  {
   "cell_type": "markdown",
   "id": "48d9742c",
   "metadata": {},
   "source": [
    "### Full Data"
   ]
  },
  {
   "cell_type": "code",
   "execution_count": 31,
   "id": "af4618df",
   "metadata": {},
   "outputs": [
    {
     "name": "stdout",
     "output_type": "stream",
     "text": [
      "CPU times: user 6.16 s, sys: 19.9 s, total: 26.1 s\n",
      "Wall time: 28.3 s\n"
     ]
    },
    {
     "data": {
      "text/plain": [
       "AnnData object with n_obs × n_vars = 2340396 × 36601\n",
       "    obs: 'batch', 'harmonized_celltype', 'donor', 'Sample', 'nCount_RNA', 'nFeature_RNA', 'Cell_type', 'Subcategory', 'barcode', 'celltype', 'donor_id', 'sample_uuid', 'library_uuid', 'cell_type_ontology_term_id', 'author_cell_type', 'doublet_id', 'cell_type', 'assay', 'sex', 'tissue', 'development_stage', 'Patient', 'cancer', 'CD45', 'Stage annotations', 'Grade annotations', 'file integrity', 'orig.ident', 'seurat_clusters', 'patient', 'gene_clustering', 'l', 'original_seurat_clusters', 'CN_Column', 'anno', 'cluster', 'doublet_score', 'gene_per_1kUMI', 'label', 'no_genes', 'no_genes_log10', 'pct_MT', 'sample', 'total_UMI', 'Project_ID', 'percent.mt', 'percent.ribo', 'integrated_snn_res.0.2', 'SNV_GT', 'stim', 'ident', 'Suffix', 'type', 'region', 'Sample2', 'cluster_name', 'UMAP1', 'UMAP2', 'Sample_name'"
      ]
     },
     "execution_count": 31,
     "metadata": {},
     "output_type": "execute_result"
    }
   ],
   "source": [
    "%%time\n",
    "\n",
    "adata = sc.read_h5ad(\"../data/Kidney_Combined_cellbender_v2.h5ad\")\n",
    "columns_to_drop = [col for col in adata.obs.columns if \"RNA_snn\" in col or \"_prob\" in col]\n",
    "adata.obs.drop(columns=columns_to_drop, inplace=True)\n",
    "adata"
   ]
  },
  {
   "cell_type": "code",
   "execution_count": 4,
   "id": "4b0eb366",
   "metadata": {},
   "outputs": [
    {
     "name": "stdout",
     "output_type": "stream",
     "text": [
      "filtered out 364830 cells that have less than 1 genes expressed\n",
      "filtered out 2464 genes that are detected in less than 1 counts\n"
     ]
    }
   ],
   "source": [
    "sc.pp.filter_cells(adata, min_genes=1)\n",
    "sc.pp.filter_genes(adata, min_counts=1)"
   ]
  },
  {
   "cell_type": "code",
   "execution_count": 6,
   "id": "7e42ca42",
   "metadata": {},
   "outputs": [
    {
     "data": {
      "text/html": [
       "<div>\n",
       "<style scoped>\n",
       "    .dataframe tbody tr th:only-of-type {\n",
       "        vertical-align: middle;\n",
       "    }\n",
       "\n",
       "    .dataframe tbody tr th {\n",
       "        vertical-align: top;\n",
       "    }\n",
       "\n",
       "    .dataframe thead th {\n",
       "        text-align: right;\n",
       "    }\n",
       "</style>\n",
       "<table border=\"1\" class=\"dataframe\">\n",
       "  <thead>\n",
       "    <tr style=\"text-align: right;\">\n",
       "      <th></th>\n",
       "      <th>n_counts</th>\n",
       "    </tr>\n",
       "  </thead>\n",
       "  <tbody>\n",
       "    <tr>\n",
       "      <th>MIR1302-2HG</th>\n",
       "      <td>350.0</td>\n",
       "    </tr>\n",
       "    <tr>\n",
       "      <th>FAM138A</th>\n",
       "      <td>2.0</td>\n",
       "    </tr>\n",
       "    <tr>\n",
       "      <th>OR4F5</th>\n",
       "      <td>19.0</td>\n",
       "    </tr>\n",
       "    <tr>\n",
       "      <th>AL627309.1</th>\n",
       "      <td>17495.0</td>\n",
       "    </tr>\n",
       "    <tr>\n",
       "      <th>AL627309.2</th>\n",
       "      <td>118.0</td>\n",
       "    </tr>\n",
       "    <tr>\n",
       "      <th>...</th>\n",
       "      <td>...</td>\n",
       "    </tr>\n",
       "    <tr>\n",
       "      <th>AC141272.1</th>\n",
       "      <td>400.0</td>\n",
       "    </tr>\n",
       "    <tr>\n",
       "      <th>AC023491.2</th>\n",
       "      <td>101.0</td>\n",
       "    </tr>\n",
       "    <tr>\n",
       "      <th>AC007325.1</th>\n",
       "      <td>101.0</td>\n",
       "    </tr>\n",
       "    <tr>\n",
       "      <th>AC007325.4</th>\n",
       "      <td>25613.0</td>\n",
       "    </tr>\n",
       "    <tr>\n",
       "      <th>AC007325.2</th>\n",
       "      <td>10332.0</td>\n",
       "    </tr>\n",
       "  </tbody>\n",
       "</table>\n",
       "<p>34137 rows × 1 columns</p>\n",
       "</div>"
      ],
      "text/plain": [
       "             n_counts\n",
       "MIR1302-2HG     350.0\n",
       "FAM138A           2.0\n",
       "OR4F5            19.0\n",
       "AL627309.1    17495.0\n",
       "AL627309.2      118.0\n",
       "...               ...\n",
       "AC141272.1      400.0\n",
       "AC023491.2      101.0\n",
       "AC007325.1      101.0\n",
       "AC007325.4    25613.0\n",
       "AC007325.2    10332.0\n",
       "\n",
       "[34137 rows x 1 columns]"
      ]
     },
     "execution_count": 6,
     "metadata": {},
     "output_type": "execute_result"
    }
   ],
   "source": [
    "adata.var"
   ]
  },
  {
   "cell_type": "code",
   "execution_count": 9,
   "id": "23714057",
   "metadata": {},
   "outputs": [
    {
     "data": {
      "text/html": [
       "<div>\n",
       "<style scoped>\n",
       "    .dataframe tbody tr th:only-of-type {\n",
       "        vertical-align: middle;\n",
       "    }\n",
       "\n",
       "    .dataframe tbody tr th {\n",
       "        vertical-align: top;\n",
       "    }\n",
       "\n",
       "    .dataframe thead th {\n",
       "        text-align: right;\n",
       "    }\n",
       "</style>\n",
       "<table border=\"1\" class=\"dataframe\">\n",
       "  <thead>\n",
       "    <tr style=\"text-align: right;\">\n",
       "      <th></th>\n",
       "      <th>0</th>\n",
       "      <th>1</th>\n",
       "      <th>2</th>\n",
       "      <th>3</th>\n",
       "      <th>4</th>\n",
       "      <th>5</th>\n",
       "      <th>6</th>\n",
       "      <th>7</th>\n",
       "      <th>8</th>\n",
       "      <th>9</th>\n",
       "      <th>...</th>\n",
       "      <th>8711</th>\n",
       "      <th>8712</th>\n",
       "      <th>8713</th>\n",
       "      <th>8714</th>\n",
       "      <th>8715</th>\n",
       "      <th>8716</th>\n",
       "      <th>8717</th>\n",
       "      <th>8718</th>\n",
       "      <th>8719</th>\n",
       "      <th>8720</th>\n",
       "    </tr>\n",
       "  </thead>\n",
       "  <tbody>\n",
       "    <tr>\n",
       "      <th>Rajigenes</th>\n",
       "      <td>HES4</td>\n",
       "      <td>ISG15</td>\n",
       "      <td>TNFRSF18</td>\n",
       "      <td>TNFRSF4</td>\n",
       "      <td>SCNN1D</td>\n",
       "      <td>MXRA8</td>\n",
       "      <td>AURKAIP1</td>\n",
       "      <td>AL391244.2</td>\n",
       "      <td>VWA1</td>\n",
       "      <td>TMEM240</td>\n",
       "      <td>...</td>\n",
       "      <td>NaN</td>\n",
       "      <td>NaN</td>\n",
       "      <td>NaN</td>\n",
       "      <td>NaN</td>\n",
       "      <td>NaN</td>\n",
       "      <td>NaN</td>\n",
       "      <td>NaN</td>\n",
       "      <td>NaN</td>\n",
       "      <td>NaN</td>\n",
       "      <td>NaN</td>\n",
       "    </tr>\n",
       "    <tr>\n",
       "      <th>WuMutoWilsongenes</th>\n",
       "      <td>LINC02593</td>\n",
       "      <td>SAMD11</td>\n",
       "      <td>HES4</td>\n",
       "      <td>ISG15</td>\n",
       "      <td>PUSL1</td>\n",
       "      <td>CPTP</td>\n",
       "      <td>MXRA8</td>\n",
       "      <td>AURKAIP1</td>\n",
       "      <td>MRPL20-AS1</td>\n",
       "      <td>VWA1</td>\n",
       "      <td>...</td>\n",
       "      <td>NaN</td>\n",
       "      <td>NaN</td>\n",
       "      <td>NaN</td>\n",
       "      <td>NaN</td>\n",
       "      <td>NaN</td>\n",
       "      <td>NaN</td>\n",
       "      <td>NaN</td>\n",
       "      <td>NaN</td>\n",
       "      <td>NaN</td>\n",
       "      <td>NaN</td>\n",
       "    </tr>\n",
       "    <tr>\n",
       "      <th>BenUnpublishedgenes</th>\n",
       "      <td>HES4</td>\n",
       "      <td>TNFRSF4</td>\n",
       "      <td>MXRA8</td>\n",
       "      <td>VWA1</td>\n",
       "      <td>TNFRSF9</td>\n",
       "      <td>SLC2A5</td>\n",
       "      <td>RBP7</td>\n",
       "      <td>AL139423.1</td>\n",
       "      <td>TNFRSF1B</td>\n",
       "      <td>PDPN</td>\n",
       "      <td>...</td>\n",
       "      <td>NaN</td>\n",
       "      <td>NaN</td>\n",
       "      <td>NaN</td>\n",
       "      <td>NaN</td>\n",
       "      <td>NaN</td>\n",
       "      <td>NaN</td>\n",
       "      <td>NaN</td>\n",
       "      <td>NaN</td>\n",
       "      <td>NaN</td>\n",
       "      <td>NaN</td>\n",
       "    </tr>\n",
       "    <tr>\n",
       "      <th>BenPublishedgenes</th>\n",
       "      <td>HES4</td>\n",
       "      <td>ISG15</td>\n",
       "      <td>B3GALT6</td>\n",
       "      <td>DVL1</td>\n",
       "      <td>MXRA8</td>\n",
       "      <td>MRPL20-AS1</td>\n",
       "      <td>ANKRD65</td>\n",
       "      <td>VWA1</td>\n",
       "      <td>ATAD3C</td>\n",
       "      <td>AL691432.2</td>\n",
       "      <td>...</td>\n",
       "      <td>NaN</td>\n",
       "      <td>NaN</td>\n",
       "      <td>NaN</td>\n",
       "      <td>NaN</td>\n",
       "      <td>NaN</td>\n",
       "      <td>NaN</td>\n",
       "      <td>NaN</td>\n",
       "      <td>NaN</td>\n",
       "      <td>NaN</td>\n",
       "      <td>NaN</td>\n",
       "    </tr>\n",
       "    <tr>\n",
       "      <th>Liaogenes</th>\n",
       "      <td>TNFRSF1B</td>\n",
       "      <td>KAZN</td>\n",
       "      <td>SRARP</td>\n",
       "      <td>CROCC</td>\n",
       "      <td>ARHGEF10L</td>\n",
       "      <td>HSPG2</td>\n",
       "      <td>C1QA</td>\n",
       "      <td>C1QC</td>\n",
       "      <td>C1QB</td>\n",
       "      <td>ID3</td>\n",
       "      <td>...</td>\n",
       "      <td>NaN</td>\n",
       "      <td>NaN</td>\n",
       "      <td>NaN</td>\n",
       "      <td>NaN</td>\n",
       "      <td>NaN</td>\n",
       "      <td>NaN</td>\n",
       "      <td>NaN</td>\n",
       "      <td>NaN</td>\n",
       "      <td>NaN</td>\n",
       "      <td>NaN</td>\n",
       "    </tr>\n",
       "    <tr>\n",
       "      <th>Malonegenes</th>\n",
       "      <td>HES4</td>\n",
       "      <td>ISG15</td>\n",
       "      <td>TNFRSF18</td>\n",
       "      <td>MXRA8</td>\n",
       "      <td>VWA1</td>\n",
       "      <td>MMP23B</td>\n",
       "      <td>PRDM16-DT</td>\n",
       "      <td>KCNAB2</td>\n",
       "      <td>TNFRSF9</td>\n",
       "      <td>ERRFI1</td>\n",
       "      <td>...</td>\n",
       "      <td>NaN</td>\n",
       "      <td>NaN</td>\n",
       "      <td>NaN</td>\n",
       "      <td>NaN</td>\n",
       "      <td>NaN</td>\n",
       "      <td>NaN</td>\n",
       "      <td>NaN</td>\n",
       "      <td>NaN</td>\n",
       "      <td>NaN</td>\n",
       "      <td>NaN</td>\n",
       "    </tr>\n",
       "    <tr>\n",
       "      <th>Krishnagenes</th>\n",
       "      <td>HES4</td>\n",
       "      <td>ISG15</td>\n",
       "      <td>MXRA8</td>\n",
       "      <td>VWA1</td>\n",
       "      <td>PLCH2</td>\n",
       "      <td>PRDM16-DT</td>\n",
       "      <td>PRDM16</td>\n",
       "      <td>ARHGEF16</td>\n",
       "      <td>ESPN</td>\n",
       "      <td>PLEKHG5</td>\n",
       "      <td>...</td>\n",
       "      <td>NaN</td>\n",
       "      <td>NaN</td>\n",
       "      <td>NaN</td>\n",
       "      <td>NaN</td>\n",
       "      <td>NaN</td>\n",
       "      <td>NaN</td>\n",
       "      <td>NaN</td>\n",
       "      <td>NaN</td>\n",
       "      <td>NaN</td>\n",
       "      <td>NaN</td>\n",
       "    </tr>\n",
       "    <tr>\n",
       "      <th>Krebsgenes</th>\n",
       "      <td>HES4</td>\n",
       "      <td>C1QTNF12</td>\n",
       "      <td>MXRA8</td>\n",
       "      <td>ATAD3C</td>\n",
       "      <td>CFAP74</td>\n",
       "      <td>SMIM1</td>\n",
       "      <td>VAMP3</td>\n",
       "      <td>UTS2</td>\n",
       "      <td>TNFRSF9</td>\n",
       "      <td>ENO1-AS1</td>\n",
       "      <td>...</td>\n",
       "      <td>NaN</td>\n",
       "      <td>NaN</td>\n",
       "      <td>NaN</td>\n",
       "      <td>NaN</td>\n",
       "      <td>NaN</td>\n",
       "      <td>NaN</td>\n",
       "      <td>NaN</td>\n",
       "      <td>NaN</td>\n",
       "      <td>NaN</td>\n",
       "      <td>NaN</td>\n",
       "    </tr>\n",
       "    <tr>\n",
       "      <th>Obradovicgenes</th>\n",
       "      <td>AL627309.1</td>\n",
       "      <td>AL627309.5</td>\n",
       "      <td>SAMD11</td>\n",
       "      <td>HES4</td>\n",
       "      <td>ISG15</td>\n",
       "      <td>RNF223</td>\n",
       "      <td>TNFRSF4</td>\n",
       "      <td>MXRA8</td>\n",
       "      <td>VWA1</td>\n",
       "      <td>ATAD3C</td>\n",
       "      <td>...</td>\n",
       "      <td>NaN</td>\n",
       "      <td>NaN</td>\n",
       "      <td>NaN</td>\n",
       "      <td>NaN</td>\n",
       "      <td>NaN</td>\n",
       "      <td>NaN</td>\n",
       "      <td>NaN</td>\n",
       "      <td>NaN</td>\n",
       "      <td>NaN</td>\n",
       "      <td>NaN</td>\n",
       "    </tr>\n",
       "    <tr>\n",
       "      <th>Suriawanshygenes</th>\n",
       "      <td>AL627309.5</td>\n",
       "      <td>LINC00115</td>\n",
       "      <td>HES4</td>\n",
       "      <td>ISG15</td>\n",
       "      <td>LINC01786</td>\n",
       "      <td>MXRA8</td>\n",
       "      <td>VWA1</td>\n",
       "      <td>TMEM52</td>\n",
       "      <td>PRDM16-DT</td>\n",
       "      <td>ARHGEF16</td>\n",
       "      <td>...</td>\n",
       "      <td>NaN</td>\n",
       "      <td>NaN</td>\n",
       "      <td>NaN</td>\n",
       "      <td>NaN</td>\n",
       "      <td>NaN</td>\n",
       "      <td>NaN</td>\n",
       "      <td>NaN</td>\n",
       "      <td>NaN</td>\n",
       "      <td>NaN</td>\n",
       "      <td>NaN</td>\n",
       "    </tr>\n",
       "    <tr>\n",
       "      <th>Zhanggenes</th>\n",
       "      <td>LINC01128</td>\n",
       "      <td>LINC00115</td>\n",
       "      <td>LINC02593</td>\n",
       "      <td>HES4</td>\n",
       "      <td>ISG15</td>\n",
       "      <td>RNF223</td>\n",
       "      <td>TNFRSF18</td>\n",
       "      <td>TNFRSF4</td>\n",
       "      <td>B3GALT6</td>\n",
       "      <td>C1QTNF12</td>\n",
       "      <td>...</td>\n",
       "      <td>PCDH11Y</td>\n",
       "      <td>PRKY</td>\n",
       "      <td>TMSB4Y</td>\n",
       "      <td>NLGN4Y</td>\n",
       "      <td>AC010889.2</td>\n",
       "      <td>TTTY10</td>\n",
       "      <td>LINC00266-4P</td>\n",
       "      <td>AC011043.1</td>\n",
       "      <td>AC240274.1</td>\n",
       "      <td>AC007325.4</td>\n",
       "    </tr>\n",
       "  </tbody>\n",
       "</table>\n",
       "<p>11 rows × 8721 columns</p>\n",
       "</div>"
      ],
      "text/plain": [
       "                              0           1          2        3          4  \\\n",
       "Rajigenes                  HES4       ISG15   TNFRSF18  TNFRSF4     SCNN1D   \n",
       "WuMutoWilsongenes     LINC02593      SAMD11       HES4    ISG15      PUSL1   \n",
       "BenUnpublishedgenes        HES4     TNFRSF4      MXRA8     VWA1    TNFRSF9   \n",
       "BenPublishedgenes          HES4       ISG15    B3GALT6     DVL1      MXRA8   \n",
       "Liaogenes              TNFRSF1B        KAZN      SRARP    CROCC  ARHGEF10L   \n",
       "Malonegenes                HES4       ISG15   TNFRSF18    MXRA8       VWA1   \n",
       "Krishnagenes               HES4       ISG15      MXRA8     VWA1      PLCH2   \n",
       "Krebsgenes                 HES4    C1QTNF12      MXRA8   ATAD3C     CFAP74   \n",
       "Obradovicgenes       AL627309.1  AL627309.5     SAMD11     HES4      ISG15   \n",
       "Suriawanshygenes     AL627309.5   LINC00115       HES4    ISG15  LINC01786   \n",
       "Zhanggenes            LINC01128   LINC00115  LINC02593     HES4      ISG15   \n",
       "\n",
       "                              5          6           7           8  \\\n",
       "Rajigenes                 MXRA8   AURKAIP1  AL391244.2        VWA1   \n",
       "WuMutoWilsongenes          CPTP      MXRA8    AURKAIP1  MRPL20-AS1   \n",
       "BenUnpublishedgenes      SLC2A5       RBP7  AL139423.1    TNFRSF1B   \n",
       "BenPublishedgenes    MRPL20-AS1    ANKRD65        VWA1      ATAD3C   \n",
       "Liaogenes                 HSPG2       C1QA        C1QC        C1QB   \n",
       "Malonegenes              MMP23B  PRDM16-DT      KCNAB2     TNFRSF9   \n",
       "Krishnagenes          PRDM16-DT     PRDM16    ARHGEF16        ESPN   \n",
       "Krebsgenes                SMIM1      VAMP3        UTS2     TNFRSF9   \n",
       "Obradovicgenes           RNF223    TNFRSF4       MXRA8        VWA1   \n",
       "Suriawanshygenes          MXRA8       VWA1      TMEM52   PRDM16-DT   \n",
       "Zhanggenes               RNF223   TNFRSF18     TNFRSF4     B3GALT6   \n",
       "\n",
       "                              9  ...     8711  8712    8713    8714  \\\n",
       "Rajigenes               TMEM240  ...      NaN   NaN     NaN     NaN   \n",
       "WuMutoWilsongenes          VWA1  ...      NaN   NaN     NaN     NaN   \n",
       "BenUnpublishedgenes        PDPN  ...      NaN   NaN     NaN     NaN   \n",
       "BenPublishedgenes    AL691432.2  ...      NaN   NaN     NaN     NaN   \n",
       "Liaogenes                   ID3  ...      NaN   NaN     NaN     NaN   \n",
       "Malonegenes              ERRFI1  ...      NaN   NaN     NaN     NaN   \n",
       "Krishnagenes            PLEKHG5  ...      NaN   NaN     NaN     NaN   \n",
       "Krebsgenes             ENO1-AS1  ...      NaN   NaN     NaN     NaN   \n",
       "Obradovicgenes           ATAD3C  ...      NaN   NaN     NaN     NaN   \n",
       "Suriawanshygenes       ARHGEF16  ...      NaN   NaN     NaN     NaN   \n",
       "Zhanggenes             C1QTNF12  ...  PCDH11Y  PRKY  TMSB4Y  NLGN4Y   \n",
       "\n",
       "                           8715    8716          8717        8718        8719  \\\n",
       "Rajigenes                   NaN     NaN           NaN         NaN         NaN   \n",
       "WuMutoWilsongenes           NaN     NaN           NaN         NaN         NaN   \n",
       "BenUnpublishedgenes         NaN     NaN           NaN         NaN         NaN   \n",
       "BenPublishedgenes           NaN     NaN           NaN         NaN         NaN   \n",
       "Liaogenes                   NaN     NaN           NaN         NaN         NaN   \n",
       "Malonegenes                 NaN     NaN           NaN         NaN         NaN   \n",
       "Krishnagenes                NaN     NaN           NaN         NaN         NaN   \n",
       "Krebsgenes                  NaN     NaN           NaN         NaN         NaN   \n",
       "Obradovicgenes              NaN     NaN           NaN         NaN         NaN   \n",
       "Suriawanshygenes            NaN     NaN           NaN         NaN         NaN   \n",
       "Zhanggenes           AC010889.2  TTTY10  LINC00266-4P  AC011043.1  AC240274.1   \n",
       "\n",
       "                           8720  \n",
       "Rajigenes                   NaN  \n",
       "WuMutoWilsongenes           NaN  \n",
       "BenUnpublishedgenes         NaN  \n",
       "BenPublishedgenes           NaN  \n",
       "Liaogenes                   NaN  \n",
       "Malonegenes                 NaN  \n",
       "Krishnagenes                NaN  \n",
       "Krebsgenes                  NaN  \n",
       "Obradovicgenes              NaN  \n",
       "Suriawanshygenes            NaN  \n",
       "Zhanggenes           AC007325.4  \n",
       "\n",
       "[11 rows x 8721 columns]"
      ]
     },
     "execution_count": 9,
     "metadata": {},
     "output_type": "execute_result"
    }
   ],
   "source": [
    "deeptree_df = pd.read_csv(\"../data/Deep_genelists_1.csv\", index_col=0)\n",
    "deeptree_df"
   ]
  },
  {
   "cell_type": "code",
   "execution_count": 15,
   "id": "f3914ee6",
   "metadata": {},
   "outputs": [
    {
     "data": {
      "text/plain": [
       "array([['HES4', 'ISG15', 'TNFRSF18', ..., nan, nan, nan],\n",
       "       ['LINC02593', 'SAMD11', 'HES4', ..., nan, nan, nan],\n",
       "       ['HES4', 'TNFRSF4', 'MXRA8', ..., nan, nan, nan],\n",
       "       ...,\n",
       "       ['AL627309.1', 'AL627309.5', 'SAMD11', ..., nan, nan, nan],\n",
       "       ['AL627309.5', 'LINC00115', 'HES4', ..., nan, nan, nan],\n",
       "       ['LINC01128', 'LINC00115', 'LINC02593', ..., 'AC011043.1',\n",
       "        'AC240274.1', 'AC007325.4']], dtype=object)"
      ]
     },
     "execution_count": 15,
     "metadata": {},
     "output_type": "execute_result"
    }
   ],
   "source": [
    "deeptree_df.values"
   ]
  },
  {
   "cell_type": "code",
   "execution_count": 17,
   "id": "ceb60891",
   "metadata": {},
   "outputs": [
    {
     "data": {
      "text/plain": [
       "15929"
      ]
     },
     "execution_count": 17,
     "metadata": {},
     "output_type": "execute_result"
    }
   ],
   "source": [
    "len(np.unique(deeptree_df.values.astype(str)))"
   ]
  },
  {
   "cell_type": "code",
   "execution_count": 18,
   "id": "56311ffe",
   "metadata": {},
   "outputs": [],
   "source": [
    "unique_values = np.unique(deeptree_df.values.astype(str))\n",
    "\n",
    "selected_var = adata.var[adata.var.index.isin(unique_values)]"
   ]
  },
  {
   "cell_type": "code",
   "execution_count": 19,
   "id": "4af41ea9",
   "metadata": {},
   "outputs": [
    {
     "data": {
      "text/html": [
       "<div>\n",
       "<style scoped>\n",
       "    .dataframe tbody tr th:only-of-type {\n",
       "        vertical-align: middle;\n",
       "    }\n",
       "\n",
       "    .dataframe tbody tr th {\n",
       "        vertical-align: top;\n",
       "    }\n",
       "\n",
       "    .dataframe thead th {\n",
       "        text-align: right;\n",
       "    }\n",
       "</style>\n",
       "<table border=\"1\" class=\"dataframe\">\n",
       "  <thead>\n",
       "    <tr style=\"text-align: right;\">\n",
       "      <th></th>\n",
       "      <th>n_counts</th>\n",
       "    </tr>\n",
       "  </thead>\n",
       "  <tbody>\n",
       "    <tr>\n",
       "      <th>AL627309.1</th>\n",
       "      <td>17495.0</td>\n",
       "    </tr>\n",
       "    <tr>\n",
       "      <th>AL627309.5</th>\n",
       "      <td>22481.0</td>\n",
       "    </tr>\n",
       "    <tr>\n",
       "      <th>LINC01128</th>\n",
       "      <td>85421.0</td>\n",
       "    </tr>\n",
       "    <tr>\n",
       "      <th>LINC00115</th>\n",
       "      <td>18071.0</td>\n",
       "    </tr>\n",
       "    <tr>\n",
       "      <th>LINC02593</th>\n",
       "      <td>12783.0</td>\n",
       "    </tr>\n",
       "    <tr>\n",
       "      <th>...</th>\n",
       "      <td>...</td>\n",
       "    </tr>\n",
       "    <tr>\n",
       "      <th>AC240274.1</th>\n",
       "      <td>34237.0</td>\n",
       "    </tr>\n",
       "    <tr>\n",
       "      <th>AC233755.2</th>\n",
       "      <td>4010.0</td>\n",
       "    </tr>\n",
       "    <tr>\n",
       "      <th>AC233755.1</th>\n",
       "      <td>12101.0</td>\n",
       "    </tr>\n",
       "    <tr>\n",
       "      <th>AC007325.4</th>\n",
       "      <td>25613.0</td>\n",
       "    </tr>\n",
       "    <tr>\n",
       "      <th>AC007325.2</th>\n",
       "      <td>10332.0</td>\n",
       "    </tr>\n",
       "  </tbody>\n",
       "</table>\n",
       "<p>15885 rows × 1 columns</p>\n",
       "</div>"
      ],
      "text/plain": [
       "            n_counts\n",
       "AL627309.1   17495.0\n",
       "AL627309.5   22481.0\n",
       "LINC01128    85421.0\n",
       "LINC00115    18071.0\n",
       "LINC02593    12783.0\n",
       "...              ...\n",
       "AC240274.1   34237.0\n",
       "AC233755.2    4010.0\n",
       "AC233755.1   12101.0\n",
       "AC007325.4   25613.0\n",
       "AC007325.2   10332.0\n",
       "\n",
       "[15885 rows x 1 columns]"
      ]
     },
     "execution_count": 19,
     "metadata": {},
     "output_type": "execute_result"
    }
   ],
   "source": [
    "selected_var"
   ]
  },
  {
   "cell_type": "code",
   "execution_count": 23,
   "id": "1ac81551",
   "metadata": {},
   "outputs": [
    {
     "data": {
      "text/plain": [
       "View of AnnData object with n_obs × n_vars = 1975566 × 15885\n",
       "    obs: 'batch', 'harmonized_celltype', 'donor', 'Sample', 'nCount_RNA', 'nFeature_RNA', 'Cell_type', 'Subcategory', 'barcode', 'celltype', 'donor_id', 'sample_uuid', 'library_uuid', 'cell_type_ontology_term_id', 'author_cell_type', 'doublet_id', 'cell_type', 'assay', 'sex', 'tissue', 'development_stage', 'Patient', 'cancer', 'CD45', 'Stage annotations', 'Grade annotations', 'file integrity', 'orig.ident', 'seurat_clusters', 'patient', 'gene_clustering', 'l', 'original_seurat_clusters', 'CN_Column', 'anno', 'cluster', 'doublet_score', 'gene_per_1kUMI', 'label', 'no_genes', 'no_genes_log10', 'pct_MT', 'sample', 'total_UMI', 'Project_ID', 'percent.mt', 'percent.ribo', 'integrated_snn_res.0.2', 'SNV_GT', 'stim', 'ident', 'Suffix', 'type', 'region', 'Sample2', 'cluster_name', 'UMAP1', 'UMAP2', 'Sample_name', 'n_genes'\n",
       "    var: 'n_counts'"
      ]
     },
     "execution_count": 23,
     "metadata": {},
     "output_type": "execute_result"
    }
   ],
   "source": [
    "adata = adata[:, adata.var.index.isin(unique_values)]\n",
    "adata"
   ]
  },
  {
   "cell_type": "code",
   "execution_count": 24,
   "id": "2d63bc85",
   "metadata": {},
   "outputs": [
    {
     "name": "stdout",
     "output_type": "stream",
     "text": [
      "Deep_genelists_1.csv\r\n",
      "Kidney_Combined_cellbender.h5ad\r\n",
      "Kidney_Combined_cellbender_v2.h5ad\r\n",
      "Kidney_Combined_hvg5k.h5ad\r\n",
      "Kidney_Combined_hvg5k_LabeledSubset.h5ad\r\n",
      "Kidney_Combined_sc.h5ad\r\n",
      "Kidney_Combined_sc_hvg5k.h5ad\r\n",
      "Kidney_Combined_sc_hvg5k_LabeledSubset.h5ad\r\n",
      "Kidney_Combined_sn.h5ad\r\n",
      "Kidney_Combined_sn_hvg5k.h5ad\r\n",
      "Kidney_Combined_sn_hvg5k_LabeledSubset.h5ad\r\n"
     ]
    }
   ],
   "source": [
    "ls ../data"
   ]
  },
  {
   "cell_type": "code",
   "execution_count": 25,
   "id": "7b917c5e",
   "metadata": {},
   "outputs": [
    {
     "name": "stdout",
     "output_type": "stream",
     "text": [
      "CPU times: user 4min 5s, sys: 3.22 s, total: 4min 8s\n",
      "Wall time: 4min 9s\n"
     ]
    }
   ],
   "source": [
    "# set all genes as highly variable genes\n",
    "\n",
    "%%time\n",
    "adata.write_h5ad(\"../data/Kidney_Combined_deeptree.h5ad\", compression=\"gzip\")"
   ]
  },
  {
   "cell_type": "markdown",
   "id": "9305ee7e",
   "metadata": {},
   "source": [
    "### sn"
   ]
  },
  {
   "cell_type": "code",
   "execution_count": 26,
   "id": "e28257d0",
   "metadata": {},
   "outputs": [
    {
     "name": "stdout",
     "output_type": "stream",
     "text": [
      "CPU times: user 20.3 s, sys: 1.13 s, total: 21.5 s\n",
      "Wall time: 21.7 s\n"
     ]
    },
    {
     "data": {
      "text/plain": [
       "AnnData object with n_obs × n_vars = 362175 × 34137\n",
       "    obs: 'batch', 'harmonized_celltype', 'donor', 'Sample', 'nCount_RNA', 'nFeature_RNA', 'Cell_type', 'Subcategory', 'barcode', 'celltype', 'donor_id', 'sample_uuid', 'library_uuid', 'cell_type_ontology_term_id', 'author_cell_type', 'doublet_id', 'cell_type', 'assay', 'sex', 'tissue', 'development_stage', 'Patient', 'cancer', 'CD45', 'Stage annotations', 'Grade annotations', 'file integrity', 'orig.ident', 'seurat_clusters', 'patient', 'gene_clustering', 'l', 'original_seurat_clusters', 'CN_Column', 'anno', 'cluster', 'doublet_score', 'gene_per_1kUMI', 'label', 'no_genes', 'no_genes_log10', 'pct_MT', 'sample', 'total_UMI', 'Project_ID', 'percent.mt', 'percent.ribo', 'integrated_snn_res.0.2', 'SNV_GT', 'stim', 'ident', 'Suffix', 'type', 'region', 'Sample2', 'cluster_name', 'UMAP1', 'UMAP2', 'Sample_name', 'n_genes', 'modality'\n",
       "    var: 'n_counts'"
      ]
     },
     "execution_count": 26,
     "metadata": {},
     "output_type": "execute_result"
    }
   ],
   "source": [
    "%%time\n",
    "adata = sc.read_h5ad(\"../data/Kidney_Combined_sn.h5ad\")\n",
    "adata"
   ]
  },
  {
   "cell_type": "code",
   "execution_count": 27,
   "id": "f3573f13",
   "metadata": {},
   "outputs": [
    {
     "data": {
      "text/plain": [
       "View of AnnData object with n_obs × n_vars = 362175 × 15885\n",
       "    obs: 'batch', 'harmonized_celltype', 'donor', 'Sample', 'nCount_RNA', 'nFeature_RNA', 'Cell_type', 'Subcategory', 'barcode', 'celltype', 'donor_id', 'sample_uuid', 'library_uuid', 'cell_type_ontology_term_id', 'author_cell_type', 'doublet_id', 'cell_type', 'assay', 'sex', 'tissue', 'development_stage', 'Patient', 'cancer', 'CD45', 'Stage annotations', 'Grade annotations', 'file integrity', 'orig.ident', 'seurat_clusters', 'patient', 'gene_clustering', 'l', 'original_seurat_clusters', 'CN_Column', 'anno', 'cluster', 'doublet_score', 'gene_per_1kUMI', 'label', 'no_genes', 'no_genes_log10', 'pct_MT', 'sample', 'total_UMI', 'Project_ID', 'percent.mt', 'percent.ribo', 'integrated_snn_res.0.2', 'SNV_GT', 'stim', 'ident', 'Suffix', 'type', 'region', 'Sample2', 'cluster_name', 'UMAP1', 'UMAP2', 'Sample_name', 'n_genes', 'modality'\n",
       "    var: 'n_counts'"
      ]
     },
     "execution_count": 27,
     "metadata": {},
     "output_type": "execute_result"
    }
   ],
   "source": [
    "adata = adata[:, adata.var.index.isin(unique_values)]\n",
    "adata"
   ]
  },
  {
   "cell_type": "code",
   "execution_count": 28,
   "id": "dac71a55",
   "metadata": {},
   "outputs": [
    {
     "name": "stdout",
     "output_type": "stream",
     "text": [
      "CPU times: user 1min 10s, sys: 715 ms, total: 1min 11s\n",
      "Wall time: 1min 11s\n"
     ]
    }
   ],
   "source": [
    "%%time\n",
    "adata.write_h5ad(\"../data/Kidney_Combined_sn_hvgdt.h5ad\", compression=\"gzip\")"
   ]
  },
  {
   "cell_type": "markdown",
   "id": "5c3bfa02",
   "metadata": {},
   "source": [
    "### sc"
   ]
  },
  {
   "cell_type": "code",
   "execution_count": 29,
   "id": "e92e52b5",
   "metadata": {},
   "outputs": [
    {
     "name": "stdout",
     "output_type": "stream",
     "text": [
      "CPU times: user 3min 45s, sys: 4.57 s, total: 3min 50s\n",
      "Wall time: 3min 53s\n"
     ]
    }
   ],
   "source": [
    "%%time\n",
    "\n",
    "adata = sc.read_h5ad(\"../data/Kidney_Combined_sc.h5ad\")\n",
    "adata = adata[:, adata.var.index.isin(unique_values)]\n",
    "adata.write_h5ad(\"../data/Kidney_Combined_sc_dt.h5ad\", compression=\"gzip\")"
   ]
  },
  {
   "cell_type": "code",
   "execution_count": null,
   "id": "4905e247",
   "metadata": {},
   "outputs": [],
   "source": []
  }
 ],
 "metadata": {
  "kernelspec": {
   "display_name": "scIntegrater",
   "language": "python",
   "name": "scintegrater"
  },
  "language_info": {
   "codemirror_mode": {
    "name": "ipython",
    "version": 3
   },
   "file_extension": ".py",
   "mimetype": "text/x-python",
   "name": "python",
   "nbconvert_exporter": "python",
   "pygments_lexer": "ipython3",
   "version": "3.9.18"
  }
 },
 "nbformat": 4,
 "nbformat_minor": 5
}
