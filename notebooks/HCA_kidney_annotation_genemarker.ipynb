{
 "cells": [
  {
   "cell_type": "code",
   "execution_count": null,
   "id": "golden-ceremony",
   "metadata": {},
   "outputs": [],
   "source": [
    "%matplotlib inline\n",
    "#git clone https://github.com/AllonKleinLab/scrublet.git\n",
    "#cd scrublet\n",
    "#sudo pip3 install -r requirements.txt\n",
    "#sudo pip3 install --upgrade .\n",
    "#sudo pip3 install pySankeyBeta\n",
    "##remember to do sudo and pip3 otherwise it doesn't work\n",
    "#import scrublet as scr\n",
    "import scipy.io\n",
    "import random\n",
    "#import scvelo as scv\n",
    "import matplotlib.pyplot as plt\n",
    "from matplotlib import rcParams\n",
    "import matplotlib\n",
    "import seaborn as sns\n",
    "import numpy as np\n",
    "from sklearn.manifold import TSNE\n",
    "from sklearn.preprocessing import scale\n",
    "from sklearn.decomposition import TruncatedSVD\n",
    "from sklearn.cluster import SpectralClustering\n",
    "from sklearn.model_selection import cross_val_score, StratifiedKFold\n",
    "from sklearn.linear_model import LogisticRegression\n",
    "from sklearn.feature_extraction.text import TfidfTransformer\n",
    "import sys\n",
    "sys.path.append(\"/Users/konstas/ScanpyPlus\")  # Replace with the actual path\n",
    "import Scanpyplus\n",
    "from importlib import reload\n",
    "from scanpy.tools._utils import get_init_pos_from_paga as init\n",
    "import pandas as pd\n",
    "#import pandasPlus\n",
    "\n",
    "\n",
    "import scanpy as sc\n",
    "import anndata\n",
    "#import bbknn\n",
    "import os\n",
    "from scipy import sparse"
   ]
  },
  {
   "cell_type": "code",
   "execution_count": null,
   "id": "77342e51-882d-4948-9f50-e9d890904367",
   "metadata": {},
   "outputs": [],
   "source": [
    "adata = sc.read_h5ad(\"HCA_kidney_sc_manual.h5ad\")\n",
    "adata"
   ]
  },
  {
   "cell_type": "code",
   "execution_count": null,
   "id": "0187beda-9047-41a3-8b0a-f9d6e393f2e2",
   "metadata": {},
   "outputs": [],
   "source": [
    "# mitochondrial genes, \"MT-\" for human, \"Mt-\" for mouse\n",
    "adata.var[\"mt\"] = adata.var_names.str.startswith(\"MT-\")\n",
    "# ribosomal genes\n",
    "adata.var[\"ribo\"] = adata.var_names.str.startswith((\"RPS\", \"RPL\"))\n",
    "# hemoglobin genes\n",
    "adata.var[\"hb\"] = adata.var_names.str.contains(\"^HB[^(P)]\")"
   ]
  },
  {
   "cell_type": "code",
   "execution_count": null,
   "id": "ffc52101-c70e-405d-8321-a4cf4eb474f4",
   "metadata": {},
   "outputs": [],
   "source": [
    "sc.pp.calculate_qc_metrics(\n",
    "    adata, qc_vars=[\"mt\", \"ribo\", \"hb\"], inplace=True, log1p=True\n",
    ")"
   ]
  },
  {
   "cell_type": "code",
   "execution_count": null,
   "id": "b83b8a67-986a-424d-8716-35a5d490a43d",
   "metadata": {},
   "outputs": [],
   "source": [
    "sc.pp.normalize_total(adata, target_sum=1e4)\n",
    "sc.pp.log1p(adata)\n",
    "sc.pp.neighbors(adata, use_rep='X_scVI')\n",
    "sc.tl.leiden(adata)"
   ]
  },
  {
   "cell_type": "code",
   "execution_count": null,
   "id": "f8874c77-0b53-4338-8d10-bd9b307dcda0",
   "metadata": {
    "scrolled": true
   },
   "outputs": [],
   "source": [
    "sc.pl.embedding(adata[adata.obs['pct_counts_ribo']>30], basis='X_scVI_umap', color=['leiden', 'pct_counts_ribo'], legend_loc='on data')"
   ]
  },
  {
   "cell_type": "markdown",
   "id": "66ffe8e9-9464-436b-bddc-ca9d3ad81112",
   "metadata": {},
   "source": [
    "## Proximal tubule annotation"
   ]
  },
  {
   "cell_type": "code",
   "execution_count": null,
   "id": "devoted-interpretation",
   "metadata": {},
   "outputs": [],
   "source": [
    "PT_genelist = ['NEAT1', 'LRP2', 'LINC00621', 'ACSM2A', 'BNC2', 'ACSM2B', 'SLC13A3', 'LINC01320', 'NLGN1', 'CUBN', 'LRP2', 'SLC13A1','COL4A1', 'VCAM1', 'AKAP12', 'BICC1', 'LINC01320', 'CREB5', 'TJP1', 'VCAM1', 'NRP1', 'DCDC2']\n",
    "PTS1_genelist = ['SLC5A12', 'SLC13A3', 'SLC22A6', 'PRODH2', 'SLC5A2', 'SLC22A8', 'SLC5A12', 'SLC13A3', 'SLC22A6', 'PRODH2', 'SLC5A2', 'SLC22A8', 'AL031599.1', 'AC105094.2', 'RNF212B', 'PCDH15', 'CDH20', 'ACSM2B', 'ACSM2A', 'SLC36A2', 'SLC5A12', 'SLC16A9', 'CYP3A5', 'LINC01060', 'CUBN', 'NPL', 'AP003400.1', 'NOX4', 'AFM', 'PAH', 'SLC4A4', 'PPP2R2B']\n",
    "PTS2_genelist = ['SLC5A12' , 'SLC13A3', 'SLC22A6', 'SLC34A1', 'SLC22A7', 'ACSM2A', 'CUBN', 'ACSM2B', 'LRP2', 'AC096577.1', 'SLC13A3', 'SORCS1', 'SLC5A12', 'SLC4A4', 'TINAG', 'SLC16A9', 'SLC34A1', 'RAB11FIP3', 'HNF4A', 'AFM', 'SLC22A6', 'AC004053.1', 'SLC17A1', 'AC087762.1', 'ZNF804B']\n",
    "PTS3_genelist = ['SLC22A7', 'MOGAT1', 'SLC5A11', 'SLC22A24', 'SLC7A13', 'SLC5A8', 'ABCC3', 'SATB2', 'SLC22A7', 'MOGAT1', 'SLC5A11', 'SLC22A24', 'SLC7A13', 'SLC5A8', 'ABCC3', 'SATB2', 'C5orf67', 'AL078590.3', 'SLC7A13', 'SLC30A8', 'ANKS1B', 'AC084128.1', 'GPM6A', 'SLC22A24', 'AL049629.1', 'LINC01789', 'ABCC3', 'AC128707.1', 'AL078590.2']\n",
    "\n",
    "aPT_score = ['CDH6', 'TNFSF10', 'COL4A1', 'MACF1', 'TJP1', 'GPC4', 'VCAM1', 'AKAP12',  \n",
    "'COL4A2', 'ANXA4', 'DCDC2', 'NRP1', 'ITGAV', 'NTN4', 'BICC1', 'MACC1',  \n",
    "'PAPLN', 'PPFIBP1', 'LINC01320', 'RETREG1', 'OXR1', 'ABCB1', 'CRIM1',  \n",
    "'CREB5', 'FLNB', 'JADE1'\n",
    "]\n",
    "\n",
    "sc.tl.score_genes(adata, PT_genelist, n_bins=25, score_name='score_PT')\n",
    "sc.tl.score_genes(adata, PTS1_genelist, n_bins=25, score_name='score_PTS1')\n",
    "sc.tl.score_genes(adata, PTS2_genelist, n_bins=25, score_name='score_PTS2')\n",
    "sc.tl.score_genes(adata, PTS3_genelist, n_bins=25, score_name='score_PTS3')\n",
    "sc.tl.score_genes(adata, aPT_score, n_bins=30, score_name='score_aPT')"
   ]
  },
  {
   "cell_type": "code",
   "execution_count": null,
   "id": "d07d4a0f-d2e0-4178-9f4f-3f4f3e48c486",
   "metadata": {},
   "outputs": [],
   "source": [
    "PTclusters_with_high_score = adata.obs.loc[adata.obs['score_PT'] > 2, 'leiden'].unique()\n",
    "PTclusters_with_high_score"
   ]
  },
  {
   "cell_type": "code",
   "execution_count": null,
   "id": "5c40628b-a4b1-4f9e-b76b-4aba48454a45",
   "metadata": {},
   "outputs": [],
   "source": [
    "PTS1clusters_with_high_score = adata.obs.loc[adata.obs['score_PTS1'] > 2, 'leiden'].unique()\n",
    "PTS1clusters_with_high_score\n",
    "PTS1_dict = {cluster: 'PTS1/2' for cluster in PTS1clusters_with_high_score}\n",
    "PTS1_dict "
   ]
  },
  {
   "cell_type": "code",
   "execution_count": null,
   "id": "407e6805-5369-4fff-b0f7-297ba8a17136",
   "metadata": {},
   "outputs": [],
   "source": [
    "PTS2clusters_with_high_score = adata.obs.loc[adata.obs['score_PTS2'] > 2, 'leiden'].unique()\n",
    "PTS2clusters_with_high_score\n",
    "PTS2_dict = {cluster: 'PTS1/2' for cluster in PTS2clusters_with_high_score}\n",
    "PTS2_dict "
   ]
  },
  {
   "cell_type": "code",
   "execution_count": null,
   "id": "abf31c08-4942-4708-a3bc-2936cb22e53a",
   "metadata": {
    "scrolled": true
   },
   "outputs": [],
   "source": [
    "PTS3clusters_with_high_score = adata.obs.loc[adata.obs['score_PTS1'] > 2, 'leiden'].unique()\n",
    "PTS3clusters_with_high_score\n",
    "PTS3_dict = {cluster: 'PTS3' for cluster in PTS3clusters_with_high_score}\n",
    "PTS3_dict"
   ]
  },
  {
   "cell_type": "markdown",
   "id": "da724605-8345-4234-b468-4e5b9b88b269",
   "metadata": {},
   "source": [
    "## Podocytes & Parietal epithelial cells"
   ]
  },
  {
   "cell_type": "code",
   "execution_count": null,
   "id": "e6248d9e-7918-4f39-ab05-5a4582a785f3",
   "metadata": {},
   "outputs": [],
   "source": [
    "Podo_genelist = ['PTPRQ', 'WT1', 'NTNG1', 'NPHS1', 'NPHS2', 'CLIC5', 'PODXL', \n",
    " 'FMN2', 'ADAMTS19', 'TARID', 'ATP10A', 'AC092813.2', 'CR1', 'ZNF804A', \n",
    " 'ALS2CL', 'NFASC', 'PCOLCE2', 'ARHGEF26', 'LINC02149', 'FGF1', 'WDR49', \n",
    " 'AC244021.1', 'PTPRO', 'ST6GALNAC3', 'PLA2R1', 'FYN', 'CTGF', 'SRGAP2C', \n",
    " 'PLCE1', 'KIRREL1', 'CDC42EP3', 'CDC14A', 'SRGAP2B']\n",
    "\n",
    "Podo_cellxgene = ['PODXL', 'CLIC5', 'PTPRO', 'NPHS2', 'MME', 'NPHS1', 'ST6GALNAC3', 'WT1', \n",
    " 'ARMH4', 'DACH1', 'ST3GAL6', 'PLA2R1', 'MPP5', 'TGFBR3', 'PTH1R', 'THSD7A', \n",
    " 'ENPEP', 'NTNG1', 'NEBL', 'SRGAP1', 'PLCE1', 'MAGI2', 'VEGFA', 'IQGAP2', \n",
    " 'RIPOR1']\n",
    "\n",
    "PEC = [\"ALDH1A2\", \"FRMD4A\", \"PDE1A\", \"SYNE1\", \"RBFOX1\", \"LINC01435\", \"MAGI2\", \"OSBPL10\", \n",
    "\"DCDC2\", \"BICC1\", \"NRG3\", \"CFH\", \"ZFPM2\", \"BICD1\", \"BNC2\", \"RERG\", \"CCDC198\", \n",
    "\"LRP2\", \"CRIM1\", \"KCNT2\", \"CTTNBP2\", \"TENM3\", \"ITGB8\", \"THRB\", \"PARD3B\"\n",
    "]\n",
    "\n",
    "sc.tl.score_genes(adata, Podo_cellxgene, n_bins=25, score_name='score_PODCxG')\n",
    "sc.tl.score_genes(adata, Podo_genelist, n_bins=25, score_name='score_POD')\n",
    "sc.tl.score_genes(adata, PEC, n_bins=30, score_name='score_PEC')"
   ]
  },
  {
   "cell_type": "code",
   "execution_count": null,
   "id": "f8f87efd-307e-4619-b704-763df07222d4",
   "metadata": {
    "scrolled": true
   },
   "outputs": [],
   "source": [
    "sc.pl.embedding(adata[adata.obs.score_POD >1], basis='X_scVI_umap', color=['score_POD', 'score_PODCxG', 'leiden'], ncols=2, legend_loc = 'on data')"
   ]
  },
  {
   "cell_type": "code",
   "execution_count": null,
   "id": "b9d998c6-879e-431e-9a95-93c22a67e714",
   "metadata": {},
   "outputs": [],
   "source": [
    "PODclusters_with_high_score = adata.obs.loc[adata.obs['score_POD'] > 1, 'leiden'].unique()\n",
    "PODclusters_with_high_score"
   ]
  },
  {
   "cell_type": "code",
   "execution_count": null,
   "id": "22caac1f-b189-43bd-bc0d-bd5e6aa75ecb",
   "metadata": {},
   "outputs": [],
   "source": [
    "POD_dict = {cluster: 'POD' for cluster in PODclusters_with_high_score}\n",
    "POD_dict #43 "
   ]
  },
  {
   "cell_type": "markdown",
   "id": "a5e67025-940f-4bc4-8d7a-038887dddfc4",
   "metadata": {},
   "source": [
    "## Pericytes"
   ]
  },
  {
   "cell_type": "code",
   "execution_count": null,
   "id": "75406b20-d344-437c-ab74-2a34a96f823c",
   "metadata": {},
   "outputs": [],
   "source": [
    "PC_genelist = ['NR2F2-AS1', 'MEIS1', 'PALLD', 'H19', 'EBF1', 'COL1A1', \n",
    " 'AUTS2', 'DLC1', 'FBXL7', 'RBMS3', 'PDE3A', 'MEIS2', 'GPC6', 'KIAA1217', \n",
    " 'DPP6', 'ROR1', 'IL1RAPL1', 'CDH11', 'FLRT2', 'PRKG1', 'IGF2', 'NR2F2', \n",
    " 'COL1A2', 'SYT1', 'PCDH9', 'CLDN1', 'VCAM1', 'CFH', 'RBFOX1', 'ALDH1A2']\n",
    "renal_PC = ['PRKG1', 'CACNA1C', 'EBF1', 'NR2F2-AS1', 'RBMS3', 'PDE3A', 'SOX5', 'CARMN', 'CALD1', 'MYH11', 'ZFHX3', 'PDGFRB', 'RCAN2', 'TNS1', 'HIP1', 'RGS5_ENSG00000143248', 'DLC1', 'PLCL1', 'NOTCH3', 'TMTC1', 'LHFPL6', 'INPP4B', 'CACNB2', 'NTRK3', 'PIP5K1B'\n",
    "]\n",
    "sc.tl.score_genes(adata, PC_genelist, n_bins=25, score_name='score_PC')\n",
    "sc.tl.score_genes(adata, renal_PC, n_bins=25, score_name='renal_PC')"
   ]
  },
  {
   "cell_type": "code",
   "execution_count": null,
   "id": "198cc19a-0f62-4e24-a586-c69ee6beb74e",
   "metadata": {
    "scrolled": true
   },
   "outputs": [],
   "source": [
    "sc.pl.embedding(adata[adata.obs.score_PEC > 1], basis='X_scVI_umap', color=['score_PEC', 'renal_PEC', 'leiden', 'KCNJ8'], legend_loc= 'on data', ncols=2)"
   ]
  },
  {
   "cell_type": "code",
   "execution_count": null,
   "id": "2d01e889-b4b6-41ef-9ed9-e4000ab01e55",
   "metadata": {},
   "outputs": [],
   "source": [
    "PCclusters_with_high_score = adata.obs.loc[adata.obs['score_PEC'] > 15, 'leiden'].unique()\n",
    "PCclusters_with_high_score"
   ]
  },
  {
   "cell_type": "code",
   "execution_count": null,
   "id": "47da6a2e-3a2d-4d4c-9d4a-ddaa90475d33",
   "metadata": {},
   "outputs": [],
   "source": [
    "PC_dict = {cluster: 'PEC' for cluster in PECclusters_with_high_score}\n",
    "PC_dict #9, 41"
   ]
  },
  {
   "cell_type": "markdown",
   "id": "4f73cc51-7d86-4d01-9eeb-8ea45eccbc37",
   "metadata": {},
   "source": [
    "## Macula densa"
   ]
  },
  {
   "cell_type": "code",
   "execution_count": null,
   "id": "2defa0e5-ae7f-491f-8e71-a92bae8bf72a",
   "metadata": {},
   "outputs": [],
   "source": [
    "MD_genelist = ['NOS1', 'ROBO2', 'CALCR', 'PPFIA2', 'PAPPA2', 'COX2', 'NOX2', 'NOX4']\n",
    "sc.tl.score_genes(adata, MD_genelist, n_bins=25, score_name='score_MD')"
   ]
  },
  {
   "cell_type": "code",
   "execution_count": null,
   "id": "ba336eb8-d84f-4bc2-8a06-420b1f8d3739",
   "metadata": {
    "scrolled": true
   },
   "outputs": [],
   "source": [
    "sc.pl.embedding(adata[adata.obs.score_MD > 2], basis='X_scVI_umap', color=['score_MD', 'leiden' ], ncols=2, legend_loc= 'on data')"
   ]
  },
  {
   "cell_type": "code",
   "execution_count": null,
   "id": "09016987-498b-4765-88b0-4c730434ae9c",
   "metadata": {},
   "outputs": [],
   "source": [
    "MDclusters_with_high_score = adata.obs.loc[adata.obs['score_MD'] > 2, 'leiden'].unique()\n",
    "MDclusters_with_high_score"
   ]
  },
  {
   "cell_type": "code",
   "execution_count": null,
   "id": "779ac28b-5310-48a1-a03a-d96213aa73c6",
   "metadata": {},
   "outputs": [],
   "source": [
    "MD_dict = {cluster: 'MD' for cluster in MDclusters_with_high_score}\n",
    "MD_dict #0 some cells"
   ]
  },
  {
   "cell_type": "markdown",
   "id": "0b6d747f-9378-4560-aa04-2999e5ccd230",
   "metadata": {},
   "source": [
    "## Distal convoluted tubule"
   ]
  },
  {
   "cell_type": "code",
   "execution_count": null,
   "id": "2e0c7400-e2f0-4546-8c46-a3b7c51c57ec",
   "metadata": {},
   "outputs": [],
   "source": [
    "DCT_genelist = ['SLC12A3', 'AC078980.1', 'TRPM6', 'KLHL3', 'LINC01055', 'TMEM52B', 'DEPDC1B', \n",
    " 'FMN1', 'CACNB4', 'SALL3', 'PID1', 'TBC1D9', 'CNNM2', 'ITPKB', 'TCF24', 'WNK1', \n",
    " 'TRIM50', 'EGF', 'TRPM7', 'LHX1', 'SLC4A1', 'SLC26A7', 'HS6ST3', 'NXPH2', 'LEF1', \n",
    " 'ADGRF5', 'FGF13', 'ADAMTS17', 'ZNF385D', 'HS6ST2', 'TRPV5', 'SLC8A1', 'SCN2A', \n",
    " 'HSD11B2', 'CALB1', 'CA12', 'KCNJ16', 'AC013463.2', 'ESRRG', 'KNG1',\n",
    " 'PTGER3', 'CCSER1', 'ATP1A1', 'ATP1B1', 'MECOM', 'ARHGAP6', 'CACNA2D3', 'GPC5', 'RP11-368L12.1', 'LINC01762', 'ABCA5']\n",
    "sc.tl.score_genes(adata, DCT_genelist, n_bins=30, score_name='score_DCT')"
   ]
  },
  {
   "cell_type": "code",
   "execution_count": null,
   "id": "296a5db6-9439-4c6f-a893-4f8ae72d118f",
   "metadata": {
    "scrolled": true
   },
   "outputs": [],
   "source": [
    "sc.pl.embedding(adata[adata.obs.score_DCT > 1.5], basis='X_scVI_umap', color=['score_DCT', 'leiden'], ncols=2, legend_loc= 'on data')"
   ]
  },
  {
   "cell_type": "code",
   "execution_count": null,
   "id": "d9200689-6481-46bf-9fdc-c00dfdf3a5ef",
   "metadata": {},
   "outputs": [],
   "source": [
    "DCTclusters_with_high_score = adata.obs.loc[adata.obs['score_DCT'] > 20, 'leiden'].unique()\n",
    "DCTclusters_with_high_score"
   ]
  },
  {
   "cell_type": "code",
   "execution_count": null,
   "id": "9d4bed73-7f59-41b5-9441-70869bc995fa",
   "metadata": {},
   "outputs": [],
   "source": [
    "DCT_dict = {cluster: 'DCT' for cluster in DCTclusters_with_high_score}\n",
    "DCT_dict #8, 27"
   ]
  },
  {
   "cell_type": "markdown",
   "id": "ec855df7-c379-4134-bcc3-3f0a515ae8da",
   "metadata": {},
   "source": [
    "## Papillary"
   ]
  },
  {
   "cell_type": "code",
   "execution_count": null,
   "id": "e1db07e8-d23d-4d9b-9577-4530ec430eae",
   "metadata": {},
   "outputs": [],
   "source": [
    "PapE_genelist = [\n",
    "    \"KRT19\", \"TACSTD2\", \"ELF3\", \"CRYBG1\", \"PPARG\", \"MYOF\", \"MIR205HG\", \"AHR\", \"ATP8B1\", \"ZBTB7C\", \"SEMA5A\", \"SPINK1\",\n",
    "    \"INPP4B\", \"CD2AP\", \"SMAD3\", \"PTGR1\", \"MCC\", \"LINC00511\", \"PSD3\", \"KLF5\", \"AQP3\", \"SERINC5\", \"DGKH\", \"YAP1\", \"KRT7\"\n",
    "]\n",
    "sc.tl.score_genes(adata, PapE_genelist, n_bins=25, score_name='score_PapE')"
   ]
  },
  {
   "cell_type": "code",
   "execution_count": null,
   "id": "2e96be8c-d68f-4401-b1cb-a57368809203",
   "metadata": {
    "scrolled": true
   },
   "outputs": [],
   "source": [
    "sc.pl.embedding(adata[adata.obs.score_PapE > 1.7], basis='X_scVI_umap', color=['score_PapE', 'leiden', 'Project_ID'], ncols=2, legend_loc= 'on data')"
   ]
  },
  {
   "cell_type": "code",
   "execution_count": null,
   "id": "45c6602c-555b-4e1f-93c8-1afeda5aca0d",
   "metadata": {},
   "outputs": [],
   "source": [
    "PapEclusters_with_high_score = adata.obs.loc[adata.obs['score_PapE'] > 25, 'leiden'].unique()\n",
    "PapEclusters_with_high_score"
   ]
  },
  {
   "cell_type": "code",
   "execution_count": null,
   "id": "6eed7216-5508-4a62-b434-b01038bde22b",
   "metadata": {},
   "outputs": [],
   "source": [
    "PapE_dict = {cluster: 'PapE' for cluster in PapEclusters_with_high_score}\n",
    "PapE_dict #34"
   ]
  },
  {
   "cell_type": "markdown",
   "id": "950c896c-b4d8-4e59-b531-adb97ca5b5f6",
   "metadata": {},
   "source": [
    "## Connecting tubule"
   ]
  },
  {
   "cell_type": "code",
   "execution_count": null,
   "id": "dec97d20-39c2-44df-8d16-04b18b71cb89",
   "metadata": {},
   "outputs": [],
   "source": [
    "CNT_ICA_genelist = ['SLC4A1', 'SLC26A7', 'SLC8A1', 'SCN2A', 'CALB1', 'ATP6V0D2', 'SLC26A7', 'PTGER3', 'ADGRF5', 'ARHGAP18', 'CLNK', 'ATP6V0A4', \n",
    " 'TMEM213', 'CA12', 'TMEM101', 'ATP6V1C2', 'RCAN2', 'ITGA6', 'GRB14', 'PACRG', \n",
    " 'LINC01187', 'PDE1C', 'TFCP2L1', 'TMEM117', 'ABCA5', 'ATP6V1A', 'ABCC4', \n",
    " 'SLIT2', 'GALNT17', 'TBC1D14']\n",
    "CNT_genelist = ['AC013463.2', 'CADPS2', 'MECOM', 'ESRRG', 'HSD11B2', 'CCSER1', 'PIK3C2G', 'PDE4D', \n",
    " 'SCN2A', 'COBLL1', 'KCNIP4', 'TEX41', 'WNK1', 'NR3C2', 'ARL15', 'PTH2R', 'PKHD1', \n",
    " 'PRKG1', 'MPPED2', 'CA12', 'DCDC2', 'TOX3', 'TRPM3', 'FHOD3', 'CALB1']\n",
    "CNT_PC = ['SCNN1G', 'RALYL', 'KCNIP1', 'SCNN1B', 'KITLG', 'SLC8A1', 'CALB1', 'TOX', 'HSD11B2', 'SGPP1', 'SCN2A', 'PCDH7','DEFB1', 'CDH16', 'HSD11B2', 'TMEM52B', 'GSTM3', 'RHCG', 'CLCNKB', 'KCNJ1', \n",
    " 'CALB1', 'SCPEP1', 'CA12', 'EPCAM', 'CA2', 'ATP6V1B1', 'ATP1B1', 'TACSTD2', \n",
    " 'MAL', 'TMEM213', 'AIF1L', 'RALBP1', 'WNK1', 'WFDC2', 'ATP1A1', 'PTGR1', 'CLDN7']\n",
    "\n",
    "sc.tl.score_genes(adata, CNT_genelist, n_bins=25, score_name='score_CNT')\n",
    "sc.tl.score_genes(adata, CNT_PC, n_bins=25, score_name='score_CNT-PC')\n",
    "sc.tl.score_genes(adata, CNT_ICA_genelist, n_bins=25, score_name='score_CNT-IC-A')"
   ]
  },
  {
   "cell_type": "code",
   "execution_count": null,
   "id": "ff861fcd-4974-4386-be3c-a80ed61e9747",
   "metadata": {
    "scrolled": true
   },
   "outputs": [],
   "source": [
    "sc.pl.embedding(adata[adata.obs['score_CNT-PC'] >1], basis='X_scVI_umap', color=['score_CNT', 'score_CNT-PC', 'score_CNT-IC-A', 'leiden', 'Project_ID'], ncols=2, legend_loc= 'on data')"
   ]
  },
  {
   "cell_type": "code",
   "execution_count": null,
   "id": "fd9213c5-4ca3-43f9-bfda-ea8790a92212",
   "metadata": {},
   "outputs": [],
   "source": [
    "CNTclusters_with_high_score = adata.obs.loc[adata.obs['score_CNT'] > 20, 'leiden'].unique()\n",
    "CNTclusters_with_high_score"
   ]
  },
  {
   "cell_type": "code",
   "execution_count": null,
   "id": "8b6cb79c-febd-45c7-8929-2e99122250da",
   "metadata": {},
   "outputs": [],
   "source": [
    "CNT_dict = {cluster: 'CNT' for cluster in CNTclusters_with_high_score}\n",
    "CNT_dict #27"
   ]
  },
  {
   "cell_type": "code",
   "execution_count": null,
   "id": "61e5366e-3e20-4c3c-a09c-24f74b500a66",
   "metadata": {},
   "outputs": [],
   "source": [
    "CNTPCclusters_with_high_score = adata.obs.loc[adata.obs['score_CNT-PC'] > 30, 'leiden'].unique()\n",
    "CNTPCclusters_with_high_score"
   ]
  },
  {
   "cell_type": "code",
   "execution_count": null,
   "id": "f0ef450c-b747-4015-83da-5396446dd08f",
   "metadata": {},
   "outputs": [],
   "source": [
    "CNTPC_dict = {cluster: 'CNT-PC' for cluster in CNTPCclusters_with_high_score}\n",
    "CNTPC_dict #8"
   ]
  },
  {
   "cell_type": "code",
   "execution_count": null,
   "id": "00ffc69e-4b23-4b05-bf67-5f66b18d2728",
   "metadata": {},
   "outputs": [],
   "source": [
    "CNTICAclusters_with_high_score = adata.obs.loc[adata.obs['score_CNT-IC-A'] > 20, 'leiden'].unique()\n",
    "CNTICAclusters_with_high_score"
   ]
  },
  {
   "cell_type": "code",
   "execution_count": null,
   "id": "4115f9e0-df54-4460-a48b-139a814d288c",
   "metadata": {},
   "outputs": [],
   "source": [
    "CNTICA_dict = {cluster: 'CNT-IC-A' for cluster in CNTICAclusters_with_high_score}\n",
    "CNTICA_dict #part of 17"
   ]
  },
  {
   "cell_type": "markdown",
   "id": "2fb6bce1-1efe-4db2-9b61-ecefc404a88a",
   "metadata": {},
   "source": [
    "## Collecting duct"
   ]
  },
  {
   "cell_type": "code",
   "execution_count": null,
   "id": "01ed008f-ac9f-4d84-a914-1c6074277689",
   "metadata": {},
   "outputs": [],
   "source": [
    "CD_genelist = ['AQP2', 'STC1', 'BMPR1B', 'HSD11B2', 'GATA3', 'PIK3C2G', 'PWRN1', 'MECOM', 'COBLL1', 'SLC38A1', 'AQP3', 'ADAMTS16', 'MPPED2', 'CADPS2', 'CRYBG1', 'L1CAM', 'TOX', 'TACSTD2', 'LHX1', 'TEX41', 'GATA3', 'HSD11B2', 'AQP2', 'MAL', 'FXYD4', 'AC013463.2', 'TMEM213', 'SCIN', 'CDH16', \n",
    " 'PIK3C2G', 'ATP6V0A4', 'MPPED2', 'FYB2', 'ATP1B1', 'ATP6V0D2', 'BMPR1B', \n",
    " 'C11orf80', 'MUC1', 'SLC26A7', 'PTGER3', 'TFCP2L1', 'SCNN1G', 'PWRN1', \n",
    " 'CA12', 'FAM107B', 'MECOM']\n",
    "               \n",
    "CD_PC_genelist = ['AC013463.2', 'KCNK13', 'FXYD4', 'MUC1', 'WFDC2', 'AQP2', 'CDH16', \n",
    " 'AIF1L', 'FAM107B', 'SCIN', 'PDE10A', 'SCNN1G', 'ST6GAL1', 'ATP1B1', \n",
    " 'PROM1', 'HSD11B2', 'EPCAM', 'RALBP1', 'SLC14A2', 'FAM81A', 'PIK3C2G', \n",
    " 'SYK', 'HS3ST5', 'SCNN1B', 'BMPR1B', 'SOX5', 'MAL', 'PCDH7', 'COBLL1', \n",
    " 'PWRN1', 'FYB2', 'SLC25A29', 'KRT19', 'EYA4', 'PHACTR1', 'C11orf80', 'PAPPA']\n",
    "\n",
    "CD_ICA_genelist = ['ATP6V0D2', 'TMEM213', 'ATP6V0A4', 'SLC26A7', 'CA12', 'PTGER3', 'CLNK', 'RCAN2', \n",
    " 'ADGRF5', 'PDE1C', 'TFCP2L1', 'PACRG', 'MAGI1', 'ATP6V1C2', 'SCIN', 'MUC20', \n",
    " 'EPS8', 'SNTB1', 'MAL', 'SLC4A1', 'NEDD4L', 'TMEM117', 'ATP6V1A', 'AC013463.2', 'ESRRG']\n",
    "\n",
    "ICB_genelist = [\n",
    "    'CA12', 'SLC4A9', 'ATP6V0D2', 'ATP6V0A4', 'LINC01187', 'PLCG2', 'IL18', \n",
    "    'TFCP2L1', 'RNF152', 'SLC26A4', 'CLNK', 'WDR72', 'RCAN2', 'EPS8', 'TMEM213', \n",
    "    'PACRG', 'MAGI3', 'MAGI1', 'IQGAP2', 'NEDD4L', 'PDE1C', 'TMEM117', 'PDZD2', \n",
    "    'CA8', 'KRT7', 'SAMHD1', 'SLC35F3', 'NTRK1', 'TLDC2', 'AL136369.2', 'AC090502.1', \n",
    "    'SFTA1P', 'AC008438.1', 'CELF2', 'DGKI', 'PPM1E', 'AL355472.3', 'AC007563.2', \n",
    "    'ATP6V1C2', 'INSRR']\n",
    "\n",
    "sc.tl.score_genes(adata, CD_genelist, n_bins=25, score_name='score_CD')\n",
    "sc.tl.score_genes(adata, CD_PC_genelist, n_bins=25, score_name='score_CD-PC')\n",
    "sc.tl.score_genes(adata, CD_ICA_genelist, n_bins=25, score_name='score_CD-ICA')\n",
    "sc.tl.score_genes(adata, ICB_genelist, n_bins=25, score_name='score_ICB')"
   ]
  },
  {
   "cell_type": "code",
   "execution_count": null,
   "id": "cf6c3442-2098-4bd3-aae5-8383b569e297",
   "metadata": {
    "scrolled": true
   },
   "outputs": [],
   "source": [
    "sc.pl.embedding(adata[adata.obs['score_CD'] > 1], basis='X_scVI_umap', color=['score_CD', 'score_CD-PC', 'score_CD-ICA', 'score_ICB', 'leiden'], ncols=2, legend_loc= 'on data')"
   ]
  },
  {
   "cell_type": "code",
   "execution_count": null,
   "id": "e2850190-8a33-45fe-9127-82a14160c496",
   "metadata": {},
   "outputs": [],
   "source": [
    "sc.pl.embedding(adata[adata.obs.leiden == '38'], basis='X_scVI_umap', color=['score_CD', 'score_CD-PC', 'score_CD-ICA', 'score_ICB', 'score_CNT-IC-A', 'score_CNT-PC', 'leiden']) "
   ]
  },
  {
   "cell_type": "code",
   "execution_count": null,
   "id": "4c6c0de7-462f-4f42-8c70-c4a5468722a4",
   "metadata": {},
   "outputs": [],
   "source": [
    "CDclusters_with_high_score = adata.obs.loc[adata.obs['score_CD'] > 15, 'leiden'].unique()\n",
    "CDclusters_with_high_score"
   ]
  },
  {
   "cell_type": "code",
   "execution_count": null,
   "id": "6f4b300a-6894-4460-8061-1cc89b4c6294",
   "metadata": {},
   "outputs": [],
   "source": [
    "CD_dict = {cluster: 'CD' for cluster in CDclusters_with_high_score}\n",
    "CD_dict "
   ]
  },
  {
   "cell_type": "code",
   "execution_count": null,
   "id": "aeb7262b-6359-4780-8a99-7d8529127f96",
   "metadata": {},
   "outputs": [],
   "source": [
    "CDPCclusters_with_high_score = adata.obs.loc[adata.obs['score_CD-PC'] > 20, 'leiden'].unique()\n",
    "CDPCclusters_with_high_score"
   ]
  },
  {
   "cell_type": "code",
   "execution_count": null,
   "id": "1cafdc65-3165-477a-877f-5b2aae5467f4",
   "metadata": {},
   "outputs": [],
   "source": [
    "CDPC_dict = {cluster: 'CD-PC' for cluster in CDPCclusters_with_high_score}\n",
    "CDPC_dict #11"
   ]
  },
  {
   "cell_type": "code",
   "execution_count": null,
   "id": "d12b4cf3-05e1-4821-a186-af024602cef0",
   "metadata": {},
   "outputs": [],
   "source": [
    "CDICclusters_with_high_score = adata.obs.loc[adata.obs['score_CD-ICA'] > 20, 'leiden'].unique()\n",
    "CDICclusters_with_high_score "
   ]
  },
  {
   "cell_type": "code",
   "execution_count": null,
   "id": "ef3e9f44-11a5-4b31-aa0c-93bcf0c747ae",
   "metadata": {},
   "outputs": [],
   "source": [
    "CDIC_dict = {cluster: 'CD-ICA' for cluster in CDICclusters_with_high_score}\n",
    "CDIC_dict # part 38"
   ]
  },
  {
   "cell_type": "code",
   "execution_count": null,
   "id": "ab15f813-e884-4e18-a030-2f50bc476e7f",
   "metadata": {},
   "outputs": [],
   "source": [
    "CDICBclusters_with_high_score = adata.obs.loc[adata.obs['score_ICB'] > 20, 'leiden'].unique()\n",
    "CDICBclusters_with_high_score "
   ]
  },
  {
   "cell_type": "code",
   "execution_count": null,
   "id": "02f361c6-6bfe-4e39-806b-c67e2b140184",
   "metadata": {},
   "outputs": [],
   "source": [
    "CDICB_dict = {cluster: 'CD-ICB' for cluster in CDICBclusters_with_high_score}\n",
    "CDICB_dict #part of 38"
   ]
  },
  {
   "cell_type": "markdown",
   "id": "d91611cb-5d53-4321-a5d5-4bd72685aabd",
   "metadata": {},
   "source": [
    "## Loop of henle"
   ]
  },
  {
   "cell_type": "code",
   "execution_count": null,
   "id": "eb9bda6d-16bc-4676-b781-92a4737b4d68",
   "metadata": {},
   "outputs": [],
   "source": [
    "LH_genelist = ['SLC12A1', 'ERBB4', 'GPC5', 'UMOD', 'PLCB1', 'PDE1A', 'PCDH9', 'KCNIP4', 'LINC01762', 'MECOM', 'RP1', 'ACPP', 'ESRRG', 'CASR', 'ENOX1', 'EGF', 'ESRRB', 'CCSER1', 'PKP4', 'HS6ST2', 'CRYAB', 'TACSTD2', 'SLC44A5', 'KLRG2', 'COL26A1', 'BOC']\n",
    "\n",
    "ATL_genelist = ['MAL', 'TACSTD2', 'ATP1A1', 'CLDN10', 'FXYD2', 'SLPI', 'MUC1', 'WFDC2', 'KRT7', \n",
    " 'SPP1', 'CXCL14', 'MMP7', 'SLC12A1', 'SLC5A3', 'CLDN4', 'CLDN3', 'CD24',\n",
    " 'SOD3', 'S100A2', 'FOXP2', 'CYS1', 'CHL1', 'EPCAM', 'SH3GL3', 'ERMP1', 'CLDN1', 'AKR1B1', 'CLDN4', 'BCL6', 'SH3GL3', 'BCAS1', 'CLCNKA', 'CLDN10', 'PROX1']\n",
    "\n",
    "\n",
    "DTL_genelist = [\n",
    "    \"SLC12A3\", \"TRPM6\", \"AC019197.1\", \"SLC8A1\", \"TEX41\", \"CNNM2\", \"KLHL3\", \"SCN2A\", \"EFNA5\", \"KCNIP4\", \"CACNB4\", \"ERBB4\", \n",
    "    \"ESRRG\", \"EGF\", \"KITLG\", \"FMN1\", \"PIK3C2G\", \"CPEB4\", \"TRPM7\", \"MECOM\", \"VCAM1\", \"SLC39A8\", \"AQP1\", \"LRRC4C\", \"LRP2\", \n",
    "    \"UNC5D\", \"SATB2\", \"CLDN1\", \"AKR1B1\", \"CLDN4\", \"BCL6\", \"SH3GL3\", \"SLC14A2\", \"SMOC2\", \"JAG1\", \"ADGRL3\", \"ID1\", \n",
    "    \"CFH\", \"LINC01435\", \"SLC4A11\", \"LINC00924\", \"KIRREL3\", \"KLRG2\", \"LINC01197\", \"MSC-AS1\", \"ALDH1A2\", \"KCNT2\", \n",
    "    \"AC098617.1\", \"GRM5\", \"MGAT4C\", \"FBXL7\", \"HIST1H2AC\", \"TSHZ2\", \"ZFPM2\", \"AC003984.1\", \"SLIT3\"\n",
    "]\n",
    " \n",
    "\n",
    "\n",
    "TAL_genelist = ['CASR', 'SLC12A1', 'UMOD', 'NELL1', 'ESRRB', 'EGF', 'CLDN14', 'PROX1', 'MFSD4A', \n",
    " 'KCTD16', 'RAP1GAP', 'ANK2', 'CYFIP2', 'PPM1E', 'GP2', 'ENOX1', 'TMEM207', \n",
    " 'TMEM52B', 'CLDN16', 'WNK1', 'ATP1A1', 'KCNJ16', 'ESRRG', 'ATP1B1', 'KNG1', \n",
    " 'CACNA2D3', 'PLCB1', 'PTGER3', 'CLCN5', 'PDE1A', 'CA12', 'CCSER1', 'CGNL1', \n",
    " 'KCNJ1', 'MECOM', 'KCNIP4', 'PTH2R', 'GPC5', 'SIM2', 'BICDL1']\n",
    "\n",
    "score_aTAL = ['RNF19A', 'VMP1', 'GLS', 'ELF3', 'ITGB1', 'RAPGEF3', 'ITGB6', 'EZR',  \n",
    "'ITGA3', 'SYNE1', 'CLDN4', 'TMPRSS4', 'NEAT1', 'PAX8', 'DST', 'SAT1',  \n",
    "'AHNAK', 'MIDN', 'KRT7', 'RNF213', 'TFPI', 'SKIL', 'PLEKHA1'\n",
    "]\n",
    "\n",
    "sc.tl.score_genes(adata, LH_genelist, n_bins=25, score_name='score_LH')\n",
    "sc.tl.score_genes(adata, ATL_genelist, n_bins=25, score_name='score_ATL')\n",
    "sc.tl.score_genes(adata, DTL_genelist, n_bins=25, score_name='score_DTL')\n",
    "sc.tl.score_genes(adata, TAL_genelist, n_bins=25, score_name='score_TAL')\n",
    "sc.tl.score_genes(adata, score_aTAL, n_bins=30, score_name='score_aTAL')"
   ]
  },
  {
   "cell_type": "code",
   "execution_count": null,
   "id": "9c56fb7e-f76e-441c-aeb9-8c5149bb992c",
   "metadata": {},
   "outputs": [],
   "source": [
    "LHclusters_with_high_score = adata.obs.loc[adata.obs['score_LH'] > 20, 'leiden'].unique()\n",
    "LHclusters_with_high_score"
   ]
  },
  {
   "cell_type": "code",
   "execution_count": null,
   "id": "362026e5-6a08-4bce-b4d2-6e183c396f8d",
   "metadata": {},
   "outputs": [],
   "source": [
    "ATLclusters_with_high_score = adata.obs.loc[adata.obs['score_ATL'] > 20, 'leiden'].unique()\n",
    "ATLclusters_with_high_score"
   ]
  },
  {
   "cell_type": "code",
   "execution_count": null,
   "id": "7cc24cf0-a25b-4cd9-815a-4cfdb16a9d3f",
   "metadata": {},
   "outputs": [],
   "source": [
    "ATL_dict = {cluster: 'ATL' for cluster in ATLclusters_with_high_score}\n",
    "ATL_dict #8, 21"
   ]
  },
  {
   "cell_type": "code",
   "execution_count": null,
   "id": "53446d81-aef8-402a-b519-fe097703fed3",
   "metadata": {},
   "outputs": [],
   "source": [
    "DTLclusters_with_high_score = adata.obs.loc[adata.obs['score_DTL'] > 20, 'leiden'].unique()\n",
    "DTLclusters_with_high_score "
   ]
  },
  {
   "cell_type": "code",
   "execution_count": null,
   "id": "c182387d-0255-4b84-889c-75a48c6a8293",
   "metadata": {},
   "outputs": [],
   "source": [
    "DTL_dict = {cluster: 'DTL' for cluster in DTLclusters_with_high_score}\n",
    "DTL_dict #36"
   ]
  },
  {
   "cell_type": "code",
   "execution_count": null,
   "id": "2ecc2734-440d-4271-a359-563bd3ceeb7e",
   "metadata": {},
   "outputs": [],
   "source": [
    "TALclusters_with_high_score = adata.obs.loc[adata.obs['score_TAL'] > 20, 'leiden'].unique()\n",
    "TALclusters_with_high_score"
   ]
  },
  {
   "cell_type": "code",
   "execution_count": null,
   "id": "372055b6-f926-4b62-9253-7f0691f6f5f4",
   "metadata": {},
   "outputs": [],
   "source": [
    "TAL_dict = {cluster: 'TAL' for cluster in TALclusters_with_high_score}\n",
    "TAL_dict #18, 10"
   ]
  },
  {
   "cell_type": "code",
   "execution_count": null,
   "id": "b470b575-3ae3-4c21-b032-0e619973ccbc",
   "metadata": {
    "scrolled": true
   },
   "outputs": [],
   "source": [
    "adata.obs['annotation_v1'] = adata.obs['leiden'].map(epithelial_dict)"
   ]
  },
  {
   "cell_type": "code",
   "execution_count": null,
   "id": "de3a0429-d7ea-4f70-ba99-da672959875e",
   "metadata": {},
   "outputs": [],
   "source": [
    "# mitochondrial genes, \"MT-\" for human, \"Mt-\" for mouse\n",
    "adata.var[\"mt\"] = adata.var_names.str.startswith(\"MT-\")\n",
    "# ribosomal genes\n",
    "adata.var[\"ribo\"] = adata.var_names.str.startswith((\"RPS\", \"RPL\"))\n",
    "# hemoglobin genes\n",
    "adata.var[\"hb\"] = adata.var_names.str.contains(\"^HB[^(P)]\")\n",
    "sc.pp.calculate_qc_metrics(\n",
    "    adata, qc_vars=[\"mt\", \"ribo\", \"hb\"], inplace=True, log1p=True\n",
    ")"
   ]
  },
  {
   "cell_type": "code",
   "execution_count": null,
   "id": "0b30beaf-945f-4779-8433-e0aeb92b1548",
   "metadata": {},
   "outputs": [],
   "source": [
    "adata"
   ]
  },
  {
   "cell_type": "code",
   "execution_count": null,
   "id": "a20b7e24-5ed2-401a-9e66-0c53c36eb3bb",
   "metadata": {},
   "outputs": [],
   "source": [
    "high_ribo_score = adata.obs.loc[adata.obs['pct_counts_ribo'] > 90, 'leiden'].unique()\n",
    "high_ribo_score"
   ]
  },
  {
   "cell_type": "code",
   "execution_count": null,
   "id": "2b4cf517-6846-4d34-a7f1-50e09c4bc8ee",
   "metadata": {},
   "outputs": [],
   "source": [
    "high_mt_score = adata.obs.loc[adata.obs['pct_counts_mt'] > 90, 'leiden'].unique()\n",
    "high_mt_score"
   ]
  },
  {
   "cell_type": "code",
   "execution_count": null,
   "id": "4c4839b1-d6da-4a15-ab91-dfd6b6a78083",
   "metadata": {},
   "outputs": [],
   "source": [
    "sc.pl.embedding(adata, basis='X_scVI_umap', color=['leiden', 'pct_counts_mt', 'pct_counts_ribo'], ncols=1, legend_loc= 'on data')"
   ]
  },
  {
   "cell_type": "code",
   "execution_count": null,
   "id": "79526e82-e74c-4d8a-b999-4e8bf8d7abfe",
   "metadata": {},
   "outputs": [],
   "source": [
    "adata.write(\"Downloads/Kidney_Combined_hvg15k_sc_annotation.h5ad\")"
   ]
  },
  {
   "cell_type": "code",
   "execution_count": null,
   "id": "5066a630-9e2f-4a99-b712-aab8e30045b7",
   "metadata": {},
   "outputs": [],
   "source": [
    "adata"
   ]
  },
  {
   "cell_type": "markdown",
   "id": "17143c30-40cf-48ed-ba29-79a2cf2c1813",
   "metadata": {},
   "source": [
    "## Endothelial cells"
   ]
  },
  {
   "cell_type": "code",
   "execution_count": null,
   "id": "d60d6989-cab0-447f-ab24-a6d3f2a11fab",
   "metadata": {},
   "outputs": [],
   "source": [
    "EC_genelist = ['CD34', 'PECAM1', 'PTPRB', 'MEIS2', 'FLT1', 'EMCN', 'MEIS2', 'PTPRB', 'FLT1', 'NOTCH4', 'PLAT', 'EGFL7', 'AC010737.1', 'ERG', 'SLCO2A1', 'RAPGEF4', 'EMCN', 'BTNL9', 'PECAM1', 'PREX2', 'RUNX1T1', 'CDH13', 'KLF2', 'GFOD1', 'LDB2', 'ITGA8']\n",
    "EC_AEA = [\"BTNL9\", \"ADAMTS6\", \"PALMD\", \"AQP1\", \"TM4SF1\", \"VEGFC\", \"CCDC3\", \"CDH5\", \"SERPINE2\", \"FBLN5\", \"CXCL12\", \"SOX17\"]\n",
    "EC_DVR\t= [\"BTNL9\", \"ADAMTS6\", \"PALMD\", \"AQP1\", \"TM4SF1\", \"MCTP1\", \"SLC14A1\", \"ENPP2\", \"LYPD6B\"]\n",
    "EC_PTC\t= [\"CEACAM1\", \"DNASE1L3\", \"PLVAP\", \"PITPNC1\", \"GRB10\", \"SLCO2A1\", \"RAPGEF4\"]\n",
    "EC_AVR\t= [\"CEACAM1\", \"DNASE1L3\", \"PLVAP\", \"GPM6A\", \"EDIL3\", \"TLL1\", \"ZNF385D\", \"NR2F2\"]\n",
    "EC_LYM\t= [\"MMRN1\", \"CD36\", \"TBX1\", \"PKHD1L1\", \"PROX1\"]\n",
    "EC_cap = [\"EPAS1\", \"PLPP1\", \"PTPRB\", \"EMCN\", \"SLC9A3R2\", \"TIMP3\", \"FLT1\", \"ADGRF5\", \"PECAM1\", \"EGFL7\", \"CAVIN2\", \"RNASE1\", \"RAMP2\", \"PLAT\", \"SEC14L1\", \"TM4SF1\", \"ENG\", \"PLPP3\", \"ADGRL4\", \"RAMP3\", \"NOSTRIN\", \"TACC1\", \"SPTBN1\", \"IL6ST\", \"SLCO2A1\"]\n",
    "glomerular_CAP=[\"EMCN\", \"PLAT\", \"RAMP2\", \"IGFBP5\", \"CRHBP\", \"GNG11\", \"TGFBR2\", \"PLPP3\", \"SLC9A3R2\", \"PLPP1\", \"RNASE1\", \"EPAS1\", \"TM4SF1\", \"SOST\", \"PTPRB\", \"EHD3\", \"ADGRF5\", \"FLT1\", \"VAMP5\", \"MGP\", \"EGFL7\", \"CAVIN2\", \"HES1\", \"KDR\", \"LDB2\"]\n",
    "\n",
    "\n",
    "\n",
    "sc.tl.score_genes(adata, EC_genelist, n_bins=30, score_name='score_EC')\n",
    "sc.tl.score_genes(adata, EC_AEA, n_bins=30, score_name='score_EC_AEA')\n",
    "sc.tl.score_genes(adata, EC_DVR, n_bins=30, score_name='score_EC_DVR')\n",
    "sc.tl.score_genes(adata, EC_PTC, n_bins=30, score_name='score_EC_PTC')\n",
    "sc.tl.score_genes(adata, EC_AVR, n_bins=30, score_name='score_EC_AVR')\n",
    "sc.tl.score_genes(adata, EC_LYM, n_bins=30, score_name='score_EC_LYM')\n",
    "sc.tl.score_genes(adata, EC_cap, n_bins=30, score_name='score_EC_CAP')\n",
    "sc.tl.score_genes(adata, glomerular_CAP, n_bins=30, score_name='score_EC-glomerular')"
   ]
  },
  {
   "cell_type": "code",
   "execution_count": null,
   "id": "2ac10bda-79ee-422d-a51b-72d933e869c8",
   "metadata": {
    "scrolled": true
   },
   "outputs": [],
   "source": [
    "sc.pl.embedding(adata[adata.obs.score_EC > 1.5], basis='X_scVI_umap', color=['score_EC', 'score_EC_AEA', 'score_EC_DVR', 'score_EC_PTC', 'score_EC_AVR', 'score_EC_LYM', 'SULF1','leiden'], ncols=2, legend_loc= 'on data')"
   ]
  },
  {
   "cell_type": "code",
   "execution_count": null,
   "id": "5ff839fb-1ff2-4bda-a59f-f472db49858c",
   "metadata": {},
   "outputs": [],
   "source": [
    "ECclusters_with_high_score = adata.obs.loc[adata.obs['score_EC'] > 20, 'leiden'].unique()\n",
    "ECclusters_with_high_score"
   ]
  },
  {
   "cell_type": "code",
   "execution_count": null,
   "id": "86ce2376-293a-4fe4-b836-d8814207ad8c",
   "metadata": {},
   "outputs": [],
   "source": [
    "ECAEAclusters_with_high_score = adata.obs.loc[adata.obs['score_EC_AEA'] > 30, 'leiden'].unique()\n",
    "ECAEAclusters_with_high_score #23"
   ]
  },
  {
   "cell_type": "code",
   "execution_count": null,
   "id": "8c0ab530-f606-4405-bca1-fd40df3649af",
   "metadata": {},
   "outputs": [],
   "source": [
    "ECDVRclusters_with_high_score = adata.obs.loc[adata.obs['score_EC_DVR'] > 20, 'leiden'].unique()\n",
    "ECDVRclusters_with_high_score #23 part of"
   ]
  },
  {
   "cell_type": "code",
   "execution_count": null,
   "id": "0f5890cc-72a3-4940-bddd-20d682f9d061",
   "metadata": {},
   "outputs": [],
   "source": [
    "ECAVRclusters_with_high_score = adata.obs.loc[adata.obs['score_EC_AVR'] > 20, 'leiden'].unique()\n",
    "ECAVRclusters_with_high_score "
   ]
  },
  {
   "cell_type": "code",
   "execution_count": null,
   "id": "32a5c1ab-59a1-455d-9aca-0015c6022565",
   "metadata": {},
   "outputs": [],
   "source": [
    "ECPTCclusters_with_high_score = adata.obs.loc[adata.obs['score_EC_PTC'] > 30, 'leiden'].unique()\n",
    "ECPTCclusters_with_high_score "
   ]
  },
  {
   "cell_type": "code",
   "execution_count": null,
   "id": "d094bae5-b6ee-4bff-9ce3-0e4eaca21cb4",
   "metadata": {},
   "outputs": [],
   "source": [
    "ECLYMclusters_with_high_score = adata.obs.loc[adata.obs['score_EC_LYM'] > 20, 'leiden'].unique()\n",
    "ECLYMclusters_with_high_score "
   ]
  },
  {
   "cell_type": "markdown",
   "id": "7aa43887-9f6d-4757-bf23-25a803191402",
   "metadata": {},
   "source": [
    "## Mesangial, VSMC, Fibroblasts"
   ]
  },
  {
   "cell_type": "code",
   "execution_count": null,
   "id": "61b7ae39-8b3a-4e97-959d-e89dbc240b6b",
   "metadata": {},
   "outputs": [],
   "source": [
    "MC_genelist = ['PIP5K1B', 'ROBO1', 'PIEZO2', 'DAAM2', 'PHTF2', 'GATA3', 'POSTN', 'NOTCH3', 'PDGFRB', 'ITGA8', 'CARMN', 'EBF1', 'PDGFRB', 'NTRK3', 'ITGA8', 'SYNPO2', 'ADIRF', 'LMOD1', 'MYOCD', 'MICAL2', 'DAAM2', 'ADCY3', 'MEIS2', 'COL25A1', 'DGKG', 'CPED1', 'KALRN', 'TMTC1', 'RBMS3', 'NOTCH3']\n",
    "MC_CxG =['IGF2', 'H19_ENSG00000130600', 'COL1A1', 'NR2F2-AS1', 'MEIS1', 'GPC3', 'PALLD', 'AUTS2', 'DPP6', 'COL1A2', 'KIAA1217', 'FLRT2', 'MEIS2', 'COL3A1', 'FBXL7', 'IL1RAPL1', 'AFF3', 'NR2F2', 'CDH11', 'SYT1', 'ROBO2', 'TNC', 'LINC00486_ENSG00000230876', 'LDB2', 'CCBE1'\n",
    "]\n",
    "sc.tl.score_genes(adata, MC_genelist, n_bins=30, score_name='score_MC')\n",
    "sc.tl.score_genes(adata, MC_CxG, n_bins=30, score_name='MC_CxG')"
   ]
  },
  {
   "cell_type": "code",
   "execution_count": null,
   "id": "a60f6fe8-427d-4c7e-9bde-e6ed472e6570",
   "metadata": {},
   "outputs": [],
   "source": [
    "MCclusters_with_high_score = adata.obs.loc[adata.obs['score_MC'] > 10, 'leiden'].unique()\n",
    "MCclusters_with_high_score"
   ]
  },
  {
   "cell_type": "code",
   "execution_count": null,
   "id": "012e5c49-2a44-4257-b61a-c364408dc424",
   "metadata": {},
   "outputs": [],
   "source": [
    "VSMC_genelist = [\"TPM2\", \"CALD1\", \"BGN\", \"MYL9\", \"ACTA2\", \"TAGLN\", \"THY1\", \"RGS5\", \"COL6A2\", \"PLAC9\", \"FRZB\", \"MFGE8\", \"CPE\", \"TPM4\", \"SERPINH1\", \"C11orf96\", \"COL1A2\", \"LGALS1\", \"MCAM\", \"MGP\", \"ISYNA1\", \"GJA4\", \"ID3\", \"TPM1\", \"MAGED2\"]\n",
    "\n",
    "sc.tl.score_genes(adata, VSMC_genelist, n_bins=30, score_name='score_VSMC')"
   ]
  },
  {
   "cell_type": "code",
   "execution_count": null,
   "id": "f8fb2c2b-b101-41e9-b719-26f639c98c84",
   "metadata": {},
   "outputs": [],
   "source": [
    "fibro_genelist = ['RBMS3', 'NR2F2-AS1', 'MEIS1', 'C7_ENSG00000112936', 'PRKG1', 'CALD1', 'ATRNL1', 'SOX5', 'ITGA1', 'TSHZ2', 'THSD4', 'CACNA1C', 'PALLD', 'NEGR1', 'CDH11', 'SVEP1', 'LDB2', 'TRERF1', 'GNA14', 'EBF1', 'SETBP1', 'PDGF'\n",
    "]\n",
    "\n",
    "sc.tl.score_genes(adata, fibro_genelist, n_bins=30, score_name='score_fibro')"
   ]
  },
  {
   "cell_type": "code",
   "execution_count": null,
   "id": "17866402-2e78-4b0f-9f1c-686b977fe7dd",
   "metadata": {},
   "outputs": [],
   "source": [
    "Fibroclusters_with_high_score = adata.obs.loc[adata.obs['score_fibro'] > 10, 'leiden'].unique()\n",
    "Fibroclusters_with_high_score"
   ]
  },
  {
   "cell_type": "code",
   "execution_count": null,
   "id": "e7a40cec-ee30-4e93-a898-246c5e9030f8",
   "metadata": {},
   "outputs": [],
   "source": [
    "VSMCclusters_with_high_score = adata.obs.loc[adata.obs['score_fibro'] > 10, 'leiden'].unique()\n",
    "VSMCclusters_with_high_score"
   ]
  },
  {
   "cell_type": "code",
   "execution_count": null,
   "id": "b34bf958-d3f4-480b-ae35-1e15d6d2142d",
   "metadata": {},
   "outputs": [],
   "source": [
    "sc.pl.embedding(adata[adata.obs.score_VSMC > 10], basis='X_scVI_umap', color=['score_VSMC', 'leiden'], ncols=2, legend_loc= 'on data')"
   ]
  },
  {
   "cell_type": "code",
   "execution_count": null,
   "id": "4a48e03b-c3ae-40dd-aa4f-629cb9a0b98e",
   "metadata": {},
   "outputs": [],
   "source": [
    "sc.pl.embedding(adata, basis='X_scVI_umap', color=['annotation_genemarker', 'leiden', 'pct_counts_ribo'], ncols=1, legend_loc='on data')"
   ]
  },
  {
   "cell_type": "markdown",
   "id": "16e82317-8be9-45e6-82d7-e1f5ed6f69f3",
   "metadata": {},
   "source": [
    "## Macrophage"
   ]
  },
  {
   "cell_type": "code",
   "execution_count": null,
   "id": "67a33081-527e-4ae4-be64-bee92f7695d5",
   "metadata": {},
   "outputs": [],
   "source": [
    "Macro_genelist = [\"C1QA\", \"C1QB\", \"C1QC\", \"MS4A6A\", \"NPC2\", \"SELENOP\", \"CD14\", \"HLA-DPA1\", \"MS4A7\", \"HLA-DRA\", \"TYROBP\", \"HLA-DRB1\", \"FTL\", \"PSAP\", \"HLA-DPB1\", \"CST3\", \"FCGRT\", \"HLA-DQB1\", \"CTSB\", \"HLA-DQA1\", \"HLA-DMA\", \"SAT1\", \"CYBA\", \"CD74\", \"FCER1G\"]\n",
    "\n",
    "sc.tl.score_genes(adata, Macro_genelist, n_bins=30, score_name='score_Macro')"
   ]
  },
  {
   "cell_type": "code",
   "execution_count": null,
   "id": "e98249aa-634d-4407-9321-ae1a82ee96ad",
   "metadata": {},
   "outputs": [],
   "source": [
    "Macroclusters_with_high_score = adata.obs.loc[adata.obs['score_Macro'] > 10, 'leiden'].unique()\n",
    "Macroclusters_with_high_score"
   ]
  },
  {
   "cell_type": "code",
   "execution_count": null,
   "id": "f5fb566b-766a-43ce-83e3-addfa6504405",
   "metadata": {
    "scrolled": true
   },
   "outputs": [],
   "source": [
    "sc.pl.embedding(adata[adata.obs.score_Macro > 0], basis='X_scVI_umap', color=['score_Macro', 'leiden', 'pct_counts_mt'], ncols=2, legend_loc= 'on data')"
   ]
  },
  {
   "cell_type": "code",
   "execution_count": null,
   "id": "8604d8d5-107a-43bc-afcc-2af7de7f22c0",
   "metadata": {},
   "outputs": [],
   "source": [
    "Mono_genelist = [\"FCN1\", \"CTSS\", \"SERPINA1\", \"TYROBP\", \"CST3\", \"S100A9\", \"LYZ\", \"SAT1\", \"CFD\", \"PSAP\", \"TYMP\", \"C1orf162\", \"LST1\", \"IFI30\", \"CD68\", \"S100A8\", \"MS4A7\", \"S100A11\", \"FTL\", \"CFP\", \"LILRB2\", \"FCGR3A\", \"COTL1\", \"PILRA\", \"SLC11A1\"]\n",
    "\n",
    "\n",
    "sc.tl.score_genes(adata, Mono_genelist, n_bins=30, score_name='score_Mono')\n",
    "\n",
    "Monoclusters_with_high_score = adata.obs.loc[adata.obs['score_Mono'] > 10, 'leiden'].unique()\n",
    "Monoclusters_with_high_score"
   ]
  },
  {
   "cell_type": "code",
   "execution_count": null,
   "id": "25e19a2a-40a7-4e11-af17-70f6d5129ebc",
   "metadata": {},
   "outputs": [],
   "source": [
    "sc.pl.embedding(adata[adata.obs.score_Mono > 1], basis='X_scVI_umap', color=['score_Mono', 'leiden', 'pct_counts_mt', 'FCGR3A'], ncols=2, legend_loc= 'on data')"
   ]
  },
  {
   "cell_type": "code",
   "execution_count": null,
   "id": "4349824c-b8f6-4ca8-a454-3a7d5ff19f0a",
   "metadata": {},
   "outputs": [],
   "source": [
    "DC_genelist = [\"HLA-DPB1\", \"HLA-DPA1\", \"HLA-DRA\", \"HLA-DQB1\", \"HLA-DRB1\", \"CST3\", \"HLA-DQA1\", \"HLA-DMA\", \"C1orf162\", \"MS4A6A\", \"CD74\", \"LYZ\", \"FGL2\", \"CPVL\", \"CLEC10A\", \"PPT1\", \"NPC2\", \"GRN\", \"RGS10\", \"HLA-DRB5\", \"FCER1A\", \"HLA-DMB\", \"TYROBP\", \"IGSF6\", \"C1QA\"]\n",
    "\n",
    "sc.tl.score_genes(adata, DC_genelist, n_bins=30, score_name='score_DC')\n",
    "\n",
    "DC_with_high_score = adata.obs.loc[adata.obs['score_DC'] > 20, 'leiden'].unique()\n",
    "DC_with_high_score"
   ]
  },
  {
   "cell_type": "code",
   "execution_count": null,
   "id": "ee3267bb-3736-4830-9b42-bceab927c0b8",
   "metadata": {},
   "outputs": [],
   "source": [
    "sc.pl.embedding(adata[adata.obs.score_DC > 20], basis='X_scVI_umap', color=['score_DC', 'leiden', 'pct_counts_mt', \"CD40\", \"CD83\", \"HLA-DRA\", \"ITGAX\", \"LYZ\"], ncols=2, legend_loc= 'on data')"
   ]
  },
  {
   "cell_type": "code",
   "execution_count": null,
   "id": "e79d3413-972f-4889-bbe0-f6965999e782",
   "metadata": {
    "scrolled": true
   },
   "outputs": [],
   "source": [
    "Lympho_gene_list = [\"CD3E\", \"GZMA\", \"CST7\", \"CD3D\", \"IL2RG\", \"CD2\", \"NKG7\", \"PTPRCAP\", \"CTSW\", \"RAC2\", \"IL32\", \"GZMK\", \"CD7\", \"LCK\", \"EVL\", \"CD69\", \"CCL5\", \"CD8A\", \"DUSP2\", \"PTPRC\", \"PLAAT4\", \"CD3G\", \"CD27\", \"CD247\", \"PRF1\"]\n",
    "\n",
    "Tnaive_gene_list = [\"GZMK\", \"CD3D\", \"CD8A\", \"CST7\", \"NKG7\", \"CD3E\", \"GZMA\", \"PTPRCAP\", \"CD8B\", \"CD27\", \"HLA-A\", \"CD2\", \"HLA-C\", \"B2M\", \"HLA-B\", \"IL2RG\", \"CD3G\", \"LAG3\", \"CTSW\", \"APOBEC3G\", \"IL32\", \"PSMB9\", \"SIRPG\", \"LCK\", \"PRF1\"]\n",
    "CD4_Ef_Mem_gene_list = [\"IL7R\", \"CD3D\", \"CD3E\", \"CD2\", \"IL32\", \"FLT3LG\", \"ZFP36L2\", \"CD3G\", \"LCK\", \"CD52\", \"IL2RG\", \"CD40LG\", \"OXNAD1\", \"CORO1B\", \"BTG1\", \"CD6\", \"ITK\", \"IFITM1\", \"SPOCK2\", \"GZMA\", \"CRIP1\", \"CD5\", \"TTC39C\", \"TRAC\", \"CYTIP\"]\n",
    "CD8_Ef_Mem_gene_list = [\"CCL5\", \"NKG7\", \"CST7\", \"GZMA\", \"CD3D\", \"CD3E\", \"CD8A\", \"GZMK\", \"CD2\", \"CCL4\", \"CTSW\", \"CD8B\", \"PRF1\", \"IL32\", \"CD3G\", \"CD27\", \"IL2RG\", \"HLA-B\", \"PTPRCAP\", \"HLA-A\", \"LAG3\", \"LCK\", \"DUSP2\", \"APOBEC3G\", \"RP11-84E17.1\"]\n",
    "Treg_gene_list = [\"CD3D\", \"CD3E\", \"IL32\", \"CD2\", \"HLA-A\", \"BATF\", \"CD27\", \"FOXP3\", \"TIGIT\", \"CORO1B\", \"CTLA4\", \"IL2RG\", \"CD3G\", \"TNFRSF18\", \"B2M\", \"LCK\", \"SIRPG\", \"GBP5\", \"SPOCK2\", \"HLA-B\", \"CARD16\", \"TNFRSF4\", \"SLAMF1\", \"HLA-C\", \"BTG1\"]\n",
    "Tgd_gene_list = [\"CCL5\", \"CST7\", \"NKG7\", \"CD3D\", \"CD3E\", \"TRDV1\", \"GZMK\", \"DUSP2\", \"GZMA\", \"PRF1\", \"CTSW\", \"GNLY\", \"KLRG1\", \"TRGV9\", \"CD3G\", \"GZMH\", \"KLRD1\", \"TRDV2\", \"TRAC\", \"TRDC\", \"CCL4\", \"ZFP36L2\", \"MATK\", \"LAG3\", \"CD2\"]\n",
    "TMAIT_gene_list = [\"CCL5\", \"CD3D\", \"CST7\", \"GZMA\", \"NKG7\", \"CD3E\", \"GZMK\", \"CD8A\", \"IL7R\", \"CD2\", \"PRF1\", \"CCL4\", \"CD3G\", \"DUSP2\", \"CD8B\", \"IL32\", \"IL2RG\", \"CTSW\", \"GZMH\", \"TRAV1-2\", \"LAG3\", \"CRIP1\", \"RP11-84E17.1\", \"ZFP36L2\", \"BTG1\"]\n",
    "NKT_gene_list = [\"NKG7\", \"CST7\", \"KLRD1\", \"GNLY\", \"GZMA\", \"PRF1\", \"CTSW\", \"CD247\", \"GZMH\", \"KLRB1\", \"GZMM\", \"CD7\", \"HOPX\", \"FGFBP2\", \"CCL5\", \"CLIC3\", \"CCL4\", \"MATK\", \"SPON2\", \"KLRF1\", \"DUSP2\", \"XCL2\", \"IL2RB\", \"SYTL3\", \"SH2D1B\"]\n",
    "Th17_list = [\"KLRB1\", \"RORA\", \"IL7R\", \"DONSON\", \"TRAC\", \"GPR183\", \"EVI2A\", \"EIF1\", \"ANKRD28\", \"GPR171\", \"BTG1\", \"STAT4\", \"MALAT1\", \"GPR65\", \"SNHG9\", \"CCL20\", \"TNFAIP3\", \"CD96\", \"PTGER4\", \"MYADM\", \"NAP1L1\", \"TANK\", \"CCR6\", \"FKBP11\", \"CD2\"]\n",
    "\n",
    "sc.tl.score_genes(adata, Lympho_gene_list, n_bins=30, score_name='score_Lympho')\n",
    "sc.tl.score_genes(adata, Tnaive_gene_list, n_bins=30, score_name='score_Tnaive')\n",
    "sc.tl.score_genes(adata, CD4_Ef_Mem_gene_list, n_bins=30, score_name='score_CD4Efmem')\n",
    "sc.tl.score_genes(adata, CD8_Ef_Mem_gene_list, n_bins=30, score_name='score_CD8Efmem')\n",
    "sc.tl.score_genes(adata, Treg_gene_list, n_bins=30, score_name='score_Treg')\n",
    "sc.tl.score_genes(adata, Tgd_gene_list, n_bins=30, score_name='score_Tgd')\n",
    "sc.tl.score_genes(adata, TMAIT_gene_list, n_bins=30, score_name='score_TMAIT')\n",
    "sc.tl.score_genes(adata, NKT_gene_list, n_bins=30, score_name='score_NKT')\n",
    "sc.tl.score_genes(adata, Th17_list, n_bins=30, score_name='score_Th17')\n",
    "\n",
    "Lympho_with_high_score = adata.obs.loc[adata.obs['score_Lympho'] > 20, 'leiden'].unique()\n",
    "Lympho_with_high_score"
   ]
  },
  {
   "cell_type": "code",
   "execution_count": null,
   "id": "eb9f9e0a-2941-45eb-b4eb-3ac062fc3c0c",
   "metadata": {},
   "outputs": [],
   "source": [
    "Tn_with_high_score = adata.obs.loc[adata.obs['score_Tnaive'] > 20, 'leiden'].unique()\n",
    "Tn_with_high_score"
   ]
  },
  {
   "cell_type": "code",
   "execution_count": null,
   "id": "de589cd4-9650-4846-8898-979bc76b6c17",
   "metadata": {},
   "outputs": [],
   "source": [
    "CD4eff_with_high_score = adata.obs.loc[adata.obs['score_CD4Efmem'] > 20, 'leiden'].unique()\n",
    "CD4eff_with_high_score"
   ]
  },
  {
   "cell_type": "code",
   "execution_count": null,
   "id": "073d94f2-32e1-42e3-8290-ad832e1c5b5a",
   "metadata": {},
   "outputs": [],
   "source": [
    "CD8eff_with_high_score = adata.obs.loc[adata.obs['score_CD8Efmem'] > 20, 'leiden'].unique()\n",
    "CD8eff_with_high_score"
   ]
  },
  {
   "cell_type": "code",
   "execution_count": null,
   "id": "3d76db52-852e-4df6-b024-eb43188c5734",
   "metadata": {
    "scrolled": true
   },
   "outputs": [],
   "source": [
    "sc.pl.embedding(adata[adata.obs.score_Tnaive > 1], basis='X_scVI_umap', color=['score_Lympho','score_Tnaive','score_CD4Efmem', 'score_CD8Efmem', 'score_Treg', 'score_Th17','score_Tgd', 'score_TMAIT', 'score_NKT', 'leiden', 'pct_counts_mt', \"CD4\", \"CD8A\", 'FOXP3'], ncols=2 )"
   ]
  },
  {
   "cell_type": "code",
   "execution_count": null,
   "id": "0f9920a7-b077-42c0-9646-b3381d86d6da",
   "metadata": {},
   "outputs": [],
   "source": [
    "NK_gene_list = [\"NKG7\", \"CST7\", \"KLRD1\", \"GNLY\", \"PRF1\", \"GZMA\", \"CCL5\", \"CCL4\", \"CD247\", \"FGFBP2\", \"CTSW\", \"KLRB1\", \"CLIC3\", \"SPON2\", \"GZMM\", \"KLRF1\", \"GZMH\", \"HOPX\", \"FCGR3A\", \"CD7\", \"MATK\", \"PYHIN1\", \"SH2D1B\", \"TXK\", \"TBX21\"]\n",
    "ILC_gene_list = [\"NKG7\", \"KLRD1\", \"CST7\", \"GNLY\", \"PRF1\", \"GZMA\", \"CCL5\", \"CCL4\", \"KLRB1\", \"CTSW\", \"CD247\", \"FGFBP2\", \"CLIC3\", \"SPON2\", \"KLRF1\", \"GZMM\", \"HOPX\", \"GZMH\", \"CD7\", \"FCGR3A\", \"MATK\", \"PYHIN1\", \"SH2D1B\", \"TXK\", \"XCL2\"]\n",
    "\n",
    "sc.tl.score_genes(adata, NK_gene_list, n_bins=30, score_name='score_NK')\n",
    "sc.tl.score_genes(adata, ILC_gene_list, n_bins=30, score_name='score_ILC')\n",
    "\n",
    "\n",
    "NK_with_high_score = adata.obs.loc[adata.obs['score_NK'] > 20, 'leiden'].unique()\n",
    "NK_with_high_score\n",
    "ILC_with_high_score = adata.obs.loc[adata.obs['score_ILC'] > 20, 'leiden'].unique()\n",
    "ILC_with_high_score"
   ]
  },
  {
   "cell_type": "code",
   "execution_count": null,
   "id": "fea8f508-d7c2-464f-b0c2-5bb495442570",
   "metadata": {
    "scrolled": true
   },
   "outputs": [],
   "source": [
    "sc.pl.embedding(adata[adata.obs.score_NK > 1], basis='X_scVI_umap', color=['score_NK','score_ILC', 'leiden', 'pct_counts_mt'], ncols=2, legend_loc= 'on data', color_map = \"viridis\")"
   ]
  },
  {
   "cell_type": "code",
   "execution_count": null,
   "id": "8a47cb53-7158-4bd6-a3bf-4d17149fe249",
   "metadata": {},
   "outputs": [],
   "source": [
    "Bcell_gene_list = [\"MS4A1\", \"CD79A\", \"BANK1\", \"CD79B\", \"CD37\", \"RALGPS2\", \"IGHM\", \"IGKC\", \"LINC00926\", \"BLK\", \"VPREB3\", \"HVCN1\", \"NIBAN3\", \"IRF8\", \"AFF3\", \"FCRL1\", \"FCRLA\", \"PRKCB\", \"SMIM14\", \"RIPOR2\", \"HLA-DRA\", \"IGHA1\"]\n",
    "Plasma_gene_list = [\"MZB1\", \"IGKC\", \"TXNDC5\", \"XBP1\", \"IGHG1\", \"DERL3\", \"JCHAIN\", \"FKBP11\", \"IGHG3\", \"IGHA1\", \"SEC11C\", \"GLCCI1\", \"IFNG-AS1\", \"IGHG4\", \"SEL1L3\", \"TXNDC11\", \"CREB3L2\", \"FUT8\", \"IGLC2\", \"TENT5C\", \"FCRL5\", \"DENND5B\", \"POU2AF1\", \"SPATS2\", \"GNG7\"]\n",
    "\n",
    "sc.tl.score_genes(adata, Bcell_gene_list, n_bins=30, score_name='score_Bcell')\n",
    "sc.tl.score_genes(adata, Plasma_gene_list, n_bins=30, score_name='score_Plasmacell')\n",
    "\n",
    "Bcell_with_high_score = adata.obs.loc[adata.obs['score_Bcell'] > 20, 'leiden'].unique()\n",
    "Bcell_with_high_score\n",
    "Plasmacell_with_high_score = adata.obs.loc[adata.obs['score_Plasmacell'] > 20, 'leiden'].unique()\n",
    "Plasmacell_with_high_score"
   ]
  },
  {
   "cell_type": "code",
   "execution_count": null,
   "id": "67fcb19e-cf1c-4843-8fae-f7257b14b289",
   "metadata": {},
   "outputs": [],
   "source": [
    "sc.pl.embedding(adata[adata.obs.score_Plasmacell > 1], basis='X_scVI_umap', color=['score_Bcell', 'score_Plasmacell', 'leiden', 'pct_counts_mt'], ncols=2, legend_loc= 'on data', color_map = \"viridis\")"
   ]
  },
  {
   "cell_type": "markdown",
   "id": "9aba71cc-301e-49cf-b52b-49912757934d",
   "metadata": {},
   "source": [
    "## Neuron"
   ]
  },
  {
   "cell_type": "code",
   "execution_count": null,
   "id": "0ead1e36-1f2d-45bf-a2d1-6c01489714ff",
   "metadata": {},
   "outputs": [],
   "source": [
    "neuro_genelist = [\"NRXN1\", \"NRXN3\", \"ADGRB3\", \"CADM2\", \"XKR4\", \"RBMS3\", \"FRMD4A\", \"GRIK2\", \"NEGR1\", \"CADM1\", \"NCAM1\", \"SORCS1\", \"SLC35F1\", \"CDH19\", \"PCDH9\", \"NKAIN3\", \"EHBP1\", \"ZNF536\", \"CASC15\", \"RP11-141M1.3\", \"NLGN4X\", \"SCN7A\", \"NCAM2\", \"TENM3\", \"DLC1\"]\n",
    "\n",
    "sc.tl.score_genes(adata, neuro_genelist, n_bins=30, score_name='score_neuro')\n",
    "\n",
    "Neuro_with_high_score = adata.obs.loc[adata.obs['score_neuro'] > 10, 'leiden'].unique()\n",
    "Neuro_with_high_score"
   ]
  },
  {
   "cell_type": "code",
   "execution_count": null,
   "id": "d27eeb57-fbe1-47fd-9b32-b4799ff9049e",
   "metadata": {},
   "outputs": [],
   "source": [
    "sc.pl.embedding(adata[adata.obs.score_neuro > 15], basis='X_scVI_umap', color=['score_neuro', 'leiden', 'pct_counts_mt'], ncols=2, legend_loc= 'on data')"
   ]
  },
  {
   "cell_type": "markdown",
   "id": "5e7f17a9-2f2e-413e-8f3e-0cd5c6171053",
   "metadata": {},
   "source": [
    "## Unknown clusters manual annotation"
   ]
  },
  {
   "cell_type": "code",
   "execution_count": null,
   "id": "8e5558e0-0404-4d31-af66-b3efd95488ae",
   "metadata": {
    "scrolled": true
   },
   "outputs": [],
   "source": [
    "sc.tl.rank_genes_groups(adata, groupby='leiden', method='logreg')"
   ]
  },
  {
   "cell_type": "code",
   "execution_count": null,
   "id": "f10de3ca-5fa2-477c-8c26-7d60085aa034",
   "metadata": {},
   "outputs": [],
   "source": [
    "top_genes = adata.uns['rank_genes_groups']['names']['?1']\n",
    "top_genes[:50]"
   ]
  },
  {
   "cell_type": "code",
   "execution_count": null,
   "id": "27887b21-a1dc-4653-93de-22198b4de42e",
   "metadata": {},
   "outputs": [],
   "source": [
    "genemarker_dict = {'3':'HighMT_PTS1/2',\n",
    "                   '1':'PTS1',\n",
    "                   '33':'HighMT_PTS1|EC',\n",
    "                   '12':'PTS3',\n",
    "                   '43':'POD',\n",
    "                   '9':'LowQ_PEC|VSMC|Neuro|Immune',\n",
    "                   '41':'PEC',\n",
    "                   '0':'HighMT_PT/MD', #some cells are MD not the whole cluster\n",
    "                   '27':'DCT',\n",
    "                   '34':'PapE',\n",
    "                   '17':'Doub_CNT-IC-A|CD-ICA|CNT-PC', #part of 17 belongs to CD-ICA and B\n",
    "                   '11':'CD-PC',\n",
    "                   '38':'Doub_CD-ICA|CD-ICB',\n",
    "                   '10':'TAL', \n",
    "                   '18':'HighMT_TAL|EC', #there is part that might be PTS2\n",
    "                   '36':'LowQ_DTL|DC|Tcell',\n",
    "                   '8':'HighMT_Doub_ATL|DTL',\n",
    "                   '21':'ATL',\n",
    "                   '40':'LowQ_PT|EC',\n",
    "                   '6':'HighMT_PTS1/2',\n",
    "                   '5':'HighMT_LowQ_PT',\n",
    "                   '44':'HighMT_LowQ_PT|B cells',\n",
    "                   '39':'HighMT_LowQ_PT',\n",
    "                   '52':'HighMT_PT_IL32',\n",
    "                   '23':'Doub_EC-AEA|EC-DVR',\n",
    "                   '2':'EC-AVR',\n",
    "                   '22':'Doub_EC-PTC|MC',\n",
    "                   '50':'EC-LYM',\n",
    "                   '7':'HighMT_Doub_Macro|DC', #check subcluster of 7 for highMT and split DC out\n",
    "                   '49':'HighMT_PT|Macro',\n",
    "                   '42':'Macro',\n",
    "                   '19':'Monocytes', #need to split to CD16expressing\n",
    "                   '4':'CD4eff_mem|Treg',\n",
    "                   '15':'MAIT|Tgd||NKT',\n",
    "                   '20':'CD8_eff_mem', \n",
    "                   '30':'CD8|CD4_naive',\n",
    "                   '16':'NK|ILC',\n",
    "                   '45':'Activated_Mast cells',\n",
    "                   '28':'B cells',\n",
    "                   '36':'Plasma cells',\n",
    "                   '13':'PTS3',\n",
    "                   '14':'CNT-PC',\n",
    "                   '24':'Doub_PTS1/2|Fibro',\n",
    "                   '26':'Mast cells',\n",
    "                   '2':'Fibroblasts',\n",
    "                   '29':'Damaged_urothelial',\n",
    "                   '31':'HighMT_Neural cells',\n",
    "                   '32':'EC-AVR_damaged',\n",
    "                   '35':'SULF1+_EC',\n",
    "                   '37':'PEC|Pancreatic',\n",
    "                   '46':'Doub_PEC|PT',\n",
    "                   '47':'IC-A',\n",
    "                   '48':'LowQ_Monocytes',\n",
    "                   '51':'Neutrophil',\n",
    "                   '53':'LowQ_PT',\n",
    "                   '54':'LowQ',\n",
    "                   '55':'Activated_CD8',\n",
    "                   '25':'DTL_ATL'\n",
    "                  }\n",
    "adata.obs['annotation_genemarker'] = adata.obs['leiden'].map(genemarker_dict)"
   ]
  },
  {
   "cell_type": "code",
   "execution_count": null,
   "id": "e5e73960-074d-4300-bcb5-1595c13c6610",
   "metadata": {
    "scrolled": true
   },
   "outputs": [],
   "source": [
    "# Get unique clusters\n",
    "clusters = adata.obs['annotation_genemarker'].unique()\n",
    "\n",
    "# Initialize a new column for hierarchical subclustering results\n",
    "adata.obs['leiden_R'] = None\n",
    "\n",
    "# Iterate over each cluster\n",
    "for cluster in clusters:\n",
    "    # Subset the data for the current cluster\n",
    "    cluster_mask = adata.obs['annotation_genemarker'] == cluster\n",
    "    cluster_data = adata[cluster_mask]\n",
    "    \n",
    "    # Perform Leiden clustering on the subset\n",
    "    sc.tl.leiden(cluster_data, resolution=0.3, key_added='leiden_subcluster')\n",
    "    \n",
    "    # Create hierarchical labels (e.g., Cluster1_1, Cluster1_2, etc.)\n",
    "    subcluster_labels = [f\"{cluster}_{subcluster}\" for subcluster in cluster_data.obs['leiden_subcluster']]\n",
    "    \n",
    "    # Add the hierarchical labels to the original adata object\n",
    "    adata.obs.loc[cluster_data.obs.index, 'leiden_R'] = subcluster_labels"
   ]
  },
  {
   "cell_type": "code",
   "execution_count": null,
   "id": "0a442f44-0758-4582-b831-da4087d6d0c0",
   "metadata": {
    "scrolled": true
   },
   "outputs": [],
   "source": [
    "sc.pl.embedding(adata, basis='X_scVI_umap', color=['leiden'], ncols=1, legend_loc='on data', legend_fontsize='5')#[adata.obs['score_aPT']>1.6]"
   ]
  },
  {
   "cell_type": "code",
   "execution_count": null,
   "id": "aff24d9f-017b-43ee-9761-61516f59dca6",
   "metadata": {
    "scrolled": true
   },
   "outputs": [],
   "source": [
    "sc.pl.embedding(adata, basis='X_scVI_umap', color=['leiden_R'], ncols=1, palette=list(matplotlib.colors.CSS4_COLORS.values()))#[adata.obs_names.isin(obs_names_cleaned)]"
   ]
  },
  {
   "cell_type": "code",
   "execution_count": null,
   "id": "c36dd625-9434-438f-a950-6b3eab50436c",
   "metadata": {
    "scrolled": true
   },
   "outputs": [],
   "source": [
    "Scanpyplus.DEmarkers(adata, 'Plasma cells_0', 'Plasma cells_1', 'leiden_R', obslist=['leiden', 'pct_counts_mt'])"
   ]
  },
  {
   "cell_type": "code",
   "execution_count": null,
   "id": "a0aba9b1-f0c5-4623-9929-0458ef355bc3",
   "metadata": {},
   "outputs": [],
   "source": [
    "l_R_anno = {\n",
    "            'B cells_0': 'Bcells_activated',\n",
    "            'B cells_1': 'Bcells_naive',\n",
    "            'B cells_2': 'Bcells_activated',\n",
    "            'B cells_3': 'Bcells_activated',\n",
    "            'B cells_4': 'Bcells_naive',\n",
    "            'B cells_5': 'Bcells_activated',\n",
    "            'B cells_6': 'Doub_Tcell|Bcell',\n",
    "            'B cells_7': 'Bcells_memory',\n",
    "            'B cells_8': 'Doube_Tcell|Bcell',\n",
    "            'B cells_9': 'LowQ_Bcells',\n",
    "            'B cells_10': 'LowQ_Bcells',\n",
    "            'B cells_11': 'LowQ_Bcells',\n",
    "            'B cells_12': 'LowQ_Bcells',\n",
    "            'Plasma cells_0': 'Plasma cells',\n",
    "            'Plasma cells_1': 'Plasma cells',\n",
    "            'Plasma cells_2': 'Plasma cells',\n",
    "            'Plasma cells_3': 'Plasma cells',\n",
    "            'Plasma cells_4': 'Plasma cells',\n",
    "            'Plasma cells_5': 'LowQ_Plasma cells',\n",
    "            'Plasma cells_6': 'Plasma cells',\n",
    "            'Plasma cells_7': 'Plasma cells',\n",
    "            'Plasma cells_8': 'Plasma cells',\n",
    "            'Plasma cells_9': 'Plasma cells',\n",
    "            'Plasma cells_10': 'Plasma cells',\n",
    "            'Plasma cells_11': 'Plasma cells',\n",
    "            'Doub_EC-AEA|EC-DVR_0': 'EC-DVR',\n",
    "            'Doub_EC-AEA|EC-DVR_1': 'EC-AEA',\n",
    "            'Doub_EC-AEA|EC-DVR_2': 'EC-DVR',\n",
    "            'Doub_EC-AEA|EC-DVR_3': 'EC-AEA_SULF1+',\n",
    "            'Doub_EC-AEA|EC-DVR_4': 'EC-DVR',\n",
    "            'Doub_EC-AEA|EC-DVR_5': 'EC-AVR',\n",
    "            'Doub_EC-AEA|EC-DVR_6': 'EC-DVR',\n",
    "            'Doub_EC-PTC|MC_0': 'EC-cap',\n",
    "            'Doub_EC-PTC|MC_1': 'EC-Glomerular_cap',\n",
    "            'Doub_EC-PTC|MC_2': 'EC-Glomerular_cap',\n",
    "            'Doub_EC-PTC|MC_3': 'dEC-cap',\n",
    "            'Doub_EC-PTC|MC_4': 'EC-Glomerular_cap',\n",
    "            'Doub_EC-PTC|MC_5': 'dEC-PTC',\n",
    "            'EC-AVR_damaged_0': 'Doub_EC|Macro',\n",
    "            'EC-AVR_damaged_1': 'Doub_EC|Macro',\n",
    "            'EC-AVR_damaged_2': 'Doub_EC|Macro',\n",
    "            'EC-AVR_damaged_3': 'Doub_EC|Macro',\n",
    "            'EC-AVR_damaged_4': 'EC-AVR',\n",
    "            'EC-AVR_damaged_5': 'EC-DVR',\n",
    "            'EC-AVR_damaged_6': 'Doub_EC|Macro',\n",
    "            'EC-AVR_damaged_7': 'Doub_EC|Macro',\n",
    "            'EC-AVR_damaged_8': 'Doub_EC|Macro',\n",
    "            'EC-LYM_0': 'EC-LYM',\n",
    "            'EC-LYM_1': 'EC-LYM',\n",
    "            'EC-LYM_2': 'EC-LYM',\n",
    "            'EC-LYM_3': 'dEC-LYM',\n",
    "            'Fibroblasts_0': 'EC-PTC',\n",
    "            'Fibroblasts_1': 'Doub_EC-PTC|AVR',\n",
    "            'Fibroblasts_2': 'EC-AVR',\n",
    "            'Fibroblasts_3': 'cycEC-PTC',\n",
    "            'Fibroblasts_4': 'dEC-cap',\n",
    "            'Fibroblasts_5': 'EC-venus',\n",
    "            'Fibroblasts_6': 'EC-PTC',\n",
    "            'SULF1+_EC_0': 'EC-cap_STC1+',\n",
    "            'SULF1+_EC_1': 'EC-cap_STC1+',\n",
    "            'SULF1+_EC_2': 'EC-cap_STC1+',\n",
    "            'SULF1+_EC_3': 'Doub_EC|PC',\n",
    "            'SULF1+_EC_4': 'EC-cap_STC1+',\n",
    "            'SULF1+_EC_5': 'EC-cap_STC1+',\n",
    "            'SULF1+_EC_6': 'Doub_EC|PC',\n",
    "            'SULF1+_EC_7': 'EC-cap_STC1+',\n",
    "            'SULF1+_EC_8': 'EC-cap_STC1+',\n",
    "            'SULF1+_EC_9': 'EC-cap_STC1+',\n",
    "            'LowQ_PEC|VSMC|Neuro|Immune_0': 'VSCM',\n",
    "            'LowQ_PEC|VSMC|Neuro|Immune_1': 'Pericytes',\n",
    "            'LowQ_PEC|VSMC|Neuro|Immune_2': 'MC',\n",
    "            'LowQ_PEC|VSMC|Neuro|Immune_3': 'Fibroblasts_NEGR1+',\n",
    "            'LowQ_PEC|VSMC|Neuro|Immune_4': 'Fibroblasts',\n",
    "            'LowQ_PEC|VSMC|Neuro|Immune_5': 'EC-DVR',\n",
    "            'LowQ_PEC|VSMC|Neuro|Immune_6': 'Doub_Fibroblasts|Immune',\n",
    "            'LowQ_PEC|VSMC|Neuro|Immune_7': 'MC',\n",
    "            'LowQ_PEC|VSMC|Neuro|Immune_8': 'CD-PC',\n",
    "            'LowQ_PEC|VSMC|Neuro|Immune_9': 'Doub_VSMC|Immune',\n",
    "            'LowQ_PEC|VSMC|Neuro|Immune_10': 'VSMC',\n",
    "            'CD8_eff_mem_0': 'CD8_activated_exhausted',\n",
    "            'CD8_eff_mem_1': 'LowQ_CD8',\n",
    "            'CD8_eff_mem_2': 'CD8_cycling',\n",
    "            'CD8_eff_mem_3': 'CD8_memory_resident',\n",
    "            'CD8_eff_mem_4': 'LowQ_CD8',\n",
    "            'CD8_eff_mem_5': 'CD8_cycling',\n",
    "            'CD8|CD4_naive_0': 'CD4_naive',\n",
    "            'CD8|CD4_naive_1': 'CD8_naive',\n",
    "            'CD8|CD4_naive_2': 'CD8_naive',\n",
    "            'CD8|CD4_naive_3': 'CD8_naive',\n",
    "            'CD8|CD4_naive_4': 'CD8_naive',\n",
    "            'CD8|CD4_naive_5': 'CD8_naive',\n",
    "            'CD8|CD4_naive_6': 'CD4_naive',\n",
    "            'CD8|CD4_naive_7': 'CD8_naive',\n",
    "            'CD8|CD4_naive_8': 'CD8_naive',\n",
    "            'CD4eff_mem|Treg_0': 'CD8_memory_resident',\n",
    "            'CD4eff_mem|Treg_1': 'CD4_memory_resident',\n",
    "            'CD4eff_mem|Treg_2': 'Tregs',\n",
    "            'CD4eff_mem|Treg_3': 'CD4_memory_resident',\n",
    "            'CD4eff_mem|Treg_4': 'CD4_central_memory',\n",
    "            'CD4eff_mem|Treg_5': 'LowQ_CD8_memory',\n",
    "            'CD4eff_mem|Treg_6': 'CD8_activated_cytotoxic',\n",
    "            'CD4eff_mem|Treg_7': 'gdT cells',\n",
    "            'CD4eff_mem|Treg_8': 'LowQ_Immune',\n",
    "            'CD4eff_mem|Treg_9': 'LowQ_Immune',\n",
    "            'CD4eff_mem|Treg_10': 'LowQ_Immune',\n",
    "            'CD4eff_mem|Treg_11': 'LowQ_Immune',\n",
    "            'CD4eff_mem|Treg_12': 'LowQ_Immune',\n",
    "            'CD4eff_mem|Treg_13': 'LowQ_Immune',\n",
    "            'CD4eff_mem|Treg_14': 'LowQ_Immune',            \n",
    "            'CD4eff_mem|Treg_15':'LowQ_Immune',\n",
    "            'CD4eff_mem|Treg_16':'LowQ_Immune',\n",
    "            'CD4eff_mem|Treg_17':'LowQ_Immune',\n",
    "            'CD4eff_mem|Treg_18':'LowQ_Immune',\n",
    "            'CD4eff_mem|Treg_19':'LowQ_Immune',\n",
    "            'CD4eff_mem|Treg_20':'LowQ_Immune',\n",
    "            'CD4eff_mem|Treg_21':'LowQ_Immune',\n",
    "            'CD4eff_mem|Treg_22':'LowQ_Immune',\n",
    "            'CD4eff_mem|Treg_23':'LowQ_Immune',\n",
    "            'CD4eff_mem|Treg_24':'LowQ_Immune',\n",
    "            'CD4eff_mem|Treg_25':'LowQ_Immune',\n",
    "            'CD4eff_mem|Treg_26':'LowQ_Immune',\n",
    "            'CD4eff_mem|Treg_27':'LowQ_Immune',\n",
    "            'CD4eff_mem|Treg_28':'LowQ_Immune',\n",
    "            'CD4eff_mem|Treg_29':'LowQ_Immune',\n",
    "            'CD4eff_mem|Treg_30':'LowQ_Immune',\n",
    "            'CD4eff_mem|Treg_31':'LowQ_Immune',\n",
    "            'CD4eff_mem|Treg_32':'LowQ_Immune',\n",
    "            'CD4eff_mem|Treg_33':'LowQ_Immune',\n",
    "            'CD4eff_mem|Treg_34':'LowQ_Immune',\n",
    "            'CD4eff_mem|Treg_35':'LowQ_Immune',\n",
    "            'CD4eff_mem|Treg_36':'LowQ_Immune',\n",
    "            'CD4eff_mem|Treg_37':'LowQ_Immune',\n",
    "            'CD4eff_mem|Treg_38':'LowQ_Immune',\n",
    "            'CD4eff_mem|Treg_39':'LowQ_Immune',\n",
    "            'CD4eff_mem|Treg_40':'LowQ_Immune',\n",
    "            'CD4eff_mem|Treg_41':'LowQ_Immune',\n",
    "            'CD4eff_mem|Treg_42':'LowQ_Immune',\n",
    "            'CD4eff_mem|Treg_43':'LowQ_Immune',\n",
    "            'CD4eff_mem|Treg_44':'LowQ_Immune',\n",
    "            'CD4eff_mem|Treg_45':'LowQ_Immune',\n",
    "            'CD4eff_mem|Treg_46':'LowQ_Immune',\n",
    "            'CD4eff_mem|Treg_47':'LowQ_Immune',\n",
    "            'CD4eff_mem|Treg_48':'LowQ_Immune',\n",
    "            'CD4eff_mem|Treg_49':'LowQ_Immune',\n",
    "            'CD4eff_mem|Treg_50':'LowQ_Immune',\n",
    "            'CD4eff_mem|Treg_51':'LowQ_Immune',\n",
    "            'CD4eff_mem|Treg_52':'LowQ_Immune',\n",
    "            'CD4eff_mem|Treg_53':'LowQ_Immune',\n",
    "            'CD4eff_mem|Treg_54':'LowQ_Immune',\n",
    "            'CD4eff_mem|Treg_55':'LowQ_Immune',\n",
    "            'CD4eff_mem|Treg_56':'LowQ_Immune',\n",
    "            'CD4eff_mem|Treg_57':'LowQ_Immune',\n",
    "            'CD4eff_mem|Treg_58':'LowQ_Immune',\n",
    "            'CD4eff_mem|Treg_59':'LowQ_Immune',\n",
    "            'CD4eff_mem|Treg_60':'LowQ_Immune',\n",
    "            'CD4eff_mem|Treg_61':'LowQ_Immune',\n",
    "            'CD4eff_mem|Treg_62':'LowQ_Immune',\n",
    "            'CD4eff_mem|Treg_63':'LowQ_Immune',\n",
    "            'CD4eff_mem|Treg_64':'LowQ_Immune',\n",
    "            'CD4eff_mem|Treg_65':'LowQ_Immune',\n",
    "            'CD4eff_mem|Treg_66':'LowQ_Immune',\n",
    "            'CD4eff_mem|Treg_67':'LowQ_Immune',\n",
    "            'CD4eff_mem|Treg_68':'LowQ_Immune',\n",
    "            'CD4eff_mem|Treg_69':'LowQ_Immune',\n",
    "            'CD4eff_mem|Treg_70':'LowQ_Immune',\n",
    "            'CD4eff_mem|Treg_71':'LowQ_Immune',\n",
    "            'CD4eff_mem|Treg_72':'LowQ_Immune',\n",
    "            'CD4eff_mem|Treg_73':'LowQ_Immune',\n",
    "            'CD4eff_mem|Treg_74':'LowQ_Immune',\n",
    "            'CD4eff_mem|Treg_75':'LowQ_Immune',\n",
    "            'CD4eff_mem|Treg_76':'LowQ_Immune',\n",
    "            'CD4eff_mem|Treg_77':'LowQ_Immune',\n",
    "            'CD4eff_mem|Treg_78':'LowQ_Immune',\n",
    "            'CD4eff_mem|Treg_79':'LowQ_Immune',\n",
    "            'CD4eff_mem|Treg_80':'LowQ_Immune',\n",
    "            'CD4eff_mem|Treg_81':'LowQ_Immune',\n",
    "            'CD4eff_mem|Treg_82':'LowQ_Immune',\n",
    "            'CD4eff_mem|Treg_83':'LowQ_Immune',\n",
    "            'CD4eff_mem|Treg_84':'LowQ_Immune',\n",
    "            'CD4eff_mem|Treg_85':'LowQ_Immune',\n",
    "            'CD4eff_mem|Treg_86':'LowQ_Immune',\n",
    "            'CD4eff_mem|Treg_87':'LowQ_Immune',\n",
    "            'CD4eff_mem|Treg_88':'LowQ_Immune',\n",
    "            'CD4eff_mem|Treg_89':'LowQ_Immune',\n",
    "            'CD4eff_mem|Treg_90':'LowQ_Immune',\n",
    "            'CD4eff_mem|Treg_91':'LowQ_Immune',\n",
    "            'CD4eff_mem|Treg_92':'LowQ_Immune',\n",
    "            'CD4eff_mem|Treg_93':'LowQ_Immune',\n",
    "            'Neutrophil_0': 'Neutrophils',\n",
    "            'Neutrophil_1': 'Neutrophils',\n",
    "            'Neutrophil_2': 'Neutrophils_activated',\n",
    "            'Neutrophil_3': 'Neutrophils_activated',\n",
    "            'Neutrophil_4': 'Neutrophils',\n",
    "            'Neutrophil_5': 'Neutrophils_activated',\n",
    "            'Neutrophil_6': 'Neutrophils_activated',\n",
    "            'Neutrophil_7': 'Neutrophils_activated',\n",
    "            'NK|ILC_0': 'CD8_effector_cytoxic',\n",
    "            'NK|ILC_1': 'Doub_PT|NK',\n",
    "            'NK|ILC_2': 'CD8_effector_cytoxic',\n",
    "            'NK|ILC_3': 'Doub_Tcell|Bcell',\n",
    "            'NK|ILC_4': 'CD8_effector_cytoxic',\n",
    "            'NK|ILC_5': 'CD8_effector_cytoxic',\n",
    "            'NK|ILC_6': 'NK_CD56dim_CD16+',\n",
    "            'NK|ILC_7': 'CD8_effector_cytoxic',\n",
    "            'NK|ILC_8': 'CD8_effector_cytoxic',\n",
    "            'MAIT|Tgd||NKT_0': 'CD8_effector_cytoxic',\n",
    "            'MAIT|Tgd||NKT_1': 'NKT',\n",
    "            'MAIT|Tgd||NKT_2': 'CD8_effector_cytoxic',\n",
    "            'MAIT|Tgd||NKT_3': 'NK_CD56bright_CD16-',\n",
    "            'MAIT|Tgd||NKT_4': 'CD4_resident_memory',\n",
    "            'MAIT|Tgd||NKT_5': 'CD8_effector_cytoxic',\n",
    "            'MAIT|Tgd||NKT_6': 'NK_CD56bright_CD16+',\n",
    "            'MAIT|Tgd||NKT_7': 'MAIT cells',\n",
    "            'MAIT|Tgd||NKT_8': 'LowQ_Immune',\n",
    "            'MAIT|Tgd||NKT_9':'LowQ_Immune',\n",
    "            'MAIT|Tgd||NKT_10':'LowQ_Immune',\n",
    "            'MAIT|Tgd||NKT_11':'LowQ_Immune',\n",
    "            'MAIT|Tgd||NKT_12':'LowQ_Immune',\n",
    "            'MAIT|Tgd||NKT_13':'LowQ_Immune',\n",
    "            'MAIT|Tgd||NKT_14':'LowQ_Immune',\n",
    "            'MAIT|Tgd||NKT_15':'LowQ_Immune',\n",
    "            'MAIT|Tgd||NKT_16':'LowQ_Immune',\n",
    "            'MAIT|Tgd||NKT_17':'LowQ_Immune',\n",
    "            'MAIT|Tgd||NKT_18':'LowQ_Immune',\n",
    "            'MAIT|Tgd||NKT_19':'LowQ_Immune',\n",
    "            'MAIT|Tgd||NKT_20':'LowQ_Immune',\n",
    "            'MAIT|Tgd||NKT_21':'LowQ_Immune',\n",
    "            'MAIT|Tgd||NKT_22':'LowQ_Immune',\n",
    "            'MAIT|Tgd||NKT_23':'LowQ_Immune',\n",
    "            'MAIT|Tgd||NKT_24':'LowQ_Immune',\n",
    "            'MAIT|Tgd||NKT_25':'LowQ_Immune',\n",
    "            'MAIT|Tgd||NKT_26':'LowQ_Immune',\n",
    "            'MAIT|Tgd||NKT_27':'LowQ_Immune',\n",
    "            'MAIT|Tgd||NKT_28':'LowQ_Immune',\n",
    "            'MAIT|Tgd||NKT_29':'LowQ_Immune',\n",
    "            'MAIT|Tgd||NKT_30':'LowQ_Immune',\n",
    "            'MAIT|Tgd||NKT_31':'LowQ_Immune',\n",
    "            'MAIT|Tgd||NKT_32':'LowQ_Immune',\n",
    "            'MAIT|Tgd||NKT_33':'LowQ_Immune',\n",
    "            'MAIT|Tgd||NKT_34':'LowQ_Immune',\n",
    "            'MAIT|Tgd||NKT_35':'LowQ_Immune',\n",
    "            'MAIT|Tgd||NKT_36':'LowQ_Immune',\n",
    "            'MAIT|Tgd||NKT_37':'LowQ_Immune',\n",
    "            'MAIT|Tgd||NKT_38':'LowQ_Immune',\n",
    "            'MAIT|Tgd||NKT_39':'LowQ_Immune',\n",
    "            'MAIT|Tgd||NKT_40':'LowQ_Immune',\n",
    "            'MAIT|Tgd||NKT_41':'LowQ_Immune',\n",
    "            'MAIT|Tgd||NKT_42':'LowQ_Immune',\n",
    "            'MAIT|Tgd||NKT_43':'LowQ_Immune',\n",
    "            'MAIT|Tgd||NKT_44':'LowQ_Immune',\n",
    "            'MAIT|Tgd||NKT_45':'LowQ_Immune',\n",
    "            'MAIT|Tgd||NKT_46':'LowQ_Immune',\n",
    "            'MAIT|Tgd||NKT_47':'LowQ_Immune',\n",
    "            'MAIT|Tgd||NKT_48':'LowQ_Immune',\n",
    "            'MAIT|Tgd||NKT_49':'LowQ_Immune',\n",
    "            'MAIT|Tgd||NKT_50':'LowQ_Immune',\n",
    "            'MAIT|Tgd||NKT_51':'LowQ_Immune',\n",
    "            'MAIT|Tgd||NKT_52':'LowQ_Immune',\n",
    "            'MAIT|Tgd||NKT_53':'LowQ_Immune',\n",
    "            'MAIT|Tgd||NKT_54':'LowQ_Immune',\n",
    "            'MAIT|Tgd||NKT_55':'LowQ_Immune',\n",
    "            'MAIT|Tgd||NKT_56':'LowQ_Immune',\n",
    "            'MAIT|Tgd||NKT_57':'LowQ_Immune',\n",
    "            'MAIT|Tgd||NKT_58':'LowQ_Immune',\n",
    "            'MAIT|Tgd||NKT_59':'LowQ_Immune',\n",
    "            'MAIT|Tgd||NKT_60':'LowQ_Immune',\n",
    "            'MAIT|Tgd||NKT_61':'LowQ_Immune',\n",
    "            'MAIT|Tgd||NKT_62':'LowQ_Immune',\n",
    "            'MAIT|Tgd||NKT_63':'LowQ_Immune',\n",
    "            'MAIT|Tgd||NKT_64':'LowQ_Immune',\n",
    "            'MAIT|Tgd||NKT_65':'LowQ_Immune',\n",
    "            'MAIT|Tgd||NKT_66':'LowQ_Immune',\n",
    "            'MAIT|Tgd||NKT_67':'LowQ_Immune',\n",
    "            'MAIT|Tgd||NKT_68':'LowQ_Immune',\n",
    "            'MAIT|Tgd||NKT_69':'LowQ_Immune',\n",
    "            'MAIT|Tgd||NKT_70':'LowQ_Immune',\n",
    "            'MAIT|Tgd||NKT_71':'LowQ_Immune',\n",
    "            'MAIT|Tgd||NKT_72':'LowQ_Immune',\n",
    "            'MAIT|Tgd||NKT_73':'LowQ_Immune',\n",
    "            'MAIT|Tgd||NKT_74':'LowQ_Immune',\n",
    "            'MAIT|Tgd||NKT_75':'LowQ_Immune',\n",
    "            'MAIT|Tgd||NKT_76':'LowQ_Immune',\n",
    "            'MAIT|Tgd||NKT_77':'LowQ_Immune',\n",
    "            'MAIT|Tgd||NKT_78':'LowQ_Immune',\n",
    "            'MAIT|Tgd||NKT_79':'LowQ_Immune',\n",
    "            'MAIT|Tgd||NKT_80':'LowQ_Immune',\n",
    "            'MAIT|Tgd||NKT_81':'LowQ_Immune',\n",
    "            'MAIT|Tgd||NKT_82':'LowQ_Immune',\n",
    "            'MAIT|Tgd||NKT_83':'LowQ_Immune',\n",
    "            'MAIT|Tgd||NKT_84':'LowQ_Immune',\n",
    "            'MAIT|Tgd||NKT_85':'LowQ_Immune',\n",
    "            'MAIT|Tgd||NKT_86':'LowQ_Immune',\n",
    "            'MAIT|Tgd||NKT_87':'LowQ_Immune',\n",
    "            'MAIT|Tgd||NKT_88':'LowQ_Immune',\n",
    "            'MAIT|Tgd||NKT_89':'LowQ_Immune',\n",
    "            'MAIT|Tgd||NKT_90':'LowQ_Immune',\n",
    "            'MAIT|Tgd||NKT_91':'LowQ_Immune',\n",
    "            'MAIT|Tgd||NKT_92':'LowQ_Immune',\n",
    "            'HighMT_Doub_Macro|DC_0': 'Macrophages_TREM2+',\n",
    "            'HighMT_Doub_Macro|DC_1': 'Macrophages_M2_MRC1+',\n",
    "            'HighMT_Doub_Macro|DC_2': 'cDC2',\n",
    "            'HighMT_Doub_Macro|DC_3': 'Macrophages_Resident',\n",
    "            'HighMT_Doub_Macro|DC_4': 'Macrophages_TREM2+',\n",
    "            'HighMT_Doub_Macro|DC_5': 'Monocyte-Macrophages',\n",
    "            'HighMT_Doub_Macro|DC_6': 'LowQ_Macrophages',\n",
    "            'HighMT_Doub_Macro|DC_7': 'Macrophages_M2',\n",
    "            'HighMT_Doub_Macro|DC_8': 'LowQ_Macrophages',\n",
    "            'HighMT_Doub_Macro|DC_9': 'LowQ_Macrophages',\n",
    "            'HighMT_Doub_Macro|DC_10': 'LowQ_Macrophages',\n",
    "            'HighMT_Doub_Macro|DC_11': 'LowQ_Macrophages',\n",
    "            'HighMT_Doub_Macro|DC_12': 'LowQ_Macrophages',\n",
    "            'HighMT_Doub_Macro|DC_13': 'LowQ_Macrophages',\n",
    "            'HighMT_Doub_Macro|DC_14': 'LowQ_Macrophages',\n",
    "            'HighMT_Doub_Macro|DC_15': 'Macrophages_TREM2+',\n",
    "            'LowQ_Monocytes_0':'PT_Zhang',\n",
    "            'LowQ_Monocytes_1':'PT_Zhang',\n",
    "            'LowQ_Monocytes_2':'PT_Zhang',\n",
    "            'LowQ_Monocytes_3':'PT_Zhang',\n",
    "            'LowQ_Monocytes_4':'PT_Zhang',\n",
    "            'LowQ_Monocytes_5':'PT_Zhang',\n",
    "            'LowQ_Monocytes_6':'PT_Zhang',\n",
    "            'Macro_0': 'Doub_Macro|PT',\n",
    "            'Macro_1': 'Doub_Macro|PT',\n",
    "            'Macro_2': 'Doub_Macro|PT',\n",
    "            'Macro_3': 'Doub_Macro|PT',\n",
    "            'Macro_4': 'Doub_Macro|PT',\n",
    "            'Macro_5': 'Doub_Macro|PT',\n",
    "            'Macro_6': 'Doub_Macro|PT',\n",
    "            'Macro_7': 'Doub_Macro|PT',\n",
    "            'Macro_8': 'Doub_Macro|PT',\n",
    "            'Macro_9': 'Doub_Macro|PT',\n",
    "            'Monocytes_0': 'Monocytes non-classical_CD16+',\n",
    "            'Monocytes_1': 'Monocytes classical_CD14+',\n",
    "            'Monocytes_2': 'Monocytes non-classical_CD16+',\n",
    "            'Monocytes_3': 'Monocytes classical_activated',\n",
    "            'Monocytes_4': 'Monocytes classical_migratory',\n",
    "            'Monocytes_5': 'Monocytes non-classical_activated',\n",
    "            'Monocytes_6': 'LowQ_Monocyte',\n",
    "            'Monocytes_7': 'LowQ_Monocyte',\n",
    "            'Monocytes_8': 'LowQ_Monocyte',\n",
    "            'Monocytes_9': 'LowQ_Monocyte',\n",
    "            'Monocytes_10': 'LowQ_Monocyte',\n",
    "            'Monocytes_11': 'LowQ_Monocyte',\n",
    "            'Monocytes_12': 'LowQ_Monocyte',\n",
    "            'Monocytes_13': 'LowQ_Monocyte',\n",
    "            'Monocytes_14': 'LowQ_Monocyte',\n",
    "            'Monocytes_15': 'LowQ_Monocyte',\n",
    "            'Monocytes_16': 'LowQ_Monocyte',\n",
    "            'Monocytes_17': 'LowQ_Monocyte',\n",
    "            'Monocytes_18': 'LowQ_Monocyte',\n",
    "            'Monocytes_19': 'LowQ_Monocyte',\n",
    "            'Monocytes_20': 'LowQ_Monocyte',\n",
    "            'Monocytes_21': 'LowQ_Monocyte',\n",
    "            'Monocytes_22': 'LowQ_Monocyte',\n",
    "            'Monocytes_23': 'LowQ_Monocyte',\n",
    "            'Monocytes_24': 'LowQ_Monocyte',\n",
    "            'Monocytes_25': 'LowQ_Monocyte',\n",
    "            'Monocytes_26': 'LowQ_Monocyte',\n",
    "            'Monocytes_27': 'LowQ_Monocyte',\n",
    "            'Monocytes_28': 'LowQ_Monocyte',\n",
    "            'Monocytes_29': 'LowQ_Monocyte',\n",
    "            'Monocytes_30': 'LowQ_Monocyte',\n",
    "            'Monocytes_31': 'LowQ_Monocyte',\n",
    "            'Monocytes_32': 'LowQ_Monocyte',\n",
    "            'Monocytes_33': 'LowQ_Monocyte',\n",
    "            'Monocytes_34': 'LowQ_Monocyte',\n",
    "            'Monocytes_35': 'LowQ_Monocyte',\n",
    "            'Monocytes_36': 'LowQ_Monocyte',\n",
    "            'Monocytes_37': 'LowQ_Monocyte',\n",
    "            'Monocytes_38': 'LowQ_Monocyte',\n",
    "            'Monocytes_39': 'LowQ_Monocyte',\n",
    "            'Monocytes_40': 'LowQ_Monocyte',\n",
    "            'Monocytes_41': 'LowQ_Monocyte',\n",
    "            'Monocytes_42': 'LowQ_Monocyte',\n",
    "            'Monocytes_43': 'LowQ_Monocyte',\n",
    "            'Monocytes_44': 'LowQ_Monocyte',\n",
    "            'Monocytes_45': 'LowQ_Monocyte',\n",
    "            'Monocytes_46': 'LowQ_Monocyte',\n",
    "            'Monocytes_47': 'LowQ_Monocyte',\n",
    "            'Monocytes_48': 'LowQ_Monocyte',\n",
    "            'Monocytes_49': 'LowQ_Monocyte',\n",
    "            'Monocytes_50': 'LowQ_Monocyte',\n",
    "            'Monocytes_51': 'LowQ_Monocyte',\n",
    "            'Monocytes_52': 'LowQ_Monocyte',\n",
    "            'Monocytes_53': 'LowQ_Monocyte',\n",
    "            'Monocytes_54': 'LowQ_Monocyte',\n",
    "            'Monocytes_55': 'LowQ_Monocyte',\n",
    "            'Monocytes_56': 'LowQ_Monocyte',\n",
    "            'Monocytes_57': 'LowQ_Monocyte',\n",
    "            'Monocytes_58': 'LowQ_Monocyte',\n",
    "            'Monocytes_59': 'LowQ_Monocyte',\n",
    "            'Monocytes_60': 'LowQ_Monocyte',\n",
    "            'Monocytes_61': 'LowQ_Monocyte',\n",
    "            'Monocytes_62': 'LowQ_Monocyte',\n",
    "            'Monocytes_63': 'LowQ_Monocyte',\n",
    "            'Monocytes_64': 'LowQ_Monocyte',\n",
    "            'Monocytes_65': 'LowQ_Monocyte',\n",
    "            'Monocytes_66': 'LowQ_Monocyte',\n",
    "            'Monocytes_67': 'LowQ_Monocyte',\n",
    "            'Monocytes_68': 'LowQ_Monocyte',\n",
    "            'Monocytes_69': 'LowQ_Monocyte',\n",
    "            'Monocytes_70': 'LowQ_Monocyte',\n",
    "            'Monocytes_71': 'LowQ_Monocyte',\n",
    "            'Monocytes_72': 'LowQ_Monocyte',\n",
    "            'Monocytes_73': 'LowQ_Monocyte',\n",
    "            'Mast cells_0': 'CD8_effector_cytoxic',\n",
    "            'Mast cells_1': 'Doub_Tcell|Macro',\n",
    "            'Mast cells_2': 'Doub_Tcell|Macro',\n",
    "            'Mast cells_3': 'Monocytes classical_CD14+',\n",
    "            'Mast cells_4': 'pDCs',\n",
    "            'Mast cells_5': 'LowQ_Monocyte',\n",
    "            'Mast cells_6': 'Doub_Tcell|Macro',\n",
    "            'Mast cells_7': 'Monocytes non-classical_CD16+',\n",
    "            'Mast cells_8': 'cDCs',\n",
    "            'Mast cells_9': 'CD8_effector_cytoxic',\n",
    "            'Mast cells_10': 'LowQ_Immune',\n",
    "            'Mast cells_11': 'LowQ_Immune',\n",
    "            'Mast cells_12': 'LowQ_Immune',\n",
    "            'Mast cells_13': 'LowQ_Immune',\n",
    "            'Mast cells_14': 'LowQ_Immune',\n",
    "            'Mast cells_15': 'LowQ_Immune',\n",
    "            'Mast cells_16': 'LowQ_Immune',\n",
    "            'Mast cells_17': 'LowQ_Immune',\n",
    "            'Mast cells_18': 'LowQ_Immune',\n",
    "            'Mast cells_19': 'LowQ_Immune',\n",
    "            'Mast cells_20': 'LowQ_Immune',\n",
    "            'Mast cells_21': 'LowQ_Immune',\n",
    "            'Mast cells_22': 'LowQ_Immune',\n",
    "            'Mast cells_23': 'LowQ_Immune',\n",
    "            'Mast cells_24': 'LowQ_Immune',\n",
    "            'Mast cells_25': 'LowQ_Immune',\n",
    "            'Mast cells_26': 'LowQ_Immune',\n",
    "            'Mast cells_27': 'LowQ_Immune',\n",
    "            'Mast cells_28': 'LowQ_Immune',\n",
    "            'Mast cells_29': 'LowQ_Immune',\n",
    "            'Mast cells_30': 'LowQ_Immune',\n",
    "            'Mast cells_31': 'LowQ_Immune',\n",
    "            'Mast cells_32': 'LowQ_Immune',\n",
    "            'Mast cells_33': 'LowQ_Immune',\n",
    "            'Mast cells_34': 'LowQ_Immune',\n",
    "            'Mast cells_35': 'LowQ_Immune',\n",
    "            'Mast cells_36': 'LowQ_Immune',\n",
    "            'Mast cells_37': 'LowQ_Immune',\n",
    "            'Mast cells_38': 'LowQ_Immune',\n",
    "            'Mast cells_39': 'LowQ_Immune',\n",
    "            'Mast cells_40': 'LowQ_Immune',\n",
    "            'Mast cells_41': 'LowQ_Immune',\n",
    "            'Mast cells_42': 'LowQ_Immune',\n",
    "            'Mast cells_43': 'LowQ_Immune',\n",
    "            'Mast cells_44': 'LowQ_Immune',\n",
    "            'Mast cells_45': 'LowQ_Immune',\n",
    "            'Mast cells_46': 'LowQ_Immune',\n",
    "            'Mast cells_47': 'LowQ_Immune',\n",
    "            'Mast cells_48': 'LowQ_Immune',\n",
    "            'Mast cells_49': 'LowQ_Immune',\n",
    "            'Mast cells_50': 'LowQ_Immune',\n",
    "            'Mast cells_51': 'LowQ_Immune',\n",
    "            'Mast cells_52': 'LowQ_Immune',\n",
    "            'Mast cells_53': 'LowQ_Immune',\n",
    "            'Mast cells_54': 'LowQ_Immune',\n",
    "            'Mast cells_55': 'LowQ_Immune',\n",
    "            'Mast cells_56': 'LowQ_Immune',\n",
    "            'Mast cells_57': 'LowQ_Immune',\n",
    "            'Mast cells_58': 'LowQ_Immune',\n",
    "            'Activated_Mast cells_0': 'Mast cells_activated',\n",
    "            'Activated_Mast cells_1': 'Mast cells',\n",
    "            'Activated_Mast cells_2': 'Mast cells',\n",
    "            'Activated_Mast cells_3': 'Mast cells_activated',\n",
    "            'Activated_Mast cells_4': 'Doub_Mast|Monocytes',\n",
    "            'Activated_Mast cells_5': 'B cells_activated',\n",
    "            'Activated_Mast cells_6': 'LowQ',\n",
    "            'Activated_Mast cells_7': 'LowQ',\n",
    "            'Activated_Mast cells_8': 'CD8 effector_cytoxic',\n",
    "            'Activated_Mast cells_9': 'LowQ_Tcell',\n",
    "            'Activated_Mast cells_10': 'LowQ_Tcell',\n",
    "            'Activated_Mast cells_11': 'LowQ_Tcell',\n",
    "            'Activated_CD8_0': 'CD8_effector_cycling',\n",
    "            'ATL_0': 'ATL',\n",
    "            'ATL_1': 'aTAL',\n",
    "            'ATL_2': 'aATL_CCL2+',\n",
    "            'ATL_3': 'Doub_ATL|Tcell',\n",
    "            'ATL_4': 'ATL',\n",
    "            'ATL_5': 'MD',\n",
    "            'ATL_6': 'Doub_PT|ATL',\n",
    "            'ATL_7': 'ATL',\n",
    "            'DTL_ATL_0': 'DTL1',\n",
    "            'DTL_ATL_1': 'dDTL1/2',\n",
    "            'DTL_ATL_2': 'Doub_DTL|PT',\n",
    "            'DTL_ATL_3': 'ATL',\n",
    "            'DTL_ATL_4': 'dDTL2',\n",
    "            'DTL_ATL_5': 'aPT',\n",
    "            'DTL_ATL_6': 'ATL_SERPINA1+',\n",
    "            'DTL_ATL_7': 'aTAL',\n",
    "            'DTL_ATL_8': 'Doub_DTL|Tcell',\n",
    "            'HighMT_Doub_ATL|DTL_0': 'aTAL',\n",
    "            'HighMT_Doub_ATL|DTL_1': 'HighMT_Doub_TAL|ATL',\n",
    "            'HighMT_Doub_ATL|DTL_2': 'HighMT_Doub_TAL|ATL',\n",
    "            'HighMT_Doub_ATL|DTL_3': 'HighMT_Doub_TAL|ATL',\n",
    "            'HighMT_Doub_ATL|DTL_4': 'aTAL',\n",
    "            'HighMT_Doub_ATL|DTL_5': 'HighMT_Doub_TAL|ATL',\n",
    "            'HighMT_Doub_ATL|DTL_6': 'HighMT_Doub_TAL|ATL',\n",
    "            'HighMT_Doub_ATL|DTL_7': 'HighMT_Doub_TAL|ATL',\n",
    "            'HighMT_Doub_ATL|DTL_8': 'HighMT_Doub_DCT|ATL',\n",
    "            'HighMT_LowQ_PT_0': 'HighMT_LowQ_PT',\n",
    "            'HighMT_LowQ_PT_1': 'HighMT_LowQ_PT',\n",
    "            'HighMT_LowQ_PT_2': 'HighMT_LowQ_PT',\n",
    "            'HighMT_LowQ_PT_3': 'HighMT_LowQ_PT',\n",
    "            'HighMT_LowQ_PT_4': 'HighMT_LowQ_PT',\n",
    "            'HighMT_LowQ_PT_5': 'HighMT_LowQ_PT',\n",
    "            'HighMT_LowQ_PT_6': 'HighMT_LowQ_PT',\n",
    "            'HighMT_LowQ_PT|B cells_0': 'HighMT_LowQ_PT',\n",
    "            'HighMT_LowQ_PT|B cells_1': 'HighMT_LowQ_PT',\n",
    "            'HighMT_LowQ_PT|B cells_2': 'HighMT_LowQ_PT',\n",
    "            'HighMT_LowQ_PT|B cells_3': 'HighMT_LowQ_PT',\n",
    "            'HighMT_LowQ_PT|B cells_4': 'HighMT_LowQ_PT',\n",
    "            'HighMT_LowQ_PT|B cells_5': 'HighMT_LowQ_PT',\n",
    "            'HighMT_LowQ_PT|B cells_6': 'HighMT_LowQ_PT',\n",
    "            'HighMT_LowQ_PT|B cells_7': 'HighMT_LowQ_PT',\n",
    "            'HighMT_LowQ_PT|B cells_8': 'HighMT_LowQ_PT',\n",
    "            'HighMT_Neural cells_0': 'Neuron',\n",
    "            'HighMT_Neural cells_1': 'Neuron',\n",
    "            'HighMT_Neural cells_2': 'LowQ_Neuron',\n",
    "            'HighMT_Neural cells_3': 'LowQ_Neuron',\n",
    "            'HighMT_Neural cells_4': 'LowQ_Neuron',\n",
    "            'HighMT_Neural cells_5': 'LowQ_Neuron',\n",
    "            'HighMT_PT/MD_0': 'HighMT_LowQ_PT',\n",
    "            'HighMT_PT/MD_1': 'HighMT_LowQ_PT',\n",
    "            'HighMT_PT/MD_2': 'HighMT_LowQ_PT',\n",
    "            'HighMT_PT/MD_3': 'HighMT_LowQ_PT',\n",
    "            'HighMT_PT/MD_4': 'HighMT_LowQ_PT',\n",
    "            'HighMT_PTS1/2_0': 'HighMT_LowQ_PT',\n",
    "            'HighMT_PTS1/2_1': 'PTS1/S2',\n",
    "            'HighMT_PTS1/2_2': 'HighMT_LowQ_PT',\n",
    "            'HighMT_PTS1/2_3': 'HighMT_LowQ_PT',\n",
    "            'HighMT_PTS1/2_4': 'HighMT_LowQ_PT',\n",
    "            'HighMT_PTS1/2_5': 'HighMT_LowQ_PT',\n",
    "            'HighMT_PTS1/2_6': 'HighMT_LowQ_PT',\n",
    "            'HighMT_PTS1|EC_0': 'HighMT_LowQ_PT',\n",
    "            'HighMT_PTS1|EC_1': 'HighMT_LowQ_PT',\n",
    "            'HighMT_PTS1|EC_2': 'HighMT_LowQ_PT',\n",
    "            'HighMT_PTS1|EC_3': 'HighMT_LowQ_PT',\n",
    "            'HighMT_PTS1|EC_4': 'HighMT_LowQ_PT',\n",
    "            'HighMT_PTS1|EC_5': 'HighMT_LowQ_PT',\n",
    "            'HighMT_PT_IL32_0': 'HighMT_LowQ_PT',\n",
    "            'HighMT_PT_IL32_1': 'HighMT_LowQ_PT',\n",
    "            'HighMT_PT_IL32_2': 'HighMT_LowQ_PT',\n",
    "            'HighMT_PT_IL32_3': 'HighMT_LowQ_PT',\n",
    "            'HighMT_PT_IL32_4': 'HighMT_LowQ_PT',\n",
    "            'HighMT_PT|Macro_0': 'HighMT_LowQ_PT',\n",
    "            'HighMT_PT|Macro_1': 'HighMT_LowQ_PT',\n",
    "            'HighMT_PT|Macro_2': 'HighMT_LowQ_PT',\n",
    "            'HighMT_TAL|EC_0': 'HighMT_LowQ_PT',\n",
    "            'HighMT_TAL|EC_1': 'HighMT_LowQ_PT',\n",
    "            'HighMT_TAL|EC_2': 'HighMT_LowQ_PT',\n",
    "            'HighMT_TAL|EC_3': 'HighMT_LowQ_PT',\n",
    "            'HighMT_TAL|EC_4': 'HighMT_LowQ_PT',\n",
    "            'HighMT_TAL|EC_5': 'HighMT_LowQ_PT',\n",
    "            'TAL_0': 'TAL',\n",
    "            'TAL_1': 'TAL',\n",
    "            'TAL_2': 'TAL',\n",
    "            'TAL_3': 'CNT-PC',\n",
    "            'TAL_4': 'TAL',\n",
    "            'TAL_5': 'ATL|CD-PC',\n",
    "            'TAL_6': 'TAL',\n",
    "            'TAL_7': 'TAL',\n",
    "            'CNT-PC_0': 'DCT1',\n",
    "            'CNT-PC_1': 'CNT-PC',\n",
    "            'CNT-PC_2': 'CNT-PC',\n",
    "            'CNT-PC_3': 'CNT-PC',\n",
    "            'CNT-PC_4': 'DCT2',\n",
    "            'CNT-PC_5': 'Doub_Immune|CNT-PC',\n",
    "            'Damaged_urothelial_0': 'Doub_EC|TAL',\n",
    "            'Damaged_urothelial_1': 'CD-PC',\n",
    "            'Damaged_urothelial_2': 'aPTS1/S2',\n",
    "            'Damaged_urothelial_3': 'Doub_ATL|CD',\n",
    "            'Damaged_urothelial_4': 'Doub_EC|TAL',\n",
    "            'Damaged_urothelial_5': 'Doub_EC|TAL',\n",
    "            'Damaged_urothelial_6': 'CNT-PC',\n",
    "            'Doub_CD-ICA|CD-ICB_0': 'CD-ICB',\n",
    "            'Doub_CD-ICA|CD-ICB_1': 'CD-ICB',\n",
    "            'Doub_CD-ICA|CD-ICB_2': 'dCD-ICB',\n",
    "            'Doub_CD-ICA|CD-ICB_3': 'Doub_ATL|CD-ICB',\n",
    "            'Doub_CD-ICA|CD-ICB_4': 'CD-ICB',\n",
    "            'Doub_CD-ICA|CD-ICB_5': 'CD-ICB',\n",
    "            'Doub_CNT-IC-A|CD-ICA|CNT-PC_0': 'CNT-PC',\n",
    "            'Doub_CNT-IC-A|CD-ICA|CNT-PC_1': 'CD-ICA',\n",
    "            'Doub_CNT-IC-A|CD-ICA|CNT-PC_2': 'CD-ICA',\n",
    "            'Doub_CNT-IC-A|CD-ICA|CNT-PC_3': 'CNT-ICA',\n",
    "            'Doub_CNT-IC-A|CD-ICA|CNT-PC_4': 'Doub_CNT-ICA|Macro',\n",
    "            'Doub_CNT-IC-A|CD-ICA|CNT-PC_5': 'CD-PC',\n",
    "            'Doub_CNT-IC-A|CD-ICA|CNT-PC_6': 'CNT-PC',\n",
    "            'Doub_CNT-IC-A|CD-ICA|CNT-PC_7': 'CNT-ICA',\n",
    "            'Doub_CNT-IC-A|CD-ICA|CNT-PC_8': 'Doub_EC|ICA',\n",
    "            'Doub_CNT-IC-A|CD-ICA|CNT-PC_9': 'Doub_TAL|CD',\n",
    "            'Doub_CNT-IC-A|CD-ICA|CNT-PC_10': 'Doub_EC|CNT',\n",
    "            'Doub_CNT-IC-A|CD-ICA|CNT-PC_11': 'CD-PC',\n",
    "            'Doub_CNT-IC-A|CD-ICA|CNT-PC_12': 'ATL',\n",
    "            'CD-PC_0': 'CD-PC',\n",
    "            'CD-PC_1': 'CNT-PC',\n",
    "            'CD-PC_2': 'dCD-PC',\n",
    "            'CD-PC_3': 'aCD-PC',\n",
    "            'CD-PC_4': 'Doub_aPT|CD-PC',\n",
    "            'CD-PC_5': 'CNT-PC',\n",
    "            'CD-PC_6': 'CD-PC',\n",
    "            'CD-PC_7': 'aCD-PC',\n",
    "            'CD-PC_8': 'dCD-PC',\n",
    "            'CD-PC_9': 'aCD-PC',\n",
    "            'CD-PC_10': 'TAL',\n",
    "            'IC-A_0': 'CD-ICA_Zhang',\n",
    "            'IC-A_1': 'CD-ICA_Zhang',\n",
    "            'IC-A_2': 'CD-ICA_Zhang',\n",
    "            'IC-A_3': 'CD-ICA_Zhang',\n",
    "            'IC-A_4': 'CD-ICA_Zhang',\n",
    "            'IC-A_5': 'CD-ICA_Zhang',\n",
    "            'IC-A_6': 'CD-ICA_Zhang',\n",
    "            'IC-A_7': 'CD-ICA_Zhang',\n",
    "            'Doub_PTS1/2|Fibro_0': 'Doub_aTAL|aPT',\n",
    "            'Doub_PTS1/2|Fibro_1': 'Doub_ATL|PTS2',\n",
    "            'Doub_PTS1/2|Fibro_2': 'Doub_PT|Macro',\n",
    "            'Doub_PTS1/2|Fibro_3': 'Doub_aTAL|aPT',\n",
    "            'Doub_PTS1/2|Fibro_4': 'aPT',\n",
    "            'Doub_PTS1/2|Fibro_5': 'dPT',\n",
    "            'Doub_PTS1/2|Fibro_6': 'Doub_VSMC|PT',\n",
    "            'Doub_PTS1/2|Fibro_7': 'Doub_PT|Lympho',\n",
    "            'Doub_PTS1/2|Fibro_8': 'Doub_VSMC|PT',\n",
    "            'Doub_PTS1/2|Fibro_9': 'Doub_aTAL|aPT',\n",
    "            'Doub_PTS1/2|Fibro_10': 'Doub_aTAL|aPT',\n",
    "            'Doub_PTS1/2|Fibro_11': 'Doub_aTAL|aPT',\n",
    "            'Doub_PTS1/2|Fibro_12': 'Doub_aTAL|Macro',\n",
    "            'Doub_PEC|PT_0': 'aPT_Zhang',\n",
    "            'Doub_PEC|PT_1': 'aPT_Zhang',\n",
    "            'Doub_PEC|PT_2': 'aPT_Zhang',\n",
    "            'Doub_PEC|PT_3': 'aPT_Zhang',\n",
    "            'Doub_PEC|PT_4': 'aPT_Zhang',\n",
    "            'Doub_PEC|PT_5': 'aPT_Zhang',\n",
    "            'Doub_PEC|PT_6': 'aPT_Zhang',\n",
    "            'Doub_PEC|PT_7': 'aPT_Zhang',\n",
    "            'Doub_PEC|PT_8': 'aPT_Zhang',\n",
    "            'PTS1_0': 'PTS1/S2',\n",
    "            'PTS1_1': 'PTS2',\n",
    "            'PTS1_2': 'PTS1',\n",
    "            'PTS1_3': 'PTS1/S2_medullary',\n",
    "            'PTS1_4': 'PTS1/S2',\n",
    "            'PTS1_5': 'PTS1/S2',\n",
    "            'PTS1_medulla_0': 'PTS1/S2_medullary',\n",
    "            'PTS1_medulla_1': 'PTS1/S2_medullary',\n",
    "            'PTS1_medulla_2': 'PTS3',\n",
    "            'PTS1_medulla_3': 'PTS3',\n",
    "            'PTS1_medulla_4': 'PTS3',\n",
    "            'PTS1_medulla_5': 'PTS1/S2_medullary',\n",
    "            'PTS3_0': 'PTS2/S3',\n",
    "            'PTS3_1': 'aPTS1/S2',\n",
    "            'PTS3_2': 'PTS2/S3',\n",
    "            'PTS3_3': 'aPTS3',  # Immune cluster inside\n",
    "            'PTS3_4': 'Doub_PTS1/S2|ATL',\n",
    "            'PTS3_5': 'Doub_PTS1/S2|ATL',\n",
    "            'PTS3_6': 'PTS2/S3',\n",
    "            'PTS3_7': 'aPTS1/S2',\n",
    "            'PTS3_8': 'Doub_PTS1/S2|Immune',\n",
    "            'PTS3_9': 'Doub_PTS1/S2|Immune',\n",
    "            'POD_0': 'POD',\n",
    "            'POD_1': 'POD',\n",
    "            'POD_2': 'POD',\n",
    "            'POD_3': 'dPOD',\n",
    "            'POD_4': 'dPOD',\n",
    "            'POD_5': 'Phagocytic_POD_AIF1+',\n",
    "            'POD_6': 'POD',\n",
    "            'POD_7': 'Doub_EC|MC',\n",
    "            'POD_8': 'Platelets',\n",
    "            'PapE_0': 'PapE1',\n",
    "            'PapE_1': 'PapE1',\n",
    "            'PapE_2': 'PapE2',\n",
    "            'PapE_3': 'PapE1',\n",
    "            'PapE_4': 'PapE2',\n",
    "            'PapE_5': 'PapE1',\n",
    "            'PapE_6': 'PapE1',\n",
    "            'PapE_7': 'PapE1',\n",
    "            'PapE_8': 'dPapE',\n",
    "            'PapE_9': 'LowQ_PapE',\n",
    "            'PapE_10': 'LowQ_PapE',\n",
    "            'PEC|Pancreatic_0': 'PEC',\n",
    "            'PEC|Pancreatic_1': 'PEC',\n",
    "            'PEC|Pancreatic_2': 'PEC',\n",
    "            'PEC|Pancreatic_3': 'PEC',\n",
    "            'PEC|Pancreatic_4': 'PEC',\n",
    "            'PEC|Pancreatic_5': 'Doub_PEC|Immune',\n",
    "            'PEC_0': 'MC',\n",
    "            'PEC_1': 'Doub_EC|MC',\n",
    "            'PEC_2': 'Doub_EC|MC',\n",
    "            'PEC_3': 'Doub_EC|MC',\n",
    "            'PEC_4': 'Doub_EC|MC',\n",
    "            'LowQ_PT|EC_0': 'RBC',\n",
    "            'LowQ_PT|EC_1': 'RBC',\n",
    "            'LowQ_PT|EC_2': 'RBC',\n",
    "            'LowQ_PT|EC_3': 'RBC',\n",
    "            'LowQ_PT|EC_4': 'RBC',\n",
    "            'LowQ_PT|EC_5': 'RBC',\n",
    "            'LowQ_PT|EC_6': 'RBC',\n",
    "            'LowQ_PT|EC_7': 'RBC',\n",
    "            'LowQ_PT|EC_8': 'RBC',\n",
    "            'LowQ_PT|EC_9': 'RBC',\n",
    "            'LowQ_PT|EC_10': 'RBC',\n",
    "            'LowQ_PT_0': 'LowQ_PT',\n",
    "            'LowQ_PT_1': 'LowQ_PT',\n",
    "            'LowQ_PT_2': 'LowQ_PT',\n",
    "            'LowQ_0': 'PAC',\n",
    "            'LowQ_1': 'PAC',\n",
    "}\n",
    "\n",
    "adata.obs['fine_annotation'] = adata.obs['leiden_R'].map(l_R_anno)"
   ]
  },
  {
   "cell_type": "code",
   "execution_count": null,
   "id": "76ea3d77-a0f6-4aef-8b51-873aa98a962a",
   "metadata": {},
   "outputs": [],
   "source": [
    "sc.pl.embedding(adata, basis='X_scVI_umap', color=['fine_annotation'], ncols=1, palette=list(matplotlib.colors.CSS4_COLORS.values()))"
   ]
  },
  {
   "cell_type": "code",
   "execution_count": null,
   "id": "bec05e80-bae2-4bb9-9cf1-b89d7fcf3285",
   "metadata": {},
   "outputs": [],
   "source": [
    "adata"
   ]
  },
  {
   "cell_type": "code",
   "execution_count": null,
   "id": "31f7233f-60f2-48e6-abc6-0e4d9a7270af",
   "metadata": {},
   "outputs": [],
   "source": [
    "columns_to_drop = [\n",
    "    'Immune_labels', 'predicted_labels', 'over_clustering', 'majority_voting', 'conf_score',\n",
    "    'adip_cap_ec', 'aerocyte_ec', 'aorta_coronary_ec', 'aorta_coronary_smc', 'art_ec_1',\n",
    "    'art_ec_2', 'art_smc', 'blood_brain_barrier_ec', 'brain_art_ec', 'brain_art_smc',\n",
    "    'brain_ven_ec', 'bridging_lec', 'cap_ec', 'cap_lec', 'cap_pc', 'ceiling_lec',\n",
    "    'endocardial_ec', 'endometrium_cap_ec', 'floor_lec', 'glomeruli_ec', 'kidney_art_ec',\n",
    "    'kidney_cap_ec', 'littoral_EC', 'myo_cap_ec', 'pericentral_cap_ec',\n",
    "    'perifollicular_sinus_lec', 'periportal_cap_ec', 'pul_art_ec', 'pul_cap_ec', 'pul_pc',\n",
    "    'pul_smc', 'pul_tip_cap_ec', 'pul_ven_ec', 'smc_pc_intermediate', 'spleen_art_ec',\n",
    "    'uterine_pc', 'uterine_smc', 'valve_down_lec', 'valve_up_lec', 'ven_ec_1', 'ven_ec_2',\n",
    "    'ven_smc', 'score_PT', 'score_PTS1', 'score_PTS2', 'score_PTS3', 'score_PODCxG',\n",
    "    'score_POD', 'score_PC', 'renal_PC', 'score_MD', 'score_DCT', 'score_PapE', 'score_CNT',\n",
    "    'score_CNT-PC', 'score_CNT-IC-A', 'score_CD', 'score_CD-PC', 'score_CD-ICA',\n",
    "    'score_ICB', 'score_LH', 'score_ATL', 'score_DTL', 'score_TAL', 'score_EC',\n",
    "    'score_EC_AEA', 'score_EC_DVR', 'score_EC_PTC', 'score_EC_AVR', 'score_EC_LYM',\n",
    "    'score_EC_CAP', 'score_MC', 'MC_CxG', 'score_VSMC', 'score_fibro', 'score_Macro',\n",
    "    'score_Mono', 'score_neuro', 'score_DC', 'score_Lympho', 'score_Tnaive',\n",
    "    'score_CD4Efmem', 'score_CD8Efmem', 'score_Treg', 'score_Tgd', 'score_TMAIT',\n",
    "    'score_NKT', 'score_Th17', 'score_NK', 'score_ILC', 'score_Bcell', 'score_Plasmacell',\n",
    "    'score_PEC', 'score_aTAL', 'score_aPT', 'score_EC-glomerular'\n",
    "]\n",
    "\n",
    "# Drop only if the column exists to avoid errors\n",
    "adata.obs.drop(columns=[col for col in columns_to_drop if col in adata.obs.columns], inplace=True)"
   ]
  },
  {
   "cell_type": "code",
   "execution_count": null,
   "id": "430afd54-0a98-4ea0-9052-1bc59e2c2130",
   "metadata": {},
   "outputs": [],
   "source": [
    "# Load CSVs using the index column\n",
    "immune = pd.read_csv('Downloads/immune_labels.csv', index_col=0)\n",
    "vasc = pd.read_csv('Downloads/vasc_labels.csv', index_col=0)\n",
    "\n",
    "# Reindex to align with adata.obs\n",
    "adata.obs['Immune_pred'] = immune.reindex(adata.obs.index).iloc[:, 0]\n",
    "adata.obs['Vasc_pred'] = vasc.reindex(adata.obs.index).iloc[:, 0]"
   ]
  },
  {
   "cell_type": "code",
   "execution_count": null,
   "id": "7a6a9078-d08e-4241-8dff-86f8ec805fc0",
   "metadata": {},
   "outputs": [],
   "source": [
    "adata.write_h5ad('HCA_kidney_sc_annotated.h5ad')"
   ]
  }
 ],
 "metadata": {
  "kernelspec": {
   "display_name": "scanpy",
   "language": "python",
   "name": "scanpy"
  },
  "language_info": {
   "codemirror_mode": {
    "name": "ipython",
    "version": 3
   },
   "file_extension": ".py",
   "mimetype": "text/x-python",
   "name": "python",
   "nbconvert_exporter": "python",
   "pygments_lexer": "ipython3",
   "version": "3.12.6"
  }
 },
 "nbformat": 4,
 "nbformat_minor": 5
}
