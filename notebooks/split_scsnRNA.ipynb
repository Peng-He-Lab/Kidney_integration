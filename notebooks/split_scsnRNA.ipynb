{
 "cells": [
  {
   "cell_type": "code",
   "execution_count": 1,
   "id": "5b818a3d-4ca1-4cf1-be22-0d9872cb5148",
   "metadata": {},
   "outputs": [],
   "source": [
    "import scanpy as sc, warnings, numpy as np, pandas as pd\n",
    "sc.settings.set_figure_params(dpi=80, facecolor=\"white\", frameon=False)\n",
    "from tqdm.auto import tqdm\n",
    "sc.settings.verbosity = 3\n",
    "warnings.filterwarnings(\"ignore\")"
   ]
  },
  {
   "cell_type": "markdown",
   "id": "e6747111-aaca-4b57-a68f-7bf20a60115c",
   "metadata": {},
   "source": [
    "### save sepreate datasets"
   ]
  },
  {
   "cell_type": "code",
   "execution_count": 2,
   "id": "afb5ab5c-8f80-4b68-aee4-918d49517fa1",
   "metadata": {},
   "outputs": [
    {
     "name": "stdout",
     "output_type": "stream",
     "text": [
      "CPU times: user 4.87 s, sys: 8.88 s, total: 13.8 s\n",
      "Wall time: 27.7 s\n"
     ]
    },
    {
     "data": {
      "text/plain": [
       "AnnData object with n_obs × n_vars = 2340396 × 36601\n",
       "    obs: 'batch', 'harmonized_celltype', 'donor', 'Sample', 'nCount_RNA', 'nFeature_RNA', 'Cell_type', 'Subcategory', 'barcode', 'celltype', 'donor_id', 'sample_uuid', 'library_uuid', 'cell_type_ontology_term_id', 'author_cell_type', 'doublet_id', 'cell_type', 'assay', 'sex', 'tissue', 'development_stage', 'Patient', 'cancer', 'CD45', 'Stage annotations', 'Grade annotations', 'file integrity', 'orig.ident', 'seurat_clusters', 'patient', 'gene_clustering', 'l', 'original_seurat_clusters', 'CN_Column', 'anno', 'cluster', 'doublet_score', 'gene_per_1kUMI', 'label', 'no_genes', 'no_genes_log10', 'pct_MT', 'sample', 'total_UMI', 'Project_ID', 'percent.mt', 'percent.ribo', 'integrated_snn_res.0.2', 'SNV_GT', 'stim', 'ident', 'Suffix', 'type', 'region', 'Sample2', 'cluster_name', 'UMAP1', 'UMAP2', 'Sample_name'"
      ]
     },
     "execution_count": 2,
     "metadata": {},
     "output_type": "execute_result"
    }
   ],
   "source": [
    "%%time\n",
    "\n",
    "adata = sc.read_h5ad(\"../data/Kidney_Combined_cellbender_v2.h5ad\")\n",
    "columns_to_drop = [col for col in adata.obs.columns if \"RNA_snn\" in col or \"_prob\" in col]\n",
    "adata.obs.drop(columns=columns_to_drop, inplace=True)\n",
    "adata"
   ]
  },
  {
   "cell_type": "code",
   "execution_count": 4,
   "id": "83611aab",
   "metadata": {},
   "outputs": [
    {
     "name": "stdout",
     "output_type": "stream",
     "text": [
      "filtered out 364830 cells that have less than 1 genes expressed\n",
      "filtered out 2464 genes that are detected in less than 1 counts\n"
     ]
    }
   ],
   "source": [
    "sc.pp.filter_cells(adata, min_genes=1)\n",
    "sc.pp.filter_genes(adata, min_counts=1)"
   ]
  },
  {
   "cell_type": "code",
   "execution_count": 5,
   "id": "4225d33b",
   "metadata": {},
   "outputs": [],
   "source": [
    "snrna_dataset = [\n",
    "    'Kidney_Muto2', \n",
    "    'Kidney_Muto',\n",
    "    'Kidney_Wilson2',\n",
    "    'Kidney_Wilson',\n",
    "    'Kidney_Lake', \n",
    "    'Kidney_Wu'\n",
    "]\n",
    "\n",
    "for item in snrna_dataset:\n",
    "    assert item in adata.obs[\"Project_ID\"].values\n",
    "\n",
    "\n",
    "adata.obs[\"modality\"] = \"scrna\"\n",
    "mask = [item in snrna_dataset for item in adata.obs[\"Project_ID\"].values]\n",
    "adata.obs.loc[mask, \"modality\"] = \"snrna\""
   ]
  },
  {
   "cell_type": "code",
   "execution_count": 7,
   "id": "2199232a",
   "metadata": {},
   "outputs": [
    {
     "name": "stderr",
     "output_type": "stream",
     "text": [
      "/home/wangh256/anaconda3/envs/scIntegrater/lib/python3.9/site-packages/anndata/_core/anndata.py:1209: ImplicitModificationWarning: Trying to modify attribute `.obs` of view, initializing view as actual.\n",
      "  df[key] = c\n"
     ]
    }
   ],
   "source": [
    "%%time\n",
    "adata[adata.obs[\"modality\"] == \"snrna\"].write(\"../data/Kidney_Combined_sn.h5ad\", compression=\"gzip\")"
   ]
  },
  {
   "cell_type": "code",
   "execution_count": 8,
   "id": "0b9629ae",
   "metadata": {},
   "outputs": [
    {
     "name": "stderr",
     "output_type": "stream",
     "text": [
      "/home/wangh256/anaconda3/envs/scIntegrater/lib/python3.9/site-packages/anndata/_core/anndata.py:1209: ImplicitModificationWarning: Trying to modify attribute `.obs` of view, initializing view as actual.\n",
      "  df[key] = c\n"
     ]
    }
   ],
   "source": [
    "%%time\n",
    "adata[adata.obs[\"modality\"] == \"scrna\"].write(\"../data/Kidney_Combined_sc.h5ad\", compression=\"gzip\")"
   ]
  },
  {
   "cell_type": "markdown",
   "id": "966d120e",
   "metadata": {},
   "source": [
    "### Check runned integration"
   ]
  },
  {
   "cell_type": "markdown",
   "id": "a42b35e5",
   "metadata": {},
   "source": [
    "#### Single Nucleas"
   ]
  },
  {
   "cell_type": "code",
   "execution_count": 9,
   "id": "5c36f453",
   "metadata": {},
   "outputs": [
    {
     "data": {
      "text/plain": [
       "AnnData object with n_obs × n_vars = 362175 × 5000\n",
       "    obs: 'batch', 'harmonized_celltype', 'donor', 'Sample', 'nCount_RNA', 'nFeature_RNA', 'Cell_type', 'Subcategory', 'barcode', 'celltype', 'donor_id', 'sample_uuid', 'library_uuid', 'cell_type_ontology_term_id', 'author_cell_type', 'doublet_id', 'cell_type', 'assay', 'sex', 'tissue', 'development_stage', 'Patient', 'cancer', 'CD45', 'Stage annotations', 'Grade annotations', 'file integrity', 'orig.ident', 'seurat_clusters', 'patient', 'gene_clustering', 'l', 'original_seurat_clusters', 'CN_Column', 'anno', 'cluster', 'doublet_score', 'gene_per_1kUMI', 'label', 'no_genes', 'no_genes_log10', 'pct_MT', 'sample', 'total_UMI', 'Project_ID', 'percent.mt', 'percent.ribo', 'integrated_snn_res.0.2', 'SNV_GT', 'stim', 'ident', 'Suffix', 'type', 'region', 'Sample2', 'cluster_name', 'UMAP1', 'UMAP2', 'Sample_name', 'n_genes', 'modality', '_scvi_batch', '_scvi_labels', 'conditions_combined'\n",
       "    var: 'n_counts', 'highly_variable', 'highly_variable_rank', 'means', 'variances', 'variances_norm', 'highly_variable_nbatches'\n",
       "    uns: '_scvi_manager_uuid', '_scvi_uuid', 'hvg', 'log1p', 'neighbors', 'pca', 'tsne', 'umap'\n",
       "    obsm: 'Harmony', 'Scanorama', 'X_bbknn', 'X_pca', 'X_scANVI', 'X_scVI', 'X_tsne', 'X_umap', 'scPoli'\n",
       "    varm: 'PCs'\n",
       "    layers: 'counts', 'log1p_norm'\n",
       "    obsp: 'connectivities', 'distances'"
      ]
     },
     "execution_count": 9,
     "metadata": {},
     "output_type": "execute_result"
    }
   ],
   "source": [
    "adata = sc.read_h5ad(\"../data/Kidney_Combined_sn_hvg5k.h5ad\")\n",
    "adata"
   ]
  },
  {
   "cell_type": "code",
   "execution_count": 10,
   "id": "dd23e387",
   "metadata": {},
   "outputs": [
    {
     "data": {
      "text/plain": [
       "AxisArrays with keys: Harmony, Scanorama, X_bbknn, X_pca, X_scANVI, X_scVI, X_tsne, X_umap, scPoli"
      ]
     },
     "execution_count": 10,
     "metadata": {},
     "output_type": "execute_result"
    }
   ],
   "source": [
    "adata.obsm"
   ]
  },
  {
   "cell_type": "code",
   "execution_count": 11,
   "id": "2bc789b1",
   "metadata": {},
   "outputs": [],
   "source": [
    "del adata.obsm[\"X_scANVI\"]\n",
    "del adata.obsm[\"scPoli\"]"
   ]
  },
  {
   "cell_type": "code",
   "execution_count": 12,
   "id": "4916cf85",
   "metadata": {},
   "outputs": [],
   "source": [
    "adata.write_h5ad(\"../data/Kidney_Combined_sn_hvg5k.h5ad\", compression=\"gzip\")"
   ]
  },
  {
   "cell_type": "code",
   "execution_count": 12,
   "id": "8ec76a73",
   "metadata": {},
   "outputs": [
    {
     "data": {
      "text/plain": [
       "View of AnnData object with n_obs × n_vars = 46010 × 5000\n",
       "    obs: 'batch', 'harmonized_celltype', 'donor', 'Sample', 'nCount_RNA', 'nFeature_RNA', 'Cell_type', 'Subcategory', 'barcode', 'celltype', 'donor_id', 'sample_uuid', 'library_uuid', 'cell_type_ontology_term_id', 'author_cell_type', 'doublet_id', 'cell_type', 'assay', 'sex', 'tissue', 'development_stage', 'Patient', 'cancer', 'CD45', 'Stage annotations', 'Grade annotations', 'file integrity', 'orig.ident', 'seurat_clusters', 'patient', 'gene_clustering', 'l', 'original_seurat_clusters', 'CN_Column', 'anno', 'cluster', 'doublet_score', 'gene_per_1kUMI', 'label', 'no_genes', 'no_genes_log10', 'pct_MT', 'sample', 'total_UMI', 'Project_ID', 'percent.mt', 'percent.ribo', 'integrated_snn_res.0.2', 'SNV_GT', 'stim', 'ident', 'Suffix', 'type', 'region', 'Sample2', 'cluster_name', 'UMAP1', 'UMAP2', 'Sample_name', 'n_genes', 'modality', '_scvi_batch', '_scvi_labels', 'conditions_combined'\n",
       "    var: 'n_counts', 'highly_variable', 'highly_variable_rank', 'means', 'variances', 'variances_norm', 'highly_variable_nbatches'\n",
       "    uns: '_scvi_manager_uuid', '_scvi_uuid', 'hvg', 'log1p', 'neighbors', 'pca', 'tsne', 'umap'\n",
       "    obsm: 'Harmony', 'Scanorama', 'X_bbknn', 'X_pca', 'X_scVI', 'X_tsne', 'X_umap'\n",
       "    varm: 'PCs'\n",
       "    layers: 'counts', 'log1p_norm'\n",
       "    obsp: 'connectivities', 'distances'"
      ]
     },
     "execution_count": 12,
     "metadata": {},
     "output_type": "execute_result"
    }
   ],
   "source": [
    "selected_dataset = [\n",
    "    'Kidney_BenPublished', \n",
    "    'Kidney_BenUnpublished',\n",
    "    'Kidney_Krebs',\n",
    "    'Kidney_Liao',\n",
    "    'Kidney_Malone',\n",
    "    'Kidney_Muto', \n",
    "    'Kidney_Raji', \n",
    "    'Kidney_Wilson',\n",
    "    'Kidney_Krishna',\n",
    "    'Kidney_Wu'\n",
    "]\n",
    "\n",
    "adata_labeled = adata[adata.obs[\"harmonized_celltype\"] != 'nan']\n",
    "adata_labeled = adata_labeled[[_batch in selected_dataset for _batch in adata_labeled.obs[\"Project_ID\"]]]\n",
    "adata_labeled"
   ]
  },
  {
   "cell_type": "code",
   "execution_count": 13,
   "id": "b1356a45",
   "metadata": {},
   "outputs": [
    {
     "data": {
      "text/plain": [
       "62"
      ]
     },
     "execution_count": 13,
     "metadata": {},
     "output_type": "execute_result"
    }
   ],
   "source": [
    "## saved labeled subset\n",
    "\n",
    "# https://docs.google.com/spreadsheets/d/1yS3yNlVnIlsGclgao0R9EeTPQTKF8Nx4wPupjzM3mrg/edit?gid=0#gid=0\n",
    "\n",
    "cell_types = [\n",
    "    \"SULF1+ EC-AEA\", \"EC-AEA\", \"Macro\", \"Macro\", \"cycMacro\", \"CCD-IC-A\",\n",
    "    \"OMCD-IC-A\", \"CNT-PC\", \"CNT-PC\", \"DTL\", \"DTL\", \"DTL\", \"EC-DVR\",\n",
    "    \"SLC6A6+ EC-AEA\", \"EC-GC\", \"EC-PTC\", \"EC-PTC\", \"EC-AVR\", \"IC-B\",\n",
    "    \"VSMC\", \"Pericyte\", \"MAST\", \"MC\", \"MD\", \"cycNK/T\", \"cycNK/T\", \"DC1\",\n",
    "    \"DC2\", \"IC-B|CNT doub\", \"POD\", \"POD\", \"PEC\", \"PT-S1/2\", \"PT-S1/2_nuc\",\n",
    "    \"PT-S3\", \"dPT\", \"dPT\", \"TAL\", \"TAL\", \"TAL\", \"ATL\", \"Treg\", \"CD4 T\",\n",
    "    \"CD4 T\", \"CD4 T\", \"Th17\", \"CD8 T\", \"CD8 T\", \"CD8 T\", \"ILC3\", \"NKT\",\n",
    "    \"Ciliated\", \"DCT\", \"EC-LYM\", \"OMCD-PC\", \"IMCD-PC\", \"MFAP5+aFIB\",\n",
    "    \"aFIB\", \"aFIB\", \"aFIB\", \"aPT\", \"aPT\", \"CCD-PC\", \"CCD-PC\", \"DCT\",\n",
    "    \"Neuron\", \"RBC\", \"B\", \"B\", \"PL\", \"TAL\", \"VWF+ EC-AVR\", \"VWF+ EC-AVR\",\n",
    "    \"cycEC\", \"cycPT\", \"CD16+ NK\", \"CD56bright NK\", \"pDC\", \"cMono\", \"ncMono\",\n",
    "    \"cycPapE\", \"PapE\", \"γδT\", \"dC-IC-A\"\n",
    "]\n",
    "\n",
    "len(np.unique(cell_types))"
   ]
  },
  {
   "cell_type": "code",
   "execution_count": 14,
   "id": "15fb28aa",
   "metadata": {},
   "outputs": [
    {
     "data": {
      "text/plain": [
       "41465"
      ]
     },
     "execution_count": 14,
     "metadata": {},
     "output_type": "execute_result"
    }
   ],
   "source": [
    "np.sum([celltype in cell_types for celltype in adata_labeled.obs[\"harmonized_celltype\"]])"
   ]
  },
  {
   "cell_type": "code",
   "execution_count": 15,
   "id": "a85839fe",
   "metadata": {},
   "outputs": [
    {
     "data": {
      "text/plain": [
       "View of AnnData object with n_obs × n_vars = 41465 × 5000\n",
       "    obs: 'batch', 'harmonized_celltype', 'donor', 'Sample', 'nCount_RNA', 'nFeature_RNA', 'Cell_type', 'Subcategory', 'barcode', 'celltype', 'donor_id', 'sample_uuid', 'library_uuid', 'cell_type_ontology_term_id', 'author_cell_type', 'doublet_id', 'cell_type', 'assay', 'sex', 'tissue', 'development_stage', 'Patient', 'cancer', 'CD45', 'Stage annotations', 'Grade annotations', 'file integrity', 'orig.ident', 'seurat_clusters', 'patient', 'gene_clustering', 'l', 'original_seurat_clusters', 'CN_Column', 'anno', 'cluster', 'doublet_score', 'gene_per_1kUMI', 'label', 'no_genes', 'no_genes_log10', 'pct_MT', 'sample', 'total_UMI', 'Project_ID', 'percent.mt', 'percent.ribo', 'integrated_snn_res.0.2', 'SNV_GT', 'stim', 'ident', 'Suffix', 'type', 'region', 'Sample2', 'cluster_name', 'UMAP1', 'UMAP2', 'Sample_name', 'n_genes', 'modality', '_scvi_batch', '_scvi_labels', 'conditions_combined'\n",
       "    var: 'n_counts', 'highly_variable', 'highly_variable_rank', 'means', 'variances', 'variances_norm', 'highly_variable_nbatches'\n",
       "    uns: '_scvi_manager_uuid', '_scvi_uuid', 'hvg', 'log1p', 'neighbors', 'pca', 'tsne', 'umap'\n",
       "    obsm: 'Harmony', 'Scanorama', 'X_bbknn', 'X_pca', 'X_scVI', 'X_tsne', 'X_umap'\n",
       "    varm: 'PCs'\n",
       "    layers: 'counts', 'log1p_norm'\n",
       "    obsp: 'connectivities', 'distances'"
      ]
     },
     "execution_count": 15,
     "metadata": {},
     "output_type": "execute_result"
    }
   ],
   "source": [
    "adata_harmonized = adata_labeled[[celltype in cell_types for celltype in adata_labeled.obs[\"harmonized_celltype\"]]]\n",
    "adata_harmonized"
   ]
  },
  {
   "cell_type": "code",
   "execution_count": 16,
   "id": "13975221",
   "metadata": {},
   "outputs": [],
   "source": [
    "adata_harmonized.write_h5ad(\"../data/Kidney_Combined_sn_hvg5k_LabeledSubset.h5ad\", compression=\"gzip\")\n",
    "\n",
    "# Kidney_Combined_sn_hvg5k"
   ]
  },
  {
   "cell_type": "markdown",
   "id": "9d44daf3",
   "metadata": {},
   "source": [
    "#### single cell"
   ]
  },
  {
   "cell_type": "code",
   "execution_count": 13,
   "id": "ee69d7f4",
   "metadata": {},
   "outputs": [
    {
     "data": {
      "text/plain": [
       "AnnData object with n_obs × n_vars = 1613391 × 5000\n",
       "    obs: 'batch', 'harmonized_celltype', 'donor', 'Sample', 'nCount_RNA', 'nFeature_RNA', 'Cell_type', 'Subcategory', 'barcode', 'celltype', 'donor_id', 'sample_uuid', 'library_uuid', 'cell_type_ontology_term_id', 'author_cell_type', 'doublet_id', 'cell_type', 'assay', 'sex', 'tissue', 'development_stage', 'Patient', 'cancer', 'CD45', 'Stage annotations', 'Grade annotations', 'file integrity', 'orig.ident', 'seurat_clusters', 'patient', 'gene_clustering', 'l', 'original_seurat_clusters', 'CN_Column', 'anno', 'cluster', 'doublet_score', 'gene_per_1kUMI', 'label', 'no_genes', 'no_genes_log10', 'pct_MT', 'sample', 'total_UMI', 'Project_ID', 'percent.mt', 'percent.ribo', 'integrated_snn_res.0.2', 'SNV_GT', 'stim', 'ident', 'Suffix', 'type', 'region', 'Sample2', 'cluster_name', 'UMAP1', 'UMAP2', 'Sample_name', 'n_genes', 'modality', '_scvi_batch', '_scvi_labels', 'conditions_combined'\n",
       "    var: 'n_counts', 'highly_variable', 'highly_variable_rank', 'means', 'variances', 'variances_norm', 'highly_variable_nbatches'\n",
       "    uns: '_scvi_manager_uuid', '_scvi_uuid', 'hvg', 'log1p', 'neighbors', 'pca', 'tsne', 'umap'\n",
       "    obsm: 'Harmony', 'Scanorama', 'X_bbknn', 'X_pca', 'X_scANVI', 'X_scVI', 'X_tsne', 'X_umap', 'scPoli'\n",
       "    varm: 'PCs'\n",
       "    layers: 'counts', 'log1p_norm'\n",
       "    obsp: 'connectivities', 'distances'"
      ]
     },
     "execution_count": 13,
     "metadata": {},
     "output_type": "execute_result"
    }
   ],
   "source": [
    "adata = sc.read_h5ad(\"../data/Kidney_Combined_sc_hvg5k.h5ad\")\n",
    "adata"
   ]
  },
  {
   "cell_type": "code",
   "execution_count": 14,
   "id": "3953b791",
   "metadata": {},
   "outputs": [],
   "source": [
    "del adata.obsm[\"X_scANVI\"]\n",
    "del adata.obsm[\"scPoli\"]"
   ]
  },
  {
   "cell_type": "code",
   "execution_count": 15,
   "id": "f6ebd732",
   "metadata": {},
   "outputs": [
    {
     "name": "stdout",
     "output_type": "stream",
     "text": [
      "CPU times: user 3min 12s, sys: 1.82 s, total: 3min 13s\n",
      "Wall time: 3min 15s\n"
     ]
    }
   ],
   "source": [
    "%%time\n",
    "adata.write_h5ad(\"../data/Kidney_Combined_sc_hvg5k.h5ad\", compression=\"gzip\")"
   ]
  },
  {
   "cell_type": "code",
   "execution_count": 19,
   "id": "8e7728ea",
   "metadata": {},
   "outputs": [
    {
     "data": {
      "text/plain": [
       "View of AnnData object with n_obs × n_vars = 448627 × 5000\n",
       "    obs: 'batch', 'harmonized_celltype', 'donor', 'Sample', 'nCount_RNA', 'nFeature_RNA', 'Cell_type', 'Subcategory', 'barcode', 'celltype', 'donor_id', 'sample_uuid', 'library_uuid', 'cell_type_ontology_term_id', 'author_cell_type', 'doublet_id', 'cell_type', 'assay', 'sex', 'tissue', 'development_stage', 'Patient', 'cancer', 'CD45', 'Stage annotations', 'Grade annotations', 'file integrity', 'orig.ident', 'seurat_clusters', 'patient', 'gene_clustering', 'l', 'original_seurat_clusters', 'CN_Column', 'anno', 'cluster', 'doublet_score', 'gene_per_1kUMI', 'label', 'no_genes', 'no_genes_log10', 'pct_MT', 'sample', 'total_UMI', 'Project_ID', 'percent.mt', 'percent.ribo', 'integrated_snn_res.0.2', 'SNV_GT', 'stim', 'ident', 'Suffix', 'type', 'region', 'Sample2', 'cluster_name', 'UMAP1', 'UMAP2', 'Sample_name', 'n_genes', 'modality', '_scvi_batch', '_scvi_labels', 'conditions_combined'\n",
       "    var: 'n_counts', 'highly_variable', 'highly_variable_rank', 'means', 'variances', 'variances_norm', 'highly_variable_nbatches'\n",
       "    uns: '_scvi_manager_uuid', '_scvi_uuid', 'hvg', 'log1p', 'neighbors', 'pca', 'tsne', 'umap'\n",
       "    obsm: 'Harmony', 'Scanorama', 'X_bbknn', 'X_pca', 'X_scVI', 'X_tsne', 'X_umap'\n",
       "    varm: 'PCs'\n",
       "    layers: 'counts', 'log1p_norm'\n",
       "    obsp: 'connectivities', 'distances'"
      ]
     },
     "execution_count": 19,
     "metadata": {},
     "output_type": "execute_result"
    }
   ],
   "source": [
    "adata_labeled = adata[adata.obs[\"harmonized_celltype\"] != 'nan']\n",
    "adata_labeled = adata_labeled[[_batch in selected_dataset for _batch in adata_labeled.obs[\"Project_ID\"]]]\n",
    "adata_labeled"
   ]
  },
  {
   "cell_type": "code",
   "execution_count": 20,
   "id": "d3c4d87b",
   "metadata": {},
   "outputs": [
    {
     "data": {
      "text/plain": [
       "View of AnnData object with n_obs × n_vars = 370373 × 5000\n",
       "    obs: 'batch', 'harmonized_celltype', 'donor', 'Sample', 'nCount_RNA', 'nFeature_RNA', 'Cell_type', 'Subcategory', 'barcode', 'celltype', 'donor_id', 'sample_uuid', 'library_uuid', 'cell_type_ontology_term_id', 'author_cell_type', 'doublet_id', 'cell_type', 'assay', 'sex', 'tissue', 'development_stage', 'Patient', 'cancer', 'CD45', 'Stage annotations', 'Grade annotations', 'file integrity', 'orig.ident', 'seurat_clusters', 'patient', 'gene_clustering', 'l', 'original_seurat_clusters', 'CN_Column', 'anno', 'cluster', 'doublet_score', 'gene_per_1kUMI', 'label', 'no_genes', 'no_genes_log10', 'pct_MT', 'sample', 'total_UMI', 'Project_ID', 'percent.mt', 'percent.ribo', 'integrated_snn_res.0.2', 'SNV_GT', 'stim', 'ident', 'Suffix', 'type', 'region', 'Sample2', 'cluster_name', 'UMAP1', 'UMAP2', 'Sample_name', 'n_genes', 'modality', '_scvi_batch', '_scvi_labels', 'conditions_combined'\n",
       "    var: 'n_counts', 'highly_variable', 'highly_variable_rank', 'means', 'variances', 'variances_norm', 'highly_variable_nbatches'\n",
       "    uns: '_scvi_manager_uuid', '_scvi_uuid', 'hvg', 'log1p', 'neighbors', 'pca', 'tsne', 'umap'\n",
       "    obsm: 'Harmony', 'Scanorama', 'X_bbknn', 'X_pca', 'X_scVI', 'X_tsne', 'X_umap'\n",
       "    varm: 'PCs'\n",
       "    layers: 'counts', 'log1p_norm'\n",
       "    obsp: 'connectivities', 'distances'"
      ]
     },
     "execution_count": 20,
     "metadata": {},
     "output_type": "execute_result"
    }
   ],
   "source": [
    "adata_harmonized = adata_labeled[[celltype in cell_types for celltype in adata_labeled.obs[\"harmonized_celltype\"]]]\n",
    "adata_harmonized"
   ]
  },
  {
   "cell_type": "code",
   "execution_count": 21,
   "id": "5ff24433",
   "metadata": {},
   "outputs": [],
   "source": [
    "adata_harmonized.write_h5ad(\"../data/Kidney_Combined_sc_hvg5k_LabeledSubset.h5ad\", compression=\"gzip\")"
   ]
  },
  {
   "cell_type": "code",
   "execution_count": null,
   "id": "e40d8e75",
   "metadata": {},
   "outputs": [],
   "source": []
  }
 ],
 "metadata": {
  "kernelspec": {
   "display_name": "scIntegrater",
   "language": "python",
   "name": "scintegrater"
  },
  "language_info": {
   "codemirror_mode": {
    "name": "ipython",
    "version": 3
   },
   "file_extension": ".py",
   "mimetype": "text/x-python",
   "name": "python",
   "nbconvert_exporter": "python",
   "pygments_lexer": "ipython3",
   "version": "3.9.18"
  }
 },
 "nbformat": 4,
 "nbformat_minor": 5
}
