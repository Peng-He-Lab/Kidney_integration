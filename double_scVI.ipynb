{
 "cells": [
  {
   "cell_type": "code",
   "execution_count": 2,
   "id": "974fefa2",
   "metadata": {},
   "outputs": [],
   "source": [
    "import scvi, scanpy as sc, warnings\n",
    "warnings.filterwarnings(\"ignore\")\n",
    "\n",
    "sc.settings.set_figure_params(dpi=80, facecolor=\"white\", frameon=False)\n",
    "sc.settings.verbosity = 3"
   ]
  },
  {
   "cell_type": "code",
   "execution_count": 3,
   "id": "31295d8c",
   "metadata": {
    "scrolled": true
   },
   "outputs": [
    {
     "name": "stdout",
     "output_type": "stream",
     "text": [
      "CPU times: user 42.5 s, sys: 2.25 s, total: 44.7 s\n",
      "Wall time: 45 s\n"
     ]
    },
    {
     "data": {
      "text/plain": [
       "AnnData object with n_obs × n_vars = 1975561 × 5000\n",
       "    obs: 'batch', 'harmonized_celltype', 'donor', 'Sample', 'nCount_RNA', 'nFeature_RNA', 'Cell_type', 'Subcategory', 'barcode', 'celltype', 'donor_id', 'sample_uuid', 'library_uuid', 'cell_type_ontology_term_id', 'author_cell_type', 'doublet_id', 'cell_type', 'assay', 'sex', 'tissue', 'development_stage', 'Patient', 'cancer', 'CD45', 'Stage annotations', 'Grade annotations', 'file integrity', 'orig.ident', 'seurat_clusters', 'patient', 'gene_clustering', 'l', 'original_seurat_clusters', 'CN_Column', 'anno', 'cluster', 'doublet_score', 'gene_per_1kUMI', 'label', 'no_genes', 'no_genes_log10', 'pct_MT', 'sample', 'total_UMI', 'Project_ID', 'percent.mt', 'percent.ribo', 'integrated_snn_res.0.2', 'SNV_GT', 'stim', 'ident', 'Suffix', 'type', 'region', 'Sample2', 'cluster_name', 'UMAP1', 'UMAP2', 'Sample_name', 'n_genes', '_scvi_batch', '_scvi_labels', 'conditions_combined', 'modality'\n",
       "    var: 'n_counts', 'highly_variable', 'highly_variable_rank', 'means', 'variances', 'variances_norm', 'highly_variable_nbatches'\n",
       "    uns: 'hvg', 'log1p', 'neighbors', 'pca', 'tsne', 'umap'\n",
       "    obsm: 'Harmony', 'Scanorama', 'X_bbknn', 'X_pca', 'X_scVI', 'X_scVI_DoubleBatch', 'X_tsne', 'X_umap'\n",
       "    varm: 'PCs'\n",
       "    layers: 'counts', 'log1p_norm'\n",
       "    obsp: 'connectivities', 'distances'"
      ]
     },
     "execution_count": 3,
     "metadata": {},
     "output_type": "execute_result"
    }
   ],
   "source": [
    "%%time\n",
    "\n",
    "adata = sc.read_h5ad(\"Kidney_Combined_hvg5k.h5ad\")\n",
    "adata"
   ]
  },
  {
   "cell_type": "code",
   "execution_count": 6,
   "id": "c299c85c",
   "metadata": {},
   "outputs": [],
   "source": [
    "# del adata.uns[\"_scvi_manager_uuid\"]\n",
    "# del adata.uns[\"_scvi_uuid\"]\n",
    "\n",
    "# del adata.obsm[\"X_scANVI\"]\n",
    "# del adata.obsm[\"scPoli\"]"
   ]
  },
  {
   "cell_type": "code",
   "execution_count": 7,
   "id": "67c619d6",
   "metadata": {
    "scrolled": true
   },
   "outputs": [
    {
     "data": {
      "text/plain": [
       "AxisArrays with keys: Harmony, Scanorama, X_bbknn, X_pca, X_scVI, X_scVI_DoubleBatch, X_tsne, X_umap"
      ]
     },
     "execution_count": 7,
     "metadata": {},
     "output_type": "execute_result"
    }
   ],
   "source": [
    "adata.obsm"
   ]
  },
  {
   "cell_type": "code",
   "execution_count": 14,
   "id": "270ac1e1",
   "metadata": {},
   "outputs": [
    {
     "data": {
      "text/plain": [
       "modality\n",
       "scrna    1613391\n",
       "snrna     362170\n",
       "Name: count, dtype: int64"
      ]
     },
     "execution_count": 14,
     "metadata": {},
     "output_type": "execute_result"
    }
   ],
   "source": [
    "adata.obs[\"modality\"].value_counts()"
   ]
  },
  {
   "cell_type": "code",
   "execution_count": 15,
   "id": "52a56df5",
   "metadata": {},
   "outputs": [
    {
     "name": "stderr",
     "output_type": "stream",
     "text": [
      "GPU available: True (cuda), used: True\n",
      "TPU available: False, using: 0 TPU cores\n",
      "IPU available: False, using: 0 IPUs\n",
      "HPU available: False, using: 0 HPUs\n",
      "LOCAL_RANK: 0 - CUDA_VISIBLE_DEVICES: [0,1,2,3,4,5,6,7]\n"
     ]
    },
    {
     "name": "stdout",
     "output_type": "stream",
     "text": [
      "Epoch 4/4: 100%|██████████| 4/4 [06:23<00:00, 95.30s/it, v_num=1, train_loss_step=539, train_loss_epoch=545]"
     ]
    },
    {
     "name": "stderr",
     "output_type": "stream",
     "text": [
      "`Trainer.fit` stopped: `max_epochs=4` reached.\n"
     ]
    },
    {
     "name": "stdout",
     "output_type": "stream",
     "text": [
      "Epoch 4/4: 100%|██████████| 4/4 [06:23<00:00, 95.77s/it, v_num=1, train_loss_step=539, train_loss_epoch=545]\n"
     ]
    }
   ],
   "source": [
    "# https://discourse.scverse.org/t/scvi-integration-using-two-batch-keys/1758/2\n",
    "\n",
    "bdata = adata.copy()\n",
    "bdata.X = bdata.layers[\"counts\"]\n",
    "\n",
    "# scvi.model.SCVI.setup_anndata(adata, layer=None, batch_key=[\"batch\", \"modality\"])\n",
    "scvi.model.SCVI.setup_anndata(bdata, layer=None, batch_key=\"batch\", categorical_covariate_keys=[\"modality\"])\n",
    "vae = scvi.model.SCVI(bdata, n_layers=2, n_latent=30, gene_likelihood=\"nb\")\n",
    "vae.train()"
   ]
  },
  {
   "cell_type": "code",
   "execution_count": 16,
   "id": "fa2481d9",
   "metadata": {},
   "outputs": [
    {
     "data": {
      "text/plain": [
       "AxisArrays with keys: Harmony, Scanorama, X_bbknn, X_pca, X_scVI, X_tsne, X_umap"
      ]
     },
     "execution_count": 16,
     "metadata": {},
     "output_type": "execute_result"
    }
   ],
   "source": [
    "adata.obsm"
   ]
  },
  {
   "cell_type": "code",
   "execution_count": 17,
   "id": "7f4b0fca",
   "metadata": {},
   "outputs": [],
   "source": [
    "adata.obsm[\"X_scVI_DoubleBatch\"] = vae.get_latent_representation()"
   ]
  },
  {
   "cell_type": "code",
   "execution_count": 18,
   "id": "a4043f36",
   "metadata": {},
   "outputs": [],
   "source": [
    "adata.write(\"Kidney_Combined_hvg5k.h5ad\", compression=\"gzip\")"
   ]
  },
  {
   "cell_type": "markdown",
   "id": "c2bb5f6b",
   "metadata": {},
   "source": [
    "    Save labeled subset"
   ]
  },
  {
   "cell_type": "code",
   "execution_count": 19,
   "id": "e6f01375",
   "metadata": {},
   "outputs": [
    {
     "data": {
      "text/plain": [
       "View of AnnData object with n_obs × n_vars = 494637 × 5000\n",
       "    obs: 'batch', 'harmonized_celltype', 'donor', 'Sample', 'nCount_RNA', 'nFeature_RNA', 'Cell_type', 'Subcategory', 'barcode', 'celltype', 'donor_id', 'sample_uuid', 'library_uuid', 'cell_type_ontology_term_id', 'author_cell_type', 'doublet_id', 'cell_type', 'assay', 'sex', 'tissue', 'development_stage', 'Patient', 'cancer', 'CD45', 'Stage annotations', 'Grade annotations', 'file integrity', 'orig.ident', 'seurat_clusters', 'patient', 'gene_clustering', 'l', 'original_seurat_clusters', 'CN_Column', 'anno', 'cluster', 'doublet_score', 'gene_per_1kUMI', 'label', 'no_genes', 'no_genes_log10', 'pct_MT', 'sample', 'total_UMI', 'Project_ID', 'percent.mt', 'percent.ribo', 'integrated_snn_res.0.2', 'SNV_GT', 'stim', 'ident', 'Suffix', 'type', 'region', 'Sample2', 'cluster_name', 'UMAP1', 'UMAP2', 'Sample_name', 'n_genes', '_scvi_batch', '_scvi_labels', 'conditions_combined', 'modality'\n",
       "    var: 'n_counts', 'highly_variable', 'highly_variable_rank', 'means', 'variances', 'variances_norm', 'highly_variable_nbatches'\n",
       "    uns: 'hvg', 'log1p', 'neighbors', 'pca', 'tsne', 'umap'\n",
       "    obsm: 'Harmony', 'Scanorama', 'X_bbknn', 'X_pca', 'X_scVI', 'X_tsne', 'X_umap', 'X_scVI_DoubleBatch'\n",
       "    varm: 'PCs'\n",
       "    layers: 'counts', 'log1p_norm'\n",
       "    obsp: 'connectivities', 'distances'"
      ]
     },
     "execution_count": 19,
     "metadata": {},
     "output_type": "execute_result"
    }
   ],
   "source": [
    "selected_dataset = [\n",
    "    'Kidney_BenPublished', \n",
    "    'Kidney_BenUnpublished',\n",
    "    'Kidney_Krebs',\n",
    "    'Kidney_Liao',\n",
    "    'Kidney_Malone',\n",
    "    'Kidney_Muto', \n",
    "    'Kidney_Raji', \n",
    "    'Kidney_Wilson',\n",
    "    'Kidney_Krishna',\n",
    "    'Kidney_Wu'\n",
    "]\n",
    "\n",
    "adata_labeled = adata[adata.obs[\"harmonized_celltype\"] != 'nan']\n",
    "adata_labeled = adata_labeled[[_batch in selected_dataset for _batch in adata_labeled.obs[\"Project_ID\"]]]\n",
    "adata_labeled"
   ]
  },
  {
   "cell_type": "code",
   "execution_count": 20,
   "id": "02ac362d",
   "metadata": {},
   "outputs": [
    {
     "data": {
      "text/plain": [
       "View of AnnData object with n_obs × n_vars = 411838 × 5000\n",
       "    obs: 'batch', 'harmonized_celltype', 'donor', 'Sample', 'nCount_RNA', 'nFeature_RNA', 'Cell_type', 'Subcategory', 'barcode', 'celltype', 'donor_id', 'sample_uuid', 'library_uuid', 'cell_type_ontology_term_id', 'author_cell_type', 'doublet_id', 'cell_type', 'assay', 'sex', 'tissue', 'development_stage', 'Patient', 'cancer', 'CD45', 'Stage annotations', 'Grade annotations', 'file integrity', 'orig.ident', 'seurat_clusters', 'patient', 'gene_clustering', 'l', 'original_seurat_clusters', 'CN_Column', 'anno', 'cluster', 'doublet_score', 'gene_per_1kUMI', 'label', 'no_genes', 'no_genes_log10', 'pct_MT', 'sample', 'total_UMI', 'Project_ID', 'percent.mt', 'percent.ribo', 'integrated_snn_res.0.2', 'SNV_GT', 'stim', 'ident', 'Suffix', 'type', 'region', 'Sample2', 'cluster_name', 'UMAP1', 'UMAP2', 'Sample_name', 'n_genes', '_scvi_batch', '_scvi_labels', 'conditions_combined', 'modality'\n",
       "    var: 'n_counts', 'highly_variable', 'highly_variable_rank', 'means', 'variances', 'variances_norm', 'highly_variable_nbatches'\n",
       "    uns: 'hvg', 'log1p', 'neighbors', 'pca', 'tsne', 'umap'\n",
       "    obsm: 'Harmony', 'Scanorama', 'X_bbknn', 'X_pca', 'X_scVI', 'X_tsne', 'X_umap', 'X_scVI_DoubleBatch'\n",
       "    varm: 'PCs'\n",
       "    layers: 'counts', 'log1p_norm'\n",
       "    obsp: 'connectivities', 'distances'"
      ]
     },
     "execution_count": 20,
     "metadata": {},
     "output_type": "execute_result"
    }
   ],
   "source": [
    "# https://docs.google.com/spreadsheets/d/1yS3yNlVnIlsGclgao0R9EeTPQTKF8Nx4wPupjzM3mrg/edit?gid=0#gid=0\n",
    "\n",
    "cell_types = [\n",
    "    \"SULF1+ EC-AEA\", \"EC-AEA\", \"Macro\", \"Macro\", \"cycMacro\", \"CCD-IC-A\",\n",
    "    \"OMCD-IC-A\", \"CNT-PC\", \"CNT-PC\", \"DTL\", \"DTL\", \"DTL\", \"EC-DVR\",\n",
    "    \"SLC6A6+ EC-AEA\", \"EC-GC\", \"EC-PTC\", \"EC-PTC\", \"EC-AVR\", \"IC-B\",\n",
    "    \"VSMC\", \"Pericyte\", \"MAST\", \"MC\", \"MD\", \"cycNK/T\", \"cycNK/T\", \"DC1\",\n",
    "    \"DC2\", \"IC-B|CNT doub\", \"POD\", \"POD\", \"PEC\", \"PT-S1/2\", \"PT-S1/2_nuc\",\n",
    "    \"PT-S3\", \"dPT\", \"dPT\", \"TAL\", \"TAL\", \"TAL\", \"ATL\", \"Treg\", \"CD4 T\",\n",
    "    \"CD4 T\", \"CD4 T\", \"Th17\", \"CD8 T\", \"CD8 T\", \"CD8 T\", \"ILC3\", \"NKT\",\n",
    "    \"Ciliated\", \"DCT\", \"EC-LYM\", \"OMCD-PC\", \"IMCD-PC\", \"MFAP5+aFIB\",\n",
    "    \"aFIB\", \"aFIB\", \"aFIB\", \"aPT\", \"aPT\", \"CCD-PC\", \"CCD-PC\", \"DCT\",\n",
    "    \"Neuron\", \"RBC\", \"B\", \"B\", \"PL\", \"TAL\", \"VWF+ EC-AVR\", \"VWF+ EC-AVR\",\n",
    "    \"cycEC\", \"cycPT\", \"CD16+ NK\", \"CD56bright NK\", \"pDC\", \"cMono\", \"ncMono\",\n",
    "    \"cycPapE\", \"PapE\", \"γδT\", \"dC-IC-A\"\n",
    "]\n",
    "\n",
    "\n",
    "# cell_types = [ct.lower() for ct in cell_types]\n",
    "\n",
    "adata_harmonized = adata_labeled[[celltype in cell_types for celltype in adata_labeled.obs[\"harmonized_celltype\"]]]\n",
    "adata_harmonized"
   ]
  },
  {
   "cell_type": "code",
   "execution_count": 21,
   "id": "9af5f2f2",
   "metadata": {},
   "outputs": [],
   "source": [
    "adata_harmonized.write_h5ad(\"kidney_hvg5k_labeled_subset.h5ad\", compression=\"gzip\")"
   ]
  },
  {
   "cell_type": "code",
   "execution_count": null,
   "id": "c12c490a",
   "metadata": {},
   "outputs": [],
   "source": []
  }
 ],
 "metadata": {
  "kernelspec": {
   "display_name": "scIntegrater",
   "language": "python",
   "name": "scintegrater"
  },
  "language_info": {
   "codemirror_mode": {
    "name": "ipython",
    "version": 3
   },
   "file_extension": ".py",
   "mimetype": "text/x-python",
   "name": "python",
   "nbconvert_exporter": "python",
   "pygments_lexer": "ipython3",
   "version": "3.9.18"
  }
 },
 "nbformat": 4,
 "nbformat_minor": 5
}
