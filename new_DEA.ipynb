{
 "cells": [
  {
   "cell_type": "code",
   "execution_count": 1,
   "id": "974fefa2",
   "metadata": {},
   "outputs": [],
   "source": [
    "import scanpy as sc, matplotlib.pyplot as plt, seaborn as sns, numpy as np, pandas as pd\n",
    "sc.settings.set_figure_params(dpi=80, facecolor=\"white\", frameon=False)\n",
    "from tqdm.auto import tqdm\n",
    "sc.settings.verbosity = 3"
   ]
  },
  {
   "cell_type": "code",
   "execution_count": 2,
   "id": "31295d8c",
   "metadata": {
    "hidden": true
   },
   "outputs": [
    {
     "name": "stdout",
     "output_type": "stream",
     "text": [
      "CPU times: user 4.78 s, sys: 8.58 s, total: 13.4 s\n",
      "Wall time: 23.6 s\n"
     ]
    },
    {
     "data": {
      "text/plain": [
       "AnnData object with n_obs × n_vars = 2340396 × 36601\n",
       "    obs: 'batch', 'harmonized_celltype', 'donor', 'Sample', 'nCount_RNA', 'nFeature_RNA', 'Cell_type', 'Subcategory', 'barcode', 'celltype', 'donor_id', 'sample_uuid', 'library_uuid', 'cell_type_ontology_term_id', 'author_cell_type', 'doublet_id', 'cell_type', 'assay', 'sex', 'tissue', 'development_stage', 'Patient', 'cancer', 'CD45', 'Stage annotations', 'Grade annotations', 'file integrity', 'orig.ident', 'seurat_clusters', 'patient', 'gene_clustering', 'l', 'original_seurat_clusters', 'CN_Column', 'anno', 'cluster', 'doublet_score', 'gene_per_1kUMI', 'label', 'no_genes', 'no_genes_log10', 'pct_MT', 'sample', 'total_UMI', 'Project_ID', 'percent.mt', 'percent.ribo', 'integrated_snn_res.0.2', 'SNV_GT', 'stim', 'ident', 'Suffix', 'type', 'region', 'Sample2', 'cluster_name', 'UMAP1', 'UMAP2', 'Sample_name'"
      ]
     },
     "execution_count": 2,
     "metadata": {},
     "output_type": "execute_result"
    }
   ],
   "source": [
    "%%time\n",
    "\n",
    "adata = sc.read_h5ad(\"Kidney_Combined_cellbender_v2.h5ad\")\n",
    "columns_to_drop = [col for col in adata.obs.columns if \"RNA_snn\" in col or \"_prob\" in col]\n",
    "adata.obs.drop(columns=columns_to_drop, inplace=True)\n",
    "adata"
   ]
  },
  {
   "cell_type": "code",
   "execution_count": 3,
   "id": "3da5b2d2",
   "metadata": {
    "hidden": true
   },
   "outputs": [
    {
     "name": "stdout",
     "output_type": "stream",
     "text": [
      "filtered out 364830 cells that have less than 1 genes expressed\n",
      "filtered out 2464 genes that are detected in less than 1 counts\n"
     ]
    }
   ],
   "source": [
    "sc.pp.filter_cells(adata, min_genes=1)\n",
    "sc.pp.filter_genes(adata, min_counts=1)"
   ]
  },
  {
   "cell_type": "code",
   "execution_count": 4,
   "id": "3ffca386",
   "metadata": {
    "hidden": true
   },
   "outputs": [
    {
     "data": {
      "text/html": [
       "<div>\n",
       "<style scoped>\n",
       "    .dataframe tbody tr th:only-of-type {\n",
       "        vertical-align: middle;\n",
       "    }\n",
       "\n",
       "    .dataframe tbody tr th {\n",
       "        vertical-align: top;\n",
       "    }\n",
       "\n",
       "    .dataframe thead th {\n",
       "        text-align: right;\n",
       "    }\n",
       "</style>\n",
       "<table border=\"1\" class=\"dataframe\">\n",
       "  <thead>\n",
       "    <tr style=\"text-align: right;\">\n",
       "      <th></th>\n",
       "      <th>n_counts</th>\n",
       "    </tr>\n",
       "  </thead>\n",
       "  <tbody>\n",
       "    <tr>\n",
       "      <th>MIR1302-2HG</th>\n",
       "      <td>350.0</td>\n",
       "    </tr>\n",
       "    <tr>\n",
       "      <th>FAM138A</th>\n",
       "      <td>2.0</td>\n",
       "    </tr>\n",
       "    <tr>\n",
       "      <th>OR4F5</th>\n",
       "      <td>19.0</td>\n",
       "    </tr>\n",
       "    <tr>\n",
       "      <th>AL627309.1</th>\n",
       "      <td>17495.0</td>\n",
       "    </tr>\n",
       "    <tr>\n",
       "      <th>AL627309.2</th>\n",
       "      <td>118.0</td>\n",
       "    </tr>\n",
       "    <tr>\n",
       "      <th>...</th>\n",
       "      <td>...</td>\n",
       "    </tr>\n",
       "    <tr>\n",
       "      <th>AC141272.1</th>\n",
       "      <td>400.0</td>\n",
       "    </tr>\n",
       "    <tr>\n",
       "      <th>AC023491.2</th>\n",
       "      <td>101.0</td>\n",
       "    </tr>\n",
       "    <tr>\n",
       "      <th>AC007325.1</th>\n",
       "      <td>101.0</td>\n",
       "    </tr>\n",
       "    <tr>\n",
       "      <th>AC007325.4</th>\n",
       "      <td>25613.0</td>\n",
       "    </tr>\n",
       "    <tr>\n",
       "      <th>AC007325.2</th>\n",
       "      <td>10332.0</td>\n",
       "    </tr>\n",
       "  </tbody>\n",
       "</table>\n",
       "<p>34137 rows × 1 columns</p>\n",
       "</div>"
      ],
      "text/plain": [
       "             n_counts\n",
       "MIR1302-2HG     350.0\n",
       "FAM138A           2.0\n",
       "OR4F5            19.0\n",
       "AL627309.1    17495.0\n",
       "AL627309.2      118.0\n",
       "...               ...\n",
       "AC141272.1      400.0\n",
       "AC023491.2      101.0\n",
       "AC007325.1      101.0\n",
       "AC007325.4    25613.0\n",
       "AC007325.2    10332.0\n",
       "\n",
       "[34137 rows x 1 columns]"
      ]
     },
     "execution_count": 4,
     "metadata": {},
     "output_type": "execute_result"
    }
   ],
   "source": [
    "# appears to be a gene/transcript identifier, specifically an NCBI GenBank accession number\n",
    "adata.var"
   ]
  },
  {
   "cell_type": "code",
   "execution_count": 5,
   "id": "628c5b2a",
   "metadata": {
    "hidden": true
   },
   "outputs": [
    {
     "data": {
      "text/plain": [
       "AnnData object with n_obs × n_vars = 1975566 × 34137\n",
       "    obs: 'batch', 'harmonized_celltype', 'donor', 'Sample', 'nCount_RNA', 'nFeature_RNA', 'Cell_type', 'Subcategory', 'barcode', 'celltype', 'donor_id', 'sample_uuid', 'library_uuid', 'cell_type_ontology_term_id', 'author_cell_type', 'doublet_id', 'cell_type', 'assay', 'sex', 'tissue', 'development_stage', 'Patient', 'cancer', 'CD45', 'Stage annotations', 'Grade annotations', 'file integrity', 'orig.ident', 'seurat_clusters', 'patient', 'gene_clustering', 'l', 'original_seurat_clusters', 'CN_Column', 'anno', 'cluster', 'doublet_score', 'gene_per_1kUMI', 'label', 'no_genes', 'no_genes_log10', 'pct_MT', 'sample', 'total_UMI', 'Project_ID', 'percent.mt', 'percent.ribo', 'integrated_snn_res.0.2', 'SNV_GT', 'stim', 'ident', 'Suffix', 'type', 'region', 'Sample2', 'cluster_name', 'UMAP1', 'UMAP2', 'Sample_name', 'n_genes'\n",
       "    var: 'n_counts'"
      ]
     },
     "execution_count": 5,
     "metadata": {},
     "output_type": "execute_result"
    }
   ],
   "source": [
    "adata"
   ]
  },
  {
   "cell_type": "code",
   "execution_count": 6,
   "id": "ceb01e0d",
   "metadata": {},
   "outputs": [
    {
     "name": "stdout",
     "output_type": "stream",
     "text": [
      "CPU times: user 44.3 s, sys: 2.39 s, total: 46.7 s\n",
      "Wall time: 47 s\n"
     ]
    },
    {
     "data": {
      "text/plain": [
       "AnnData object with n_obs × n_vars = 1975561 × 5000\n",
       "    obs: 'batch', 'harmonized_celltype', 'donor', 'Sample', 'nCount_RNA', 'nFeature_RNA', 'Cell_type', 'Subcategory', 'barcode', 'celltype', 'donor_id', 'sample_uuid', 'library_uuid', 'cell_type_ontology_term_id', 'author_cell_type', 'doublet_id', 'cell_type', 'assay', 'sex', 'tissue', 'development_stage', 'Patient', 'cancer', 'CD45', 'Stage annotations', 'Grade annotations', 'file integrity', 'orig.ident', 'seurat_clusters', 'patient', 'gene_clustering', 'l', 'original_seurat_clusters', 'CN_Column', 'anno', 'cluster', 'doublet_score', 'gene_per_1kUMI', 'label', 'no_genes', 'no_genes_log10', 'pct_MT', 'sample', 'total_UMI', 'Project_ID', 'percent.mt', 'percent.ribo', 'integrated_snn_res.0.2', 'SNV_GT', 'stim', 'ident', 'Suffix', 'type', 'region', 'Sample2', 'cluster_name', 'UMAP1', 'UMAP2', 'Sample_name', 'n_genes', '_scvi_batch', '_scvi_labels', 'conditions_combined'\n",
       "    var: 'n_counts', 'highly_variable', 'highly_variable_rank', 'means', 'variances', 'variances_norm', 'highly_variable_nbatches'\n",
       "    uns: '_scvi_manager_uuid', '_scvi_uuid', 'hvg', 'log1p', 'neighbors', 'pca', 'tsne', 'umap'\n",
       "    obsm: 'Harmony', 'Scanorama', 'X_bbknn', 'X_pca', 'X_scANVI', 'X_scVI', 'X_tsne', 'X_umap', 'scPoli'\n",
       "    varm: 'PCs'\n",
       "    layers: 'counts', 'log1p_norm'\n",
       "    obsp: 'connectivities', 'distances'"
      ]
     },
     "execution_count": 6,
     "metadata": {},
     "output_type": "execute_result"
    }
   ],
   "source": [
    "%%time\n",
    "\n",
    "adata = sc.read_h5ad(\"Kidney_Combined_hvg5k.h5ad\")\n",
    "columns_to_drop = [col for col in adata.obs.columns if \"RNA_snn\" in col or \"_prob\" in col]\n",
    "adata.obs.drop(columns=columns_to_drop, inplace=True)\n",
    "adata"
   ]
  },
  {
   "cell_type": "code",
   "execution_count": 12,
   "id": "67c619d6",
   "metadata": {},
   "outputs": [
    {
     "data": {
      "text/plain": [
       "AxisArrays with keys: Harmony, Scanorama, X_bbknn, X_pca, X_scANVI, X_scVI, X_tsne, X_umap, scPoli"
      ]
     },
     "execution_count": 12,
     "metadata": {},
     "output_type": "execute_result"
    }
   ],
   "source": [
    "adata.obsm"
   ]
  },
  {
   "cell_type": "code",
   "execution_count": 19,
   "id": "0d332bd6",
   "metadata": {},
   "outputs": [],
   "source": [
    "snrna_dataset = [\n",
    "    'Kidney_Muto2', \n",
    "    'Kidney_Muto',\n",
    "    'Kidney_Wilson2',\n",
    "    'Kidney_Wilson',\n",
    "    'Kidney_Lake', \n",
    "    'Kidney_Wu'\n",
    "]\n",
    "\n",
    "for item in snrna_dataset:\n",
    "    assert item in adata.obs[\"Project_ID\"].values\n",
    "\n",
    "\n",
    "adata.obs[\"modality\"] = \"scrna\"\n",
    "mask = [item in snrna_dataset for item in adata.obs[\"Project_ID\"].values]\n",
    "adata.obs.loc[mask, \"modality\"] = \"snrna\""
   ]
  },
  {
   "cell_type": "code",
   "execution_count": 20,
   "id": "528671a3",
   "metadata": {},
   "outputs": [
    {
     "name": "stdout",
     "output_type": "stream",
     "text": [
      "CPU times: user 4min 10s, sys: 2.03 s, total: 4min 12s\n",
      "Wall time: 4min 15s\n"
     ]
    }
   ],
   "source": [
    "%%time\n",
    "adata.write_h5ad(\"Kidney_Combined_hvg5k.h5ad\", compression=\"gzip\")"
   ]
  },
  {
   "cell_type": "code",
   "execution_count": 21,
   "id": "bb12588b",
   "metadata": {},
   "outputs": [
    {
     "data": {
      "text/plain": [
       "View of AnnData object with n_obs × n_vars = 494637 × 5000\n",
       "    obs: 'batch', 'harmonized_celltype', 'donor', 'Sample', 'nCount_RNA', 'nFeature_RNA', 'Cell_type', 'Subcategory', 'barcode', 'celltype', 'donor_id', 'sample_uuid', 'library_uuid', 'cell_type_ontology_term_id', 'author_cell_type', 'doublet_id', 'cell_type', 'assay', 'sex', 'tissue', 'development_stage', 'Patient', 'cancer', 'CD45', 'Stage annotations', 'Grade annotations', 'file integrity', 'orig.ident', 'seurat_clusters', 'patient', 'gene_clustering', 'l', 'original_seurat_clusters', 'CN_Column', 'anno', 'cluster', 'doublet_score', 'gene_per_1kUMI', 'label', 'no_genes', 'no_genes_log10', 'pct_MT', 'sample', 'total_UMI', 'Project_ID', 'percent.mt', 'percent.ribo', 'integrated_snn_res.0.2', 'SNV_GT', 'stim', 'ident', 'Suffix', 'type', 'region', 'Sample2', 'cluster_name', 'UMAP1', 'UMAP2', 'Sample_name', 'n_genes', '_scvi_batch', '_scvi_labels', 'conditions_combined', 'modality'\n",
       "    var: 'n_counts', 'highly_variable', 'highly_variable_rank', 'means', 'variances', 'variances_norm', 'highly_variable_nbatches'\n",
       "    uns: '_scvi_manager_uuid', '_scvi_uuid', 'hvg', 'log1p', 'neighbors', 'pca', 'tsne', 'umap'\n",
       "    obsm: 'Harmony', 'Scanorama', 'X_bbknn', 'X_pca', 'X_scANVI', 'X_scVI', 'X_tsne', 'X_umap', 'scPoli'\n",
       "    varm: 'PCs'\n",
       "    layers: 'counts', 'log1p_norm'\n",
       "    obsp: 'connectivities', 'distances'"
      ]
     },
     "execution_count": 21,
     "metadata": {},
     "output_type": "execute_result"
    }
   ],
   "source": [
    "selected_dataset = [\n",
    "    'Kidney_BenPublished', \n",
    "    'Kidney_BenUnpublished',\n",
    "    'Kidney_Krebs',\n",
    "    'Kidney_Liao',\n",
    "    'Kidney_Malone',\n",
    "    'Kidney_Muto', \n",
    "    'Kidney_Raji', \n",
    "    'Kidney_Wilson',\n",
    "    'Kidney_Krishna',\n",
    "    'Kidney_Wu'\n",
    "]\n",
    "\n",
    "adata_labeled = adata[adata.obs[\"harmonized_celltype\"] != 'nan']\n",
    "adata_labeled = adata_labeled[[_batch in selected_dataset for _batch in adata_labeled.obs[\"Project_ID\"]]]\n",
    "adata_labeled"
   ]
  },
  {
   "cell_type": "code",
   "execution_count": 22,
   "id": "f30a1277",
   "metadata": {},
   "outputs": [
    {
     "data": {
      "text/plain": [
       "View of AnnData object with n_obs × n_vars = 494637 × 5000\n",
       "    obs: 'batch', 'harmonized_celltype', 'donor', 'Sample', 'nCount_RNA', 'nFeature_RNA', 'Cell_type', 'Subcategory', 'barcode', 'celltype', 'donor_id', 'sample_uuid', 'library_uuid', 'cell_type_ontology_term_id', 'author_cell_type', 'doublet_id', 'cell_type', 'assay', 'sex', 'tissue', 'development_stage', 'Patient', 'cancer', 'CD45', 'Stage annotations', 'Grade annotations', 'file integrity', 'orig.ident', 'seurat_clusters', 'patient', 'gene_clustering', 'l', 'original_seurat_clusters', 'CN_Column', 'anno', 'cluster', 'doublet_score', 'gene_per_1kUMI', 'label', 'no_genes', 'no_genes_log10', 'pct_MT', 'sample', 'total_UMI', 'Project_ID', 'percent.mt', 'percent.ribo', 'integrated_snn_res.0.2', 'SNV_GT', 'stim', 'ident', 'Suffix', 'type', 'region', 'Sample2', 'cluster_name', 'UMAP1', 'UMAP2', 'Sample_name', 'n_genes', '_scvi_batch', '_scvi_labels', 'conditions_combined', 'modality'\n",
       "    var: 'n_counts', 'highly_variable', 'highly_variable_rank', 'means', 'variances', 'variances_norm', 'highly_variable_nbatches'\n",
       "    uns: '_scvi_manager_uuid', '_scvi_uuid', 'hvg', 'log1p', 'neighbors', 'pca', 'tsne', 'umap'\n",
       "    obsm: 'Harmony', 'Scanorama', 'X_bbknn', 'X_pca', 'X_scANVI', 'X_scVI', 'X_tsne', 'X_umap', 'scPoli'\n",
       "    varm: 'PCs'\n",
       "    layers: 'counts', 'log1p_norm'\n",
       "    obsp: 'connectivities', 'distances'"
      ]
     },
     "execution_count": 22,
     "metadata": {},
     "output_type": "execute_result"
    }
   ],
   "source": [
    "adata_labeled"
   ]
  },
  {
   "cell_type": "code",
   "execution_count": 23,
   "id": "6f2ffced",
   "metadata": {},
   "outputs": [
    {
     "data": {
      "text/plain": [
       "62"
      ]
     },
     "execution_count": 23,
     "metadata": {},
     "output_type": "execute_result"
    }
   ],
   "source": [
    "# https://docs.google.com/spreadsheets/d/1yS3yNlVnIlsGclgao0R9EeTPQTKF8Nx4wPupjzM3mrg/edit?gid=0#gid=0\n",
    "\n",
    "cell_types = [\n",
    "    \"SULF1+ EC-AEA\", \"EC-AEA\", \"Macro\", \"Macro\", \"cycMacro\", \"CCD-IC-A\",\n",
    "    \"OMCD-IC-A\", \"CNT-PC\", \"CNT-PC\", \"DTL\", \"DTL\", \"DTL\", \"EC-DVR\",\n",
    "    \"SLC6A6+ EC-AEA\", \"EC-GC\", \"EC-PTC\", \"EC-PTC\", \"EC-AVR\", \"IC-B\",\n",
    "    \"VSMC\", \"Pericyte\", \"MAST\", \"MC\", \"MD\", \"cycNK/T\", \"cycNK/T\", \"DC1\",\n",
    "    \"DC2\", \"IC-B|CNT doub\", \"POD\", \"POD\", \"PEC\", \"PT-S1/2\", \"PT-S1/2_nuc\",\n",
    "    \"PT-S3\", \"dPT\", \"dPT\", \"TAL\", \"TAL\", \"TAL\", \"ATL\", \"Treg\", \"CD4 T\",\n",
    "    \"CD4 T\", \"CD4 T\", \"Th17\", \"CD8 T\", \"CD8 T\", \"CD8 T\", \"ILC3\", \"NKT\",\n",
    "    \"Ciliated\", \"DCT\", \"EC-LYM\", \"OMCD-PC\", \"IMCD-PC\", \"MFAP5+aFIB\",\n",
    "    \"aFIB\", \"aFIB\", \"aFIB\", \"aPT\", \"aPT\", \"CCD-PC\", \"CCD-PC\", \"DCT\",\n",
    "    \"Neuron\", \"RBC\", \"B\", \"B\", \"PL\", \"TAL\", \"VWF+ EC-AVR\", \"VWF+ EC-AVR\",\n",
    "    \"cycEC\", \"cycPT\", \"CD16+ NK\", \"CD56bright NK\", \"pDC\", \"cMono\", \"ncMono\",\n",
    "    \"cycPapE\", \"PapE\", \"γδT\", \"dC-IC-A\"\n",
    "]\n",
    "\n",
    "\n",
    "# cell_types = [ct.lower() for ct in cell_types]\n",
    "\n",
    "len(np.unique(cell_types))"
   ]
  },
  {
   "cell_type": "code",
   "execution_count": 24,
   "id": "035a0621",
   "metadata": {},
   "outputs": [
    {
     "name": "stdout",
     "output_type": "stream",
     "text": [
      "CellType: LowQ PT; Count: 7978\n",
      "CellType: HighM PT; Count: 7793\n",
      "CellType: LowQ CNT/DCT; Count: 69\n",
      "CellType: LowQ S100A6+ EC-PTC; Count: 392\n",
      "CellType: LowQ EC-DCR; Count: 548\n",
      "CellType: LowQ DC/Macro; Count: 19\n",
      "CellType: LowQ NK; Count: 327\n",
      "CellType: LowQ dOMCD-PC; Count: 2668\n",
      "CellType: LowQ EC; Count: 2653\n",
      "CellType: MFAP5+ aFIB; Count: 282\n",
      "CellType: EC-VSMC doub; Count: 1146\n",
      "CellType: GSM4339777-specific VWF+ EC-AVR; Count: 55\n",
      "CellType: Macro-VSMC doub; Count: 392\n",
      "CellType: DCT-CNT doub; Count: 423\n",
      "CellType: HighM epithelial; Count: 274\n",
      "CellType: LowQ ATL/DTL; Count: 1158\n",
      "CellType: Epi-endo doub; Count: 51\n",
      "CellType: LowQ-Macro; Count: 465\n",
      "CellType: Epi-VSMC doub; Count: 243\n",
      "CellType: LowQ neuron; Count: 298\n",
      "CellType: S100A6+ aPT; Count: 1190\n",
      "CellType: Endo-VSMC doub; Count: 438\n",
      "CellType: S100A4+ MYRIP+ EC-DCR; Count: 95\n",
      "CellType: LowQ PCDH15+aPT; Count: 54\n",
      "CellType: PAC; Count: 43\n"
     ]
    }
   ],
   "source": [
    "for celltype in adata_labeled.obs[\"harmonized_celltype\"].unique():\n",
    "    harmomized_celltype = celltype.replace(\"LowQ \", \"\").replace(\" doub\", \"\").replace(\"HighM \", \"\")\n",
    "#     harmomized_celltype = celltype\n",
    "    if harmomized_celltype not in np.unique(cell_types):\n",
    "        if \"|\" not in celltype:\n",
    "            count = (adata_labeled.obs[\"harmonized_celltype\"] == celltype).sum()\n",
    "            print(\"CellType: %s; Count: %d\" % (celltype, count))"
   ]
  },
  {
   "cell_type": "code",
   "execution_count": 25,
   "id": "b597eaac",
   "metadata": {
    "scrolled": true
   },
   "outputs": [
    {
     "name": "stdout",
     "output_type": "stream",
     "text": [
      "CellType: LowQ PT; Count: 7978\n",
      "CellType: HighM PT; Count: 7793\n",
      "CellType: LowQ TAL; Count: 2150\n",
      "CellType: LowQ CNT/DCT; Count: 69\n",
      "CellType: LowQ S100A6+ EC-PTC; Count: 392\n",
      "CellType: PT|S100A6- CD4 T doub; Count: 43\n",
      "CellType: LowQ Macro; Count: 5090\n",
      "CellType: CNT|CCD-IC-A doub; Count: 38\n",
      "CellType: LowQ EC-DCR; Count: 548\n",
      "CellType: PT|CCD-IC-A doub; Count: 30\n",
      "CellType: HighM cMono; Count: 17\n",
      "CellType: Macro|aPT doub; Count: 1793\n",
      "CellType: Stressed Macro|aPT doub; Count: 255\n",
      "CellType: LowQ EC-PTC; Count: 70\n",
      "CellType: LowQ DC/Macro; Count: 19\n",
      "CellType: LowQ NK; Count: 327\n",
      "CellType: PEC|TAL doub; Count: 41\n",
      "CellType: Macro|CD8 T doub; Count: 8\n",
      "CellType: LowQ CD4 T; Count: 15\n",
      "CellType: DCT|aPT doub; Count: 6\n",
      "CellType: dPT|T doub; Count: 2788\n",
      "CellType: LowQ dPT; Count: 27\n",
      "CellType: TAL|PT doub; Count: 43\n",
      "CellType: CCD-IC-A|PT doub; Count: 779\n",
      "CellType: TAL|EC doub; Count: 3664\n",
      "CellType: LowQ dOMCD-PC; Count: 2668\n",
      "CellType: CNT|Macro doub; Count: 363\n",
      "CellType: aPT|aFIB doub; Count: 397\n",
      "CellType: S100A4- MYRIP+ EC-DCR|T doub; Count: 412\n",
      "CellType: TAL|EC|OMCD doub; Count: 1538\n",
      "CellType: TA|B doub; Count: 41\n",
      "CellType: EC-LYM|dOMCD-PC doub; Count: 111\n",
      "CellType: S100A6+ EC-PTC|dPT doub; Count: 2158\n",
      "CellType: TAL|DTL doub; Count: 1028\n",
      "CellType: dOMCD-PC|PT doub; Count: 259\n",
      "CellType: LowQ VSMC; Count: 1646\n",
      "CellType: DTL|T doub; Count: 138\n",
      "CellType: EC|Macro doub; Count: 1379\n",
      "CellType: LowQ EC; Count: 2653\n",
      "CellType: dC-IC-A/tPC-IC|dOMCD-PC doub; Count: 1743\n",
      "CellType: CCD-IC-A|TAL doub; Count: 342\n",
      "CellType: EC|DTL doub; Count: 1124\n",
      "CellType: TAL|Macro doub; Count: 702\n",
      "CellType: aFIB|EC doub; Count: 838\n",
      "CellType: TAL|dPT doub; Count: 231\n",
      "CellType: IC-B|EC doub; Count: 166\n",
      "CellType: TAL|T doub; Count: 1416\n",
      "CellType: IC-B|dOMCD-PC doub; Count: 409\n",
      "CellType: DTL|ncMono doub; Count: 115\n",
      "CellType: TAL|dOMCD-PC doub; Count: 829\n",
      "CellType: LowQ aFIB; Count: 254\n",
      "CellType: EC|B doub; Count: 62\n",
      "CellType: S100A4+ EC-AVR|S100A4- MYRIP+ EC-DCR doub; Count: 135\n",
      "CellType: aTAL|CNT-PC doub; Count: 520\n",
      "CellType: MFAP5+ aFIB; Count: 282\n",
      "CellType: CCD-IC-A|Macro doub; Count: 165\n",
      "CellType: S100A6+ EC-PTC|T doub; Count: 1465\n",
      "CellType: aFIB|Macro doub; Count: 489\n",
      "CellType: T|TAL doub; Count: 22\n",
      "CellType: CCD-IC-A|EC doub; Count: 235\n",
      "CellType: Macro|T doub; Count: 1060\n",
      "CellType: aTAL|T doub; Count: 703\n",
      "CellType: CNT|dOMCD-PC doub; Count: 940\n",
      "CellType: TAL|aTAL doub; Count: 930\n",
      "CellType: DCT|EC doub; Count: 102\n",
      "CellType: IC-B|T doub; Count: 164\n",
      "CellType: aTAL|EC doub; Count: 690\n",
      "CellType: EC-VSMC doub; Count: 1146\n",
      "CellType: CNT|EC doub; Count: 326\n",
      "CellType: TAL|aPT doub; Count: 51\n",
      "CellType: aFIB|TAL doub; Count: 313\n",
      "CellType: NK|S100A4+ EC-AVR doub; Count: 119\n",
      "CellType: S100A4+ EC-AVR|T doub; Count: 232\n",
      "CellType: aFIB|T doub; Count: 698\n",
      "CellType: T|VSMC doub; Count: 658\n",
      "CellType: Macro|TAL doub; Count: 576\n",
      "CellType: Ciliated|aTAL doub; Count: 38\n",
      "CellType: aFIB|aTAL doub; Count: 708\n",
      "CellType: Macro|DTL doub; Count: 42\n",
      "CellType: S100A6+ EC-PTC|NK doub; Count: 249\n",
      "CellType: GSM4339777-specific VWF+ EC-AVR; Count: 55\n",
      "CellType: dC-IC-A/tPC-IC|DCT doub; Count: 134\n",
      "CellType: CNT|aFIB doub; Count: 142\n",
      "CellType: MC|EC doub; Count: 158\n",
      "CellType: MC|Macro doub; Count: 60\n",
      "CellType: MC|T doub; Count: 98\n",
      "CellType: dC-IC-A/tPC-IC||aPT doub; Count: 86\n",
      "CellType: dC-IC-A/tPC-IC|aFIB doub; Count: 124\n",
      "CellType: aTAL|VSMC doub; Count: 121\n",
      "CellType: CNT|T doub; Count: 194\n",
      "CellType: MC|aTAL doub; Count: 112\n",
      "CellType: aFIB|VSMC doub; Count: 118\n",
      "CellType: CNT|aTAL doub; Count: 222\n",
      "CellType: TAL|VSMC doub; Count: 149\n",
      "CellType: Macro-VSMC doub; Count: 392\n",
      "CellType: T|B doub; Count: 31\n",
      "CellType: EC-LYM|aFIB doub; Count: 8\n",
      "CellType: CCD-PC|CNT doub; Count: 3084\n",
      "CellType: DCT-CNT doub; Count: 423\n",
      "CellType: TAL|DCT doub; Count: 30\n",
      "CellType: DCT|TAL doub; Count: 181\n",
      "CellType: TAL|PCDH15+ aPT doub; Count: 703\n",
      "CellType: PCDH15+ aPT|EC-GC doub; Count: 44\n",
      "CellType: HighM epithelial; Count: 274\n",
      "CellType: PCDH15+ aPT|S100A6- EC-PTC doub; Count: 109\n",
      "CellType: PCDH15+ aPT|CD4 T doub; Count: 49\n",
      "CellType: CCD-PC|PCDH15+ aPT doub; Count: 6\n",
      "CellType: LowQ ATL/DTL; Count: 1158\n",
      "CellType: Epi-endo doub; Count: 51\n",
      "CellType: LowQ-Macro; Count: 465\n",
      "CellType: Epi-VSMC doub; Count: 243\n",
      "CellType: LowQ neuron; Count: 298\n",
      "CellType: EC|T doub; Count: 301\n",
      "CellType: S100A6+ aPT; Count: 1190\n",
      "CellType: Endo-VSMC doub; Count: 438\n",
      "CellType: TAL|PT-S1/2 doub; Count: 82\n",
      "CellType: S100A4+ MYRIP+ EC-DCR; Count: 95\n",
      "CellType: EC-GC|Epi doub; Count: 78\n",
      "CellType: MC|EC-GC doub; Count: 362\n",
      "CellType: CNT-PC|aPT doub; Count: 49\n",
      "CellType: TAL|IC-A doub; Count: 72\n",
      "CellType: aPT|EC-GC doub; Count: 9\n",
      "CellType: LowQ PCDH15+aPT; Count: 54\n",
      "CellType: PAC; Count: 43\n",
      "CellType: EC-PTC|EC-AEA doub; Count: 266\n",
      "CellType: CD16+ NK|T doub; Count: 290\n",
      "CellType: LowQ CCD-IC-A; Count: 69\n",
      "CellType: EC|Mono doub; Count: 16\n"
     ]
    }
   ],
   "source": [
    "for celltype in adata_labeled.obs[\"harmonized_celltype\"].unique():\n",
    "    harmomized_celltype = celltype\n",
    "    if harmomized_celltype not in np.unique(cell_types):\n",
    "        count = (adata_labeled.obs[\"harmonized_celltype\"] == celltype).sum()\n",
    "        print(\"CellType: %s; Count: %d\" % (celltype, count))"
   ]
  },
  {
   "cell_type": "code",
   "execution_count": 29,
   "id": "c13c86ea",
   "metadata": {
    "scrolled": true
   },
   "outputs": [
    {
     "data": {
      "text/plain": [
       "411838"
      ]
     },
     "execution_count": 29,
     "metadata": {},
     "output_type": "execute_result"
    }
   ],
   "source": [
    "# np.sum([celltype.lower() in cell_types for celltype in adata.obs[\"harmonized_celltype\"]])"
   ]
  },
  {
   "cell_type": "code",
   "execution_count": 26,
   "id": "0e1b4528",
   "metadata": {},
   "outputs": [
    {
     "data": {
      "text/plain": [
       "411838"
      ]
     },
     "execution_count": 26,
     "metadata": {},
     "output_type": "execute_result"
    }
   ],
   "source": [
    "np.sum([celltype in cell_types for celltype in adata_labeled.obs[\"harmonized_celltype\"]])"
   ]
  },
  {
   "cell_type": "code",
   "execution_count": 27,
   "id": "7a11a5ae",
   "metadata": {},
   "outputs": [
    {
     "data": {
      "text/plain": [
       "View of AnnData object with n_obs × n_vars = 411838 × 5000\n",
       "    obs: 'batch', 'harmonized_celltype', 'donor', 'Sample', 'nCount_RNA', 'nFeature_RNA', 'Cell_type', 'Subcategory', 'barcode', 'celltype', 'donor_id', 'sample_uuid', 'library_uuid', 'cell_type_ontology_term_id', 'author_cell_type', 'doublet_id', 'cell_type', 'assay', 'sex', 'tissue', 'development_stage', 'Patient', 'cancer', 'CD45', 'Stage annotations', 'Grade annotations', 'file integrity', 'orig.ident', 'seurat_clusters', 'patient', 'gene_clustering', 'l', 'original_seurat_clusters', 'CN_Column', 'anno', 'cluster', 'doublet_score', 'gene_per_1kUMI', 'label', 'no_genes', 'no_genes_log10', 'pct_MT', 'sample', 'total_UMI', 'Project_ID', 'percent.mt', 'percent.ribo', 'integrated_snn_res.0.2', 'SNV_GT', 'stim', 'ident', 'Suffix', 'type', 'region', 'Sample2', 'cluster_name', 'UMAP1', 'UMAP2', 'Sample_name', 'n_genes', '_scvi_batch', '_scvi_labels', 'conditions_combined', 'modality'\n",
       "    var: 'n_counts', 'highly_variable', 'highly_variable_rank', 'means', 'variances', 'variances_norm', 'highly_variable_nbatches'\n",
       "    uns: '_scvi_manager_uuid', '_scvi_uuid', 'hvg', 'log1p', 'neighbors', 'pca', 'tsne', 'umap'\n",
       "    obsm: 'Harmony', 'Scanorama', 'X_bbknn', 'X_pca', 'X_scANVI', 'X_scVI', 'X_tsne', 'X_umap', 'scPoli'\n",
       "    varm: 'PCs'\n",
       "    layers: 'counts', 'log1p_norm'\n",
       "    obsp: 'connectivities', 'distances'"
      ]
     },
     "execution_count": 27,
     "metadata": {},
     "output_type": "execute_result"
    }
   ],
   "source": [
    "adata_harmonized = adata_labeled[[celltype in cell_types for celltype in adata_labeled.obs[\"harmonized_celltype\"]]]\n",
    "adata_harmonized"
   ]
  },
  {
   "cell_type": "code",
   "execution_count": 28,
   "id": "2363697a",
   "metadata": {},
   "outputs": [],
   "source": [
    "adata_harmonized.write_h5ad(\"Kidney_Combined_hvg5k_LabeledSubset.h5ad\", compression=\"gzip\")"
   ]
  },
  {
   "cell_type": "code",
   "execution_count": null,
   "id": "7f4b0fca",
   "metadata": {},
   "outputs": [],
   "source": []
  }
 ],
 "metadata": {
  "kernelspec": {
   "display_name": "scIntegrater",
   "language": "python",
   "name": "scintegrater"
  },
  "language_info": {
   "codemirror_mode": {
    "name": "ipython",
    "version": 3
   },
   "file_extension": ".py",
   "mimetype": "text/x-python",
   "name": "python",
   "nbconvert_exporter": "python",
   "pygments_lexer": "ipython3",
   "version": "3.9.18"
  }
 },
 "nbformat": 4,
 "nbformat_minor": 5
}
