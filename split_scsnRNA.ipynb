{
 "cells": [
  {
   "cell_type": "code",
   "execution_count": 4,
   "id": "5b818a3d-4ca1-4cf1-be22-0d9872cb5148",
   "metadata": {},
   "outputs": [],
   "source": [
    "import scanpy as sc, warnings, numpy as np, pandas as pd\n",
    "sc.settings.set_figure_params(dpi=80, facecolor=\"white\", frameon=False)\n",
    "from tqdm.auto import tqdm\n",
    "sc.settings.verbosity = 3\n",
    "warnings.filterwarnings(\"ignore\")"
   ]
  },
  {
   "cell_type": "markdown",
   "id": "e6747111-aaca-4b57-a68f-7bf20a60115c",
   "metadata": {},
   "source": [
    "### save sepreate datasets"
   ]
  },
  {
   "cell_type": "code",
   "execution_count": 3,
   "id": "afb5ab5c-8f80-4b68-aee4-918d49517fa1",
   "metadata": {},
   "outputs": [
    {
     "name": "stdout",
     "output_type": "stream",
     "text": [
      "CPU times: user 4.84 s, sys: 9.28 s, total: 14.1 s\n",
      "Wall time: 25.2 s\n"
     ]
    },
    {
     "data": {
      "text/plain": [
       "AnnData object with n_obs × n_vars = 2340396 × 36601\n",
       "    obs: 'batch', 'harmonized_celltype', 'donor', 'Sample', 'nCount_RNA', 'nFeature_RNA', 'Cell_type', 'Subcategory', 'barcode', 'celltype', 'donor_id', 'sample_uuid', 'library_uuid', 'cell_type_ontology_term_id', 'author_cell_type', 'doublet_id', 'cell_type', 'assay', 'sex', 'tissue', 'development_stage', 'Patient', 'cancer', 'CD45', 'Stage annotations', 'Grade annotations', 'file integrity', 'orig.ident', 'seurat_clusters', 'patient', 'gene_clustering', 'l', 'original_seurat_clusters', 'CN_Column', 'anno', 'cluster', 'doublet_score', 'gene_per_1kUMI', 'label', 'no_genes', 'no_genes_log10', 'pct_MT', 'sample', 'total_UMI', 'Project_ID', 'percent.mt', 'percent.ribo', 'integrated_snn_res.0.2', 'SNV_GT', 'stim', 'ident', 'Suffix', 'type', 'region', 'Sample2', 'cluster_name', 'UMAP1', 'UMAP2', 'Sample_name'"
      ]
     },
     "execution_count": 3,
     "metadata": {},
     "output_type": "execute_result"
    }
   ],
   "source": [
    "%%time\n",
    "\n",
    "adata = sc.read_h5ad(\"Kidney_Combined_cellbender_v2.h5ad\")\n",
    "columns_to_drop = [col for col in adata.obs.columns if \"RNA_snn\" in col or \"_prob\" in col]\n",
    "adata.obs.drop(columns=columns_to_drop, inplace=True)\n",
    "adata"
   ]
  },
  {
   "cell_type": "code",
   "execution_count": 4,
   "id": "83611aab",
   "metadata": {},
   "outputs": [
    {
     "name": "stdout",
     "output_type": "stream",
     "text": [
      "filtered out 364830 cells that have less than 1 genes expressed\n",
      "filtered out 2464 genes that are detected in less than 1 counts\n"
     ]
    }
   ],
   "source": [
    "sc.pp.filter_cells(adata, min_genes=1)\n",
    "sc.pp.filter_genes(adata, min_counts=1)"
   ]
  },
  {
   "cell_type": "code",
   "execution_count": 5,
   "id": "4225d33b",
   "metadata": {},
   "outputs": [],
   "source": [
    "snrna_dataset = [\n",
    "    'Kidney_Muto2', \n",
    "    'Kidney_Muto',\n",
    "    'Kidney_Wilson2',\n",
    "    'Kidney_Wilson',\n",
    "    'Kidney_Lake', \n",
    "    'Kidney_Wu'\n",
    "]\n",
    "\n",
    "for item in snrna_dataset:\n",
    "    assert item in adata.obs[\"Project_ID\"].values\n",
    "\n",
    "\n",
    "adata.obs[\"modality\"] = \"scrna\"\n",
    "mask = [item in snrna_dataset for item in adata.obs[\"Project_ID\"].values]\n",
    "adata.obs.loc[mask, \"modality\"] = \"snrna\""
   ]
  },
  {
   "cell_type": "code",
   "execution_count": 7,
   "id": "2199232a",
   "metadata": {},
   "outputs": [
    {
     "name": "stderr",
     "output_type": "stream",
     "text": [
      "/home/wangh256/anaconda3/envs/scIntegrater/lib/python3.9/site-packages/anndata/_core/anndata.py:1209: ImplicitModificationWarning: Trying to modify attribute `.obs` of view, initializing view as actual.\n",
      "  df[key] = c\n"
     ]
    }
   ],
   "source": [
    "%%time\n",
    "adata[adata.obs[\"modality\"] == \"snrna\"].write(\"Kidney_Combined_sn.h5ad\", compression=\"gzip\")"
   ]
  },
  {
   "cell_type": "code",
   "execution_count": 8,
   "id": "0b9629ae",
   "metadata": {},
   "outputs": [
    {
     "name": "stderr",
     "output_type": "stream",
     "text": [
      "/home/wangh256/anaconda3/envs/scIntegrater/lib/python3.9/site-packages/anndata/_core/anndata.py:1209: ImplicitModificationWarning: Trying to modify attribute `.obs` of view, initializing view as actual.\n",
      "  df[key] = c\n"
     ]
    }
   ],
   "source": [
    "%%time\n",
    "adata[adata.obs[\"modality\"] == \"scrna\"].write(\"Kidney_Combined_sc.h5ad\", compression=\"gzip\")"
   ]
  },
  {
   "cell_type": "markdown",
   "id": "a9f99499",
   "metadata": {},
   "source": [
    "### Check runned integration"
   ]
  },
  {
   "cell_type": "code",
   "execution_count": 5,
   "id": "5c36f453",
   "metadata": {},
   "outputs": [
    {
     "data": {
      "text/plain": [
       "AnnData object with n_obs × n_vars = 362175 × 5000\n",
       "    obs: 'batch', 'harmonized_celltype', 'donor', 'Sample', 'nCount_RNA', 'nFeature_RNA', 'Cell_type', 'Subcategory', 'barcode', 'celltype', 'donor_id', 'sample_uuid', 'library_uuid', 'cell_type_ontology_term_id', 'author_cell_type', 'doublet_id', 'cell_type', 'assay', 'sex', 'tissue', 'development_stage', 'Patient', 'cancer', 'CD45', 'Stage annotations', 'Grade annotations', 'file integrity', 'orig.ident', 'seurat_clusters', 'patient', 'gene_clustering', 'l', 'original_seurat_clusters', 'CN_Column', 'anno', 'cluster', 'doublet_score', 'gene_per_1kUMI', 'label', 'no_genes', 'no_genes_log10', 'pct_MT', 'sample', 'total_UMI', 'Project_ID', 'percent.mt', 'percent.ribo', 'integrated_snn_res.0.2', 'SNV_GT', 'stim', 'ident', 'Suffix', 'type', 'region', 'Sample2', 'cluster_name', 'UMAP1', 'UMAP2', 'Sample_name', 'n_genes', 'modality', '_scvi_batch', '_scvi_labels', 'conditions_combined'\n",
       "    var: 'n_counts', 'highly_variable', 'highly_variable_rank', 'means', 'variances', 'variances_norm', 'highly_variable_nbatches'\n",
       "    uns: '_scvi_manager_uuid', '_scvi_uuid', 'hvg', 'log1p', 'neighbors', 'pca', 'tsne', 'umap'\n",
       "    obsm: 'Harmony', 'Scanorama', 'X_bbknn', 'X_pca', 'X_scANVI', 'X_scVI', 'X_tsne', 'X_umap', 'scPoli'\n",
       "    varm: 'PCs'\n",
       "    layers: 'counts', 'log1p_norm'\n",
       "    obsp: 'connectivities', 'distances'"
      ]
     },
     "execution_count": 5,
     "metadata": {},
     "output_type": "execute_result"
    }
   ],
   "source": [
    "adata = sc.read_h5ad(\"Kidney_Combined_sn_hvg5k.h5ad\")\n",
    "adata"
   ]
  },
  {
   "cell_type": "code",
   "execution_count": 6,
   "id": "f52d77d7",
   "metadata": {},
   "outputs": [
    {
     "data": {
      "text/plain": [
       "AxisArrays with keys: Harmony, Scanorama, X_bbknn, X_pca, X_scANVI, X_scVI, X_tsne, X_umap, scPoli"
      ]
     },
     "execution_count": 6,
     "metadata": {},
     "output_type": "execute_result"
    }
   ],
   "source": [
    "adata.obsm"
   ]
  },
  {
   "cell_type": "code",
   "execution_count": 8,
   "id": "d6ed4ed0",
   "metadata": {},
   "outputs": [],
   "source": [
    "del adata.obsm[\"X_scANVI\"]\n",
    "del adata.obsm[\"scPoli\"]"
   ]
  },
  {
   "cell_type": "code",
   "execution_count": null,
   "id": "3b5a5846",
   "metadata": {},
   "outputs": [],
   "source": [
    "## saved labeled subset\n"
   ]
  }
 ],
 "metadata": {
  "kernelspec": {
   "display_name": "scIntegrater",
   "language": "python",
   "name": "scintegrater"
  },
  "language_info": {
   "codemirror_mode": {
    "name": "ipython",
    "version": 3
   },
   "file_extension": ".py",
   "mimetype": "text/x-python",
   "name": "python",
   "nbconvert_exporter": "python",
   "pygments_lexer": "ipython3",
   "version": "3.9.18"
  }
 },
 "nbformat": 4,
 "nbformat_minor": 5
}
